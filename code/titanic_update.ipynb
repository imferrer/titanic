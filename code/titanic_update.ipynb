{
 "cells": [
  {
   "cell_type": "markdown",
   "id": "f3e7f771-def3-4221-9be8-e423dd434f16",
   "metadata": {},
   "source": [
    "# Titanic Machine Learning project by Ismael Martínez"
   ]
  },
  {
   "cell_type": "markdown",
   "id": "9aa2bb73-90fc-44fa-9f33-16c18770fb24",
   "metadata": {},
   "source": [
    "Importing libraries and loading files"
   ]
  },
  {
   "cell_type": "code",
   "execution_count": 1,
   "id": "0c14aa2a-32e1-44ed-b4fa-638e3858d7d1",
   "metadata": {},
   "outputs": [],
   "source": [
    "import numpy as np\n",
    "import pandas as pd\n",
    "import matplotlib.pyplot as plt\n",
    "import seaborn as sns\n",
    "\n",
    "from sklearn.preprocessing import StandardScaler, MinMaxScaler, OneHotEncoder, KBinsDiscretizer\n",
    "from sklearn.impute import SimpleImputer\n",
    "from sklearn.pipeline import Pipeline, make_pipeline\n",
    "from sklearn.compose import ColumnTransformer\n",
    "from sklearn.dummy import DummyClassifier\n",
    "from sklearn.model_selection import train_test_split\n",
    "from sklearn.linear_model import LogisticRegression\n",
    "from sklearn.tree import DecisionTreeClassifier, plot_tree\n",
    "from sklearn.ensemble import RandomForestClassifier"
   ]
  },
  {
   "cell_type": "code",
   "execution_count": 2,
   "id": "549e79a5",
   "metadata": {},
   "outputs": [],
   "source": [
    "from sklearn.metrics import accuracy_score \n",
    "from sklearn.metrics import precision_score, recall_score, f1_score\n",
    "from sklearn.metrics import plot_roc_curve, roc_curve, auc\n",
    "from sklearn.metrics import confusion_matrix\n",
    "from sklearn.metrics import plot_confusion_matrix"
   ]
  },
  {
   "cell_type": "code",
   "execution_count": 3,
   "id": "13cb21c6",
   "metadata": {},
   "outputs": [],
   "source": [
    "# m = DummyClassifier(strategy='most_frequent'); strategy='stratified'"
   ]
  },
  {
   "cell_type": "code",
   "execution_count": 4,
   "id": "2b558461",
   "metadata": {},
   "outputs": [],
   "source": [
    "# plt.style.use('seaborn')"
   ]
  },
  {
   "cell_type": "markdown",
   "id": "20bd7f58-a163-4467-89a6-d81bc82c42e9",
   "metadata": {},
   "source": [
    "## 1. Examining the data and Exercises"
   ]
  },
  {
   "cell_type": "code",
   "execution_count": 5,
   "id": "4d769be0-9da1-4282-9314-4ecec9f827d2",
   "metadata": {},
   "outputs": [],
   "source": [
    "full_data = pd.read_csv('../data/train.csv')"
   ]
  },
  {
   "cell_type": "code",
   "execution_count": 6,
   "id": "077ab8a3-b0c8-44c9-8d48-d72825079e25",
   "metadata": {},
   "outputs": [
    {
     "data": {
      "text/html": [
       "<div>\n",
       "<style scoped>\n",
       "    .dataframe tbody tr th:only-of-type {\n",
       "        vertical-align: middle;\n",
       "    }\n",
       "\n",
       "    .dataframe tbody tr th {\n",
       "        vertical-align: top;\n",
       "    }\n",
       "\n",
       "    .dataframe thead th {\n",
       "        text-align: right;\n",
       "    }\n",
       "</style>\n",
       "<table border=\"1\" class=\"dataframe\">\n",
       "  <thead>\n",
       "    <tr style=\"text-align: right;\">\n",
       "      <th></th>\n",
       "      <th>PassengerId</th>\n",
       "      <th>Survived</th>\n",
       "      <th>Pclass</th>\n",
       "      <th>Name</th>\n",
       "      <th>Sex</th>\n",
       "      <th>Age</th>\n",
       "      <th>SibSp</th>\n",
       "      <th>Parch</th>\n",
       "      <th>Ticket</th>\n",
       "      <th>Fare</th>\n",
       "      <th>Cabin</th>\n",
       "      <th>Embarked</th>\n",
       "    </tr>\n",
       "  </thead>\n",
       "  <tbody>\n",
       "    <tr>\n",
       "      <th>0</th>\n",
       "      <td>1</td>\n",
       "      <td>0</td>\n",
       "      <td>3</td>\n",
       "      <td>Braund, Mr. Owen Harris</td>\n",
       "      <td>male</td>\n",
       "      <td>22.0</td>\n",
       "      <td>1</td>\n",
       "      <td>0</td>\n",
       "      <td>A/5 21171</td>\n",
       "      <td>7.2500</td>\n",
       "      <td>NaN</td>\n",
       "      <td>S</td>\n",
       "    </tr>\n",
       "    <tr>\n",
       "      <th>1</th>\n",
       "      <td>2</td>\n",
       "      <td>1</td>\n",
       "      <td>1</td>\n",
       "      <td>Cumings, Mrs. John Bradley (Florence Briggs Th...</td>\n",
       "      <td>female</td>\n",
       "      <td>38.0</td>\n",
       "      <td>1</td>\n",
       "      <td>0</td>\n",
       "      <td>PC 17599</td>\n",
       "      <td>71.2833</td>\n",
       "      <td>C85</td>\n",
       "      <td>C</td>\n",
       "    </tr>\n",
       "    <tr>\n",
       "      <th>2</th>\n",
       "      <td>3</td>\n",
       "      <td>1</td>\n",
       "      <td>3</td>\n",
       "      <td>Heikkinen, Miss. Laina</td>\n",
       "      <td>female</td>\n",
       "      <td>26.0</td>\n",
       "      <td>0</td>\n",
       "      <td>0</td>\n",
       "      <td>STON/O2. 3101282</td>\n",
       "      <td>7.9250</td>\n",
       "      <td>NaN</td>\n",
       "      <td>S</td>\n",
       "    </tr>\n",
       "    <tr>\n",
       "      <th>3</th>\n",
       "      <td>4</td>\n",
       "      <td>1</td>\n",
       "      <td>1</td>\n",
       "      <td>Futrelle, Mrs. Jacques Heath (Lily May Peel)</td>\n",
       "      <td>female</td>\n",
       "      <td>35.0</td>\n",
       "      <td>1</td>\n",
       "      <td>0</td>\n",
       "      <td>113803</td>\n",
       "      <td>53.1000</td>\n",
       "      <td>C123</td>\n",
       "      <td>S</td>\n",
       "    </tr>\n",
       "    <tr>\n",
       "      <th>4</th>\n",
       "      <td>5</td>\n",
       "      <td>0</td>\n",
       "      <td>3</td>\n",
       "      <td>Allen, Mr. William Henry</td>\n",
       "      <td>male</td>\n",
       "      <td>35.0</td>\n",
       "      <td>0</td>\n",
       "      <td>0</td>\n",
       "      <td>373450</td>\n",
       "      <td>8.0500</td>\n",
       "      <td>NaN</td>\n",
       "      <td>S</td>\n",
       "    </tr>\n",
       "    <tr>\n",
       "      <th>...</th>\n",
       "      <td>...</td>\n",
       "      <td>...</td>\n",
       "      <td>...</td>\n",
       "      <td>...</td>\n",
       "      <td>...</td>\n",
       "      <td>...</td>\n",
       "      <td>...</td>\n",
       "      <td>...</td>\n",
       "      <td>...</td>\n",
       "      <td>...</td>\n",
       "      <td>...</td>\n",
       "      <td>...</td>\n",
       "    </tr>\n",
       "    <tr>\n",
       "      <th>886</th>\n",
       "      <td>887</td>\n",
       "      <td>0</td>\n",
       "      <td>2</td>\n",
       "      <td>Montvila, Rev. Juozas</td>\n",
       "      <td>male</td>\n",
       "      <td>27.0</td>\n",
       "      <td>0</td>\n",
       "      <td>0</td>\n",
       "      <td>211536</td>\n",
       "      <td>13.0000</td>\n",
       "      <td>NaN</td>\n",
       "      <td>S</td>\n",
       "    </tr>\n",
       "    <tr>\n",
       "      <th>887</th>\n",
       "      <td>888</td>\n",
       "      <td>1</td>\n",
       "      <td>1</td>\n",
       "      <td>Graham, Miss. Margaret Edith</td>\n",
       "      <td>female</td>\n",
       "      <td>19.0</td>\n",
       "      <td>0</td>\n",
       "      <td>0</td>\n",
       "      <td>112053</td>\n",
       "      <td>30.0000</td>\n",
       "      <td>B42</td>\n",
       "      <td>S</td>\n",
       "    </tr>\n",
       "    <tr>\n",
       "      <th>888</th>\n",
       "      <td>889</td>\n",
       "      <td>0</td>\n",
       "      <td>3</td>\n",
       "      <td>Johnston, Miss. Catherine Helen \"Carrie\"</td>\n",
       "      <td>female</td>\n",
       "      <td>NaN</td>\n",
       "      <td>1</td>\n",
       "      <td>2</td>\n",
       "      <td>W./C. 6607</td>\n",
       "      <td>23.4500</td>\n",
       "      <td>NaN</td>\n",
       "      <td>S</td>\n",
       "    </tr>\n",
       "    <tr>\n",
       "      <th>889</th>\n",
       "      <td>890</td>\n",
       "      <td>1</td>\n",
       "      <td>1</td>\n",
       "      <td>Behr, Mr. Karl Howell</td>\n",
       "      <td>male</td>\n",
       "      <td>26.0</td>\n",
       "      <td>0</td>\n",
       "      <td>0</td>\n",
       "      <td>111369</td>\n",
       "      <td>30.0000</td>\n",
       "      <td>C148</td>\n",
       "      <td>C</td>\n",
       "    </tr>\n",
       "    <tr>\n",
       "      <th>890</th>\n",
       "      <td>891</td>\n",
       "      <td>0</td>\n",
       "      <td>3</td>\n",
       "      <td>Dooley, Mr. Patrick</td>\n",
       "      <td>male</td>\n",
       "      <td>32.0</td>\n",
       "      <td>0</td>\n",
       "      <td>0</td>\n",
       "      <td>370376</td>\n",
       "      <td>7.7500</td>\n",
       "      <td>NaN</td>\n",
       "      <td>Q</td>\n",
       "    </tr>\n",
       "  </tbody>\n",
       "</table>\n",
       "<p>891 rows × 12 columns</p>\n",
       "</div>"
      ],
      "text/plain": [
       "     PassengerId  Survived  Pclass  \\\n",
       "0              1         0       3   \n",
       "1              2         1       1   \n",
       "2              3         1       3   \n",
       "3              4         1       1   \n",
       "4              5         0       3   \n",
       "..           ...       ...     ...   \n",
       "886          887         0       2   \n",
       "887          888         1       1   \n",
       "888          889         0       3   \n",
       "889          890         1       1   \n",
       "890          891         0       3   \n",
       "\n",
       "                                                  Name     Sex   Age  SibSp  \\\n",
       "0                              Braund, Mr. Owen Harris    male  22.0      1   \n",
       "1    Cumings, Mrs. John Bradley (Florence Briggs Th...  female  38.0      1   \n",
       "2                               Heikkinen, Miss. Laina  female  26.0      0   \n",
       "3         Futrelle, Mrs. Jacques Heath (Lily May Peel)  female  35.0      1   \n",
       "4                             Allen, Mr. William Henry    male  35.0      0   \n",
       "..                                                 ...     ...   ...    ...   \n",
       "886                              Montvila, Rev. Juozas    male  27.0      0   \n",
       "887                       Graham, Miss. Margaret Edith  female  19.0      0   \n",
       "888           Johnston, Miss. Catherine Helen \"Carrie\"  female   NaN      1   \n",
       "889                              Behr, Mr. Karl Howell    male  26.0      0   \n",
       "890                                Dooley, Mr. Patrick    male  32.0      0   \n",
       "\n",
       "     Parch            Ticket     Fare Cabin Embarked  \n",
       "0        0         A/5 21171   7.2500   NaN        S  \n",
       "1        0          PC 17599  71.2833   C85        C  \n",
       "2        0  STON/O2. 3101282   7.9250   NaN        S  \n",
       "3        0            113803  53.1000  C123        S  \n",
       "4        0            373450   8.0500   NaN        S  \n",
       "..     ...               ...      ...   ...      ...  \n",
       "886      0            211536  13.0000   NaN        S  \n",
       "887      0            112053  30.0000   B42        S  \n",
       "888      2        W./C. 6607  23.4500   NaN        S  \n",
       "889      0            111369  30.0000  C148        C  \n",
       "890      0            370376   7.7500   NaN        Q  \n",
       "\n",
       "[891 rows x 12 columns]"
      ]
     },
     "execution_count": 6,
     "metadata": {},
     "output_type": "execute_result"
    }
   ],
   "source": [
    "full_data"
   ]
  },
  {
   "cell_type": "code",
   "execution_count": 7,
   "id": "7625633b-416c-41ea-a8d5-85cd978a9d2e",
   "metadata": {},
   "outputs": [
    {
     "name": "stdout",
     "output_type": "stream",
     "text": [
      "<class 'pandas.core.frame.DataFrame'>\n",
      "RangeIndex: 891 entries, 0 to 890\n",
      "Data columns (total 12 columns):\n",
      " #   Column       Non-Null Count  Dtype  \n",
      "---  ------       --------------  -----  \n",
      " 0   PassengerId  891 non-null    int64  \n",
      " 1   Survived     891 non-null    int64  \n",
      " 2   Pclass       891 non-null    int64  \n",
      " 3   Name         891 non-null    object \n",
      " 4   Sex          891 non-null    object \n",
      " 5   Age          714 non-null    float64\n",
      " 6   SibSp        891 non-null    int64  \n",
      " 7   Parch        891 non-null    int64  \n",
      " 8   Ticket       891 non-null    object \n",
      " 9   Fare         891 non-null    float64\n",
      " 10  Cabin        204 non-null    object \n",
      " 11  Embarked     889 non-null    object \n",
      "dtypes: float64(2), int64(5), object(5)\n",
      "memory usage: 83.7+ KB\n"
     ]
    }
   ],
   "source": [
    "full_data.info()"
   ]
  },
  {
   "cell_type": "code",
   "execution_count": 8,
   "id": "7d31b9c1-235d-4b5a-ad79-20624e4e4f64",
   "metadata": {},
   "outputs": [
    {
     "data": {
      "text/html": [
       "<div>\n",
       "<style scoped>\n",
       "    .dataframe tbody tr th:only-of-type {\n",
       "        vertical-align: middle;\n",
       "    }\n",
       "\n",
       "    .dataframe tbody tr th {\n",
       "        vertical-align: top;\n",
       "    }\n",
       "\n",
       "    .dataframe thead th {\n",
       "        text-align: right;\n",
       "    }\n",
       "</style>\n",
       "<table border=\"1\" class=\"dataframe\">\n",
       "  <thead>\n",
       "    <tr style=\"text-align: right;\">\n",
       "      <th></th>\n",
       "      <th>PassengerId</th>\n",
       "      <th>Survived</th>\n",
       "      <th>Pclass</th>\n",
       "      <th>Age</th>\n",
       "      <th>SibSp</th>\n",
       "      <th>Parch</th>\n",
       "      <th>Fare</th>\n",
       "    </tr>\n",
       "  </thead>\n",
       "  <tbody>\n",
       "    <tr>\n",
       "      <th>count</th>\n",
       "      <td>891.000000</td>\n",
       "      <td>891.000000</td>\n",
       "      <td>891.000000</td>\n",
       "      <td>714.000000</td>\n",
       "      <td>891.000000</td>\n",
       "      <td>891.000000</td>\n",
       "      <td>891.000000</td>\n",
       "    </tr>\n",
       "    <tr>\n",
       "      <th>mean</th>\n",
       "      <td>446.000000</td>\n",
       "      <td>0.383838</td>\n",
       "      <td>2.308642</td>\n",
       "      <td>29.699118</td>\n",
       "      <td>0.523008</td>\n",
       "      <td>0.381594</td>\n",
       "      <td>32.204208</td>\n",
       "    </tr>\n",
       "    <tr>\n",
       "      <th>std</th>\n",
       "      <td>257.353842</td>\n",
       "      <td>0.486592</td>\n",
       "      <td>0.836071</td>\n",
       "      <td>14.526497</td>\n",
       "      <td>1.102743</td>\n",
       "      <td>0.806057</td>\n",
       "      <td>49.693429</td>\n",
       "    </tr>\n",
       "    <tr>\n",
       "      <th>min</th>\n",
       "      <td>1.000000</td>\n",
       "      <td>0.000000</td>\n",
       "      <td>1.000000</td>\n",
       "      <td>0.420000</td>\n",
       "      <td>0.000000</td>\n",
       "      <td>0.000000</td>\n",
       "      <td>0.000000</td>\n",
       "    </tr>\n",
       "    <tr>\n",
       "      <th>25%</th>\n",
       "      <td>223.500000</td>\n",
       "      <td>0.000000</td>\n",
       "      <td>2.000000</td>\n",
       "      <td>20.125000</td>\n",
       "      <td>0.000000</td>\n",
       "      <td>0.000000</td>\n",
       "      <td>7.910400</td>\n",
       "    </tr>\n",
       "    <tr>\n",
       "      <th>50%</th>\n",
       "      <td>446.000000</td>\n",
       "      <td>0.000000</td>\n",
       "      <td>3.000000</td>\n",
       "      <td>28.000000</td>\n",
       "      <td>0.000000</td>\n",
       "      <td>0.000000</td>\n",
       "      <td>14.454200</td>\n",
       "    </tr>\n",
       "    <tr>\n",
       "      <th>75%</th>\n",
       "      <td>668.500000</td>\n",
       "      <td>1.000000</td>\n",
       "      <td>3.000000</td>\n",
       "      <td>38.000000</td>\n",
       "      <td>1.000000</td>\n",
       "      <td>0.000000</td>\n",
       "      <td>31.000000</td>\n",
       "    </tr>\n",
       "    <tr>\n",
       "      <th>max</th>\n",
       "      <td>891.000000</td>\n",
       "      <td>1.000000</td>\n",
       "      <td>3.000000</td>\n",
       "      <td>80.000000</td>\n",
       "      <td>8.000000</td>\n",
       "      <td>6.000000</td>\n",
       "      <td>512.329200</td>\n",
       "    </tr>\n",
       "  </tbody>\n",
       "</table>\n",
       "</div>"
      ],
      "text/plain": [
       "       PassengerId    Survived      Pclass         Age       SibSp  \\\n",
       "count   891.000000  891.000000  891.000000  714.000000  891.000000   \n",
       "mean    446.000000    0.383838    2.308642   29.699118    0.523008   \n",
       "std     257.353842    0.486592    0.836071   14.526497    1.102743   \n",
       "min       1.000000    0.000000    1.000000    0.420000    0.000000   \n",
       "25%     223.500000    0.000000    2.000000   20.125000    0.000000   \n",
       "50%     446.000000    0.000000    3.000000   28.000000    0.000000   \n",
       "75%     668.500000    1.000000    3.000000   38.000000    1.000000   \n",
       "max     891.000000    1.000000    3.000000   80.000000    8.000000   \n",
       "\n",
       "            Parch        Fare  \n",
       "count  891.000000  891.000000  \n",
       "mean     0.381594   32.204208  \n",
       "std      0.806057   49.693429  \n",
       "min      0.000000    0.000000  \n",
       "25%      0.000000    7.910400  \n",
       "50%      0.000000   14.454200  \n",
       "75%      0.000000   31.000000  \n",
       "max      6.000000  512.329200  "
      ]
     },
     "execution_count": 8,
     "metadata": {},
     "output_type": "execute_result"
    }
   ],
   "source": [
    "full_data.describe()"
   ]
  },
  {
   "cell_type": "markdown",
   "id": "f5590ec9-b4c4-4a38-96ff-ee31ea1f254d",
   "metadata": {},
   "source": [
    "Examining the Nans:"
   ]
  },
  {
   "cell_type": "code",
   "execution_count": 9,
   "id": "f1a244d1-7cc0-477b-b311-dd536566a9a4",
   "metadata": {},
   "outputs": [
    {
     "data": {
      "text/plain": [
       "PassengerId      0\n",
       "Survived         0\n",
       "Pclass           0\n",
       "Name             0\n",
       "Sex              0\n",
       "Age            177\n",
       "SibSp            0\n",
       "Parch            0\n",
       "Ticket           0\n",
       "Fare             0\n",
       "Cabin          687\n",
       "Embarked         2\n",
       "dtype: int64"
      ]
     },
     "execution_count": 9,
     "metadata": {},
     "output_type": "execute_result"
    }
   ],
   "source": [
    "full_data.isna().sum()"
   ]
  },
  {
   "cell_type": "code",
   "execution_count": 10,
   "id": "4cda2df8-16b8-476c-99e1-883e932be315",
   "metadata": {},
   "outputs": [
    {
     "data": {
      "text/plain": [
       "<AxesSubplot:>"
      ]
     },
     "execution_count": 10,
     "metadata": {},
     "output_type": "execute_result"
    },
    {
     "data": {
      "image/png": "[encoded data removed]",
      "text/plain": [
       "<Figure size 432x288 with 2 Axes>"
      ]
     },
     "metadata": {
      "needs_background": "light"
     },
     "output_type": "display_data"
    }
   ],
   "source": [
    "sns.heatmap(full_data.isna())"
   ]
  },
  {
   "cell_type": "markdown",
   "id": "861ef2c6-2b8d-467e-b26f-bdce56b1910f",
   "metadata": {},
   "source": [
    "### 1.1 Surviving/non-surviving passengers"
   ]
  },
  {
   "cell_type": "markdown",
   "id": "6a9f6bec-e9d5-44f0-9d93-20525a6b0139",
   "metadata": {},
   "source": [
    "Information about surviving/ non-surviving:"
   ]
  },
  {
   "cell_type": "code",
   "execution_count": 11,
   "id": "cce03e9d-ad64-4222-89fd-fdd5d2bac13d",
   "metadata": {},
   "outputs": [
    {
     "data": {
      "text/plain": [
       "0    549\n",
       "1    342\n",
       "Name: Survived, dtype: int64"
      ]
     },
     "execution_count": 11,
     "metadata": {},
     "output_type": "execute_result"
    }
   ],
   "source": [
    "full_data['Survived'].value_counts()"
   ]
  },
  {
   "cell_type": "code",
   "execution_count": 12,
   "id": "52a6848c-7acb-4b21-9c3a-2f253262294d",
   "metadata": {},
   "outputs": [],
   "source": [
    "surv = full_data['Survived'].value_counts()[1]\n",
    "nonsurv = full_data['Survived'].value_counts()[0]"
   ]
  },
  {
   "cell_type": "markdown",
   "id": "0294f3f0",
   "metadata": {},
   "source": [
    "Drowning ratio:"
   ]
  },
  {
   "cell_type": "code",
   "execution_count": 13,
   "id": "4be2fb63",
   "metadata": {},
   "outputs": [
    {
     "data": {
      "text/plain": [
       "61.61616161616161"
      ]
     },
     "execution_count": 13,
     "metadata": {},
     "output_type": "execute_result"
    }
   ],
   "source": [
    "nonsurv / (surv + nonsurv) * 100 "
   ]
  },
  {
   "cell_type": "markdown",
   "id": "d5c3e885-e679-469f-8ed8-8722d1eacc3f",
   "metadata": {},
   "source": [
    "Subset of the passengers that survived:"
   ]
  },
  {
   "cell_type": "code",
   "execution_count": 14,
   "id": "194c8bb7-fa90-48d7-aad7-d43b3a6dfbee",
   "metadata": {},
   "outputs": [],
   "source": [
    "by_sur_df = full_data.groupby('Survived')"
   ]
  },
  {
   "cell_type": "code",
   "execution_count": 15,
   "id": "1ff745d0-fc2e-4328-94fd-aa27ac695756",
   "metadata": {},
   "outputs": [
    {
     "data": {
      "text/html": [
       "<div>\n",
       "<style scoped>\n",
       "    .dataframe tbody tr th:only-of-type {\n",
       "        vertical-align: middle;\n",
       "    }\n",
       "\n",
       "    .dataframe tbody tr th {\n",
       "        vertical-align: top;\n",
       "    }\n",
       "\n",
       "    .dataframe thead th {\n",
       "        text-align: right;\n",
       "    }\n",
       "</style>\n",
       "<table border=\"1\" class=\"dataframe\">\n",
       "  <thead>\n",
       "    <tr style=\"text-align: right;\">\n",
       "      <th></th>\n",
       "      <th>PassengerId</th>\n",
       "      <th>Survived</th>\n",
       "      <th>Pclass</th>\n",
       "      <th>Name</th>\n",
       "      <th>Sex</th>\n",
       "      <th>Age</th>\n",
       "      <th>SibSp</th>\n",
       "      <th>Parch</th>\n",
       "      <th>Ticket</th>\n",
       "      <th>Fare</th>\n",
       "      <th>Cabin</th>\n",
       "      <th>Embarked</th>\n",
       "    </tr>\n",
       "  </thead>\n",
       "  <tbody>\n",
       "    <tr>\n",
       "      <th>1</th>\n",
       "      <td>2</td>\n",
       "      <td>1</td>\n",
       "      <td>1</td>\n",
       "      <td>Cumings, Mrs. John Bradley (Florence Briggs Th...</td>\n",
       "      <td>female</td>\n",
       "      <td>38.0</td>\n",
       "      <td>1</td>\n",
       "      <td>0</td>\n",
       "      <td>PC 17599</td>\n",
       "      <td>71.2833</td>\n",
       "      <td>C85</td>\n",
       "      <td>C</td>\n",
       "    </tr>\n",
       "    <tr>\n",
       "      <th>2</th>\n",
       "      <td>3</td>\n",
       "      <td>1</td>\n",
       "      <td>3</td>\n",
       "      <td>Heikkinen, Miss. Laina</td>\n",
       "      <td>female</td>\n",
       "      <td>26.0</td>\n",
       "      <td>0</td>\n",
       "      <td>0</td>\n",
       "      <td>STON/O2. 3101282</td>\n",
       "      <td>7.9250</td>\n",
       "      <td>NaN</td>\n",
       "      <td>S</td>\n",
       "    </tr>\n",
       "    <tr>\n",
       "      <th>3</th>\n",
       "      <td>4</td>\n",
       "      <td>1</td>\n",
       "      <td>1</td>\n",
       "      <td>Futrelle, Mrs. Jacques Heath (Lily May Peel)</td>\n",
       "      <td>female</td>\n",
       "      <td>35.0</td>\n",
       "      <td>1</td>\n",
       "      <td>0</td>\n",
       "      <td>113803</td>\n",
       "      <td>53.1000</td>\n",
       "      <td>C123</td>\n",
       "      <td>S</td>\n",
       "    </tr>\n",
       "    <tr>\n",
       "      <th>8</th>\n",
       "      <td>9</td>\n",
       "      <td>1</td>\n",
       "      <td>3</td>\n",
       "      <td>Johnson, Mrs. Oscar W (Elisabeth Vilhelmina Berg)</td>\n",
       "      <td>female</td>\n",
       "      <td>27.0</td>\n",
       "      <td>0</td>\n",
       "      <td>2</td>\n",
       "      <td>347742</td>\n",
       "      <td>11.1333</td>\n",
       "      <td>NaN</td>\n",
       "      <td>S</td>\n",
       "    </tr>\n",
       "  </tbody>\n",
       "</table>\n",
       "</div>"
      ],
      "text/plain": [
       "   PassengerId  Survived  Pclass  \\\n",
       "1            2         1       1   \n",
       "2            3         1       3   \n",
       "3            4         1       1   \n",
       "8            9         1       3   \n",
       "\n",
       "                                                Name     Sex   Age  SibSp  \\\n",
       "1  Cumings, Mrs. John Bradley (Florence Briggs Th...  female  38.0      1   \n",
       "2                             Heikkinen, Miss. Laina  female  26.0      0   \n",
       "3       Futrelle, Mrs. Jacques Heath (Lily May Peel)  female  35.0      1   \n",
       "8  Johnson, Mrs. Oscar W (Elisabeth Vilhelmina Berg)  female  27.0      0   \n",
       "\n",
       "   Parch            Ticket     Fare Cabin Embarked  \n",
       "1      0          PC 17599  71.2833   C85        C  \n",
       "2      0  STON/O2. 3101282   7.9250   NaN        S  \n",
       "3      0            113803  53.1000  C123        S  \n",
       "8      2            347742  11.1333   NaN        S  "
      ]
     },
     "execution_count": 15,
     "metadata": {},
     "output_type": "execute_result"
    }
   ],
   "source": [
    "by_sur_df.get_group(1).head(4)"
   ]
  },
  {
   "cell_type": "markdown",
   "id": "db5db234-6a18-4aed-85b6-c7a9d865dbed",
   "metadata": {},
   "source": [
    "Subset of passengers that drowned:"
   ]
  },
  {
   "cell_type": "code",
   "execution_count": 16,
   "id": "10c4e98c-a034-4105-aeea-32de90dc2a9c",
   "metadata": {},
   "outputs": [
    {
     "data": {
      "text/html": [
       "<div>\n",
       "<style scoped>\n",
       "    .dataframe tbody tr th:only-of-type {\n",
       "        vertical-align: middle;\n",
       "    }\n",
       "\n",
       "    .dataframe tbody tr th {\n",
       "        vertical-align: top;\n",
       "    }\n",
       "\n",
       "    .dataframe thead th {\n",
       "        text-align: right;\n",
       "    }\n",
       "</style>\n",
       "<table border=\"1\" class=\"dataframe\">\n",
       "  <thead>\n",
       "    <tr style=\"text-align: right;\">\n",
       "      <th></th>\n",
       "      <th>PassengerId</th>\n",
       "      <th>Survived</th>\n",
       "      <th>Pclass</th>\n",
       "      <th>Name</th>\n",
       "      <th>Sex</th>\n",
       "      <th>Age</th>\n",
       "      <th>SibSp</th>\n",
       "      <th>Parch</th>\n",
       "      <th>Ticket</th>\n",
       "      <th>Fare</th>\n",
       "      <th>Cabin</th>\n",
       "      <th>Embarked</th>\n",
       "    </tr>\n",
       "  </thead>\n",
       "  <tbody>\n",
       "    <tr>\n",
       "      <th>0</th>\n",
       "      <td>1</td>\n",
       "      <td>0</td>\n",
       "      <td>3</td>\n",
       "      <td>Braund, Mr. Owen Harris</td>\n",
       "      <td>male</td>\n",
       "      <td>22.0</td>\n",
       "      <td>1</td>\n",
       "      <td>0</td>\n",
       "      <td>A/5 21171</td>\n",
       "      <td>7.2500</td>\n",
       "      <td>NaN</td>\n",
       "      <td>S</td>\n",
       "    </tr>\n",
       "    <tr>\n",
       "      <th>4</th>\n",
       "      <td>5</td>\n",
       "      <td>0</td>\n",
       "      <td>3</td>\n",
       "      <td>Allen, Mr. William Henry</td>\n",
       "      <td>male</td>\n",
       "      <td>35.0</td>\n",
       "      <td>0</td>\n",
       "      <td>0</td>\n",
       "      <td>373450</td>\n",
       "      <td>8.0500</td>\n",
       "      <td>NaN</td>\n",
       "      <td>S</td>\n",
       "    </tr>\n",
       "    <tr>\n",
       "      <th>5</th>\n",
       "      <td>6</td>\n",
       "      <td>0</td>\n",
       "      <td>3</td>\n",
       "      <td>Moran, Mr. James</td>\n",
       "      <td>male</td>\n",
       "      <td>NaN</td>\n",
       "      <td>0</td>\n",
       "      <td>0</td>\n",
       "      <td>330877</td>\n",
       "      <td>8.4583</td>\n",
       "      <td>NaN</td>\n",
       "      <td>Q</td>\n",
       "    </tr>\n",
       "    <tr>\n",
       "      <th>6</th>\n",
       "      <td>7</td>\n",
       "      <td>0</td>\n",
       "      <td>1</td>\n",
       "      <td>McCarthy, Mr. Timothy J</td>\n",
       "      <td>male</td>\n",
       "      <td>54.0</td>\n",
       "      <td>0</td>\n",
       "      <td>0</td>\n",
       "      <td>17463</td>\n",
       "      <td>51.8625</td>\n",
       "      <td>E46</td>\n",
       "      <td>S</td>\n",
       "    </tr>\n",
       "    <tr>\n",
       "      <th>7</th>\n",
       "      <td>8</td>\n",
       "      <td>0</td>\n",
       "      <td>3</td>\n",
       "      <td>Palsson, Master. Gosta Leonard</td>\n",
       "      <td>male</td>\n",
       "      <td>2.0</td>\n",
       "      <td>3</td>\n",
       "      <td>1</td>\n",
       "      <td>349909</td>\n",
       "      <td>21.0750</td>\n",
       "      <td>NaN</td>\n",
       "      <td>S</td>\n",
       "    </tr>\n",
       "    <tr>\n",
       "      <th>...</th>\n",
       "      <td>...</td>\n",
       "      <td>...</td>\n",
       "      <td>...</td>\n",
       "      <td>...</td>\n",
       "      <td>...</td>\n",
       "      <td>...</td>\n",
       "      <td>...</td>\n",
       "      <td>...</td>\n",
       "      <td>...</td>\n",
       "      <td>...</td>\n",
       "      <td>...</td>\n",
       "      <td>...</td>\n",
       "    </tr>\n",
       "    <tr>\n",
       "      <th>884</th>\n",
       "      <td>885</td>\n",
       "      <td>0</td>\n",
       "      <td>3</td>\n",
       "      <td>Sutehall, Mr. Henry Jr</td>\n",
       "      <td>male</td>\n",
       "      <td>25.0</td>\n",
       "      <td>0</td>\n",
       "      <td>0</td>\n",
       "      <td>SOTON/OQ 392076</td>\n",
       "      <td>7.0500</td>\n",
       "      <td>NaN</td>\n",
       "      <td>S</td>\n",
       "    </tr>\n",
       "    <tr>\n",
       "      <th>885</th>\n",
       "      <td>886</td>\n",
       "      <td>0</td>\n",
       "      <td>3</td>\n",
       "      <td>Rice, Mrs. William (Margaret Norton)</td>\n",
       "      <td>female</td>\n",
       "      <td>39.0</td>\n",
       "      <td>0</td>\n",
       "      <td>5</td>\n",
       "      <td>382652</td>\n",
       "      <td>29.1250</td>\n",
       "      <td>NaN</td>\n",
       "      <td>Q</td>\n",
       "    </tr>\n",
       "    <tr>\n",
       "      <th>886</th>\n",
       "      <td>887</td>\n",
       "      <td>0</td>\n",
       "      <td>2</td>\n",
       "      <td>Montvila, Rev. Juozas</td>\n",
       "      <td>male</td>\n",
       "      <td>27.0</td>\n",
       "      <td>0</td>\n",
       "      <td>0</td>\n",
       "      <td>211536</td>\n",
       "      <td>13.0000</td>\n",
       "      <td>NaN</td>\n",
       "      <td>S</td>\n",
       "    </tr>\n",
       "    <tr>\n",
       "      <th>888</th>\n",
       "      <td>889</td>\n",
       "      <td>0</td>\n",
       "      <td>3</td>\n",
       "      <td>Johnston, Miss. Catherine Helen \"Carrie\"</td>\n",
       "      <td>female</td>\n",
       "      <td>NaN</td>\n",
       "      <td>1</td>\n",
       "      <td>2</td>\n",
       "      <td>W./C. 6607</td>\n",
       "      <td>23.4500</td>\n",
       "      <td>NaN</td>\n",
       "      <td>S</td>\n",
       "    </tr>\n",
       "    <tr>\n",
       "      <th>890</th>\n",
       "      <td>891</td>\n",
       "      <td>0</td>\n",
       "      <td>3</td>\n",
       "      <td>Dooley, Mr. Patrick</td>\n",
       "      <td>male</td>\n",
       "      <td>32.0</td>\n",
       "      <td>0</td>\n",
       "      <td>0</td>\n",
       "      <td>370376</td>\n",
       "      <td>7.7500</td>\n",
       "      <td>NaN</td>\n",
       "      <td>Q</td>\n",
       "    </tr>\n",
       "  </tbody>\n",
       "</table>\n",
       "<p>549 rows × 12 columns</p>\n",
       "</div>"
      ],
      "text/plain": [
       "     PassengerId  Survived  Pclass                                      Name  \\\n",
       "0              1         0       3                   Braund, Mr. Owen Harris   \n",
       "4              5         0       3                  Allen, Mr. William Henry   \n",
       "5              6         0       3                          Moran, Mr. James   \n",
       "6              7         0       1                   McCarthy, Mr. Timothy J   \n",
       "7              8         0       3            Palsson, Master. Gosta Leonard   \n",
       "..           ...       ...     ...                                       ...   \n",
       "884          885         0       3                    Sutehall, Mr. Henry Jr   \n",
       "885          886         0       3      Rice, Mrs. William (Margaret Norton)   \n",
       "886          887         0       2                     Montvila, Rev. Juozas   \n",
       "888          889         0       3  Johnston, Miss. Catherine Helen \"Carrie\"   \n",
       "890          891         0       3                       Dooley, Mr. Patrick   \n",
       "\n",
       "        Sex   Age  SibSp  Parch           Ticket     Fare Cabin Embarked  \n",
       "0      male  22.0      1      0        A/5 21171   7.2500   NaN        S  \n",
       "4      male  35.0      0      0           373450   8.0500   NaN        S  \n",
       "5      male   NaN      0      0           330877   8.4583   NaN        Q  \n",
       "6      male  54.0      0      0            17463  51.8625   E46        S  \n",
       "7      male   2.0      3      1           349909  21.0750   NaN        S  \n",
       "..      ...   ...    ...    ...              ...      ...   ...      ...  \n",
       "884    male  25.0      0      0  SOTON/OQ 392076   7.0500   NaN        S  \n",
       "885  female  39.0      0      5           382652  29.1250   NaN        Q  \n",
       "886    male  27.0      0      0           211536  13.0000   NaN        S  \n",
       "888  female   NaN      1      2       W./C. 6607  23.4500   NaN        S  \n",
       "890    male  32.0      0      0           370376   7.7500   NaN        Q  \n",
       "\n",
       "[549 rows x 12 columns]"
      ]
     },
     "execution_count": 16,
     "metadata": {},
     "output_type": "execute_result"
    }
   ],
   "source": [
    "by_sur_df.get_group(0)"
   ]
  },
  {
   "cell_type": "markdown",
   "id": "29bcb4ee-9b12-4320-98cf-d47cf5055ea6",
   "metadata": {},
   "source": [
    "Bar plot with panda:"
   ]
  },
  {
   "cell_type": "code",
   "execution_count": 17,
   "id": "da081be1-4c2a-48c8-a51d-c7e565bf1bcc",
   "metadata": {},
   "outputs": [
    {
     "data": {
      "text/plain": [
       "<AxesSubplot:>"
      ]
     },
     "execution_count": 17,
     "metadata": {},
     "output_type": "execute_result"
    },
    {
     "data": {
      "image/png": "[encoded data removed]",
      "text/plain": [
       "<Figure size 432x288 with 1 Axes>"
      ]
     },
     "metadata": {
      "needs_background": "light"
     },
     "output_type": "display_data"
    }
   ],
   "source": [
    "full_data['Survived'].value_counts().plot.bar(rot=0)"
   ]
  },
  {
   "cell_type": "markdown",
   "id": "c58ef6bb-0cd5-45f5-89c1-0a00f75a7e90",
   "metadata": {},
   "source": [
    "Plotting with Seaborn:"
   ]
  },
  {
   "cell_type": "code",
   "execution_count": 18,
   "id": "6495766e-2d6c-4f29-a594-1550d3e6841d",
   "metadata": {},
   "outputs": [
    {
     "data": {
      "text/plain": [
       "<AxesSubplot:xlabel='Survived', ylabel='count'>"
      ]
     },
     "execution_count": 18,
     "metadata": {},
     "output_type": "execute_result"
    },
    {
     "data": {
      "image/png": "[encoded data removed]",
      "text/plain": [
       "<Figure size 432x288 with 1 Axes>"
      ]
     },
     "metadata": {
      "needs_background": "light"
     },
     "output_type": "display_data"
    }
   ],
   "source": [
    "sns.countplot(data=full_data, x='Survived')"
   ]
  },
  {
   "cell_type": "code",
   "execution_count": 19,
   "id": "3efed5fd-7978-47ed-9797-fe98f9244799",
   "metadata": {},
   "outputs": [
    {
     "data": {
      "text/plain": [
       "<AxesSubplot:xlabel='Sex', ylabel='count'>"
      ]
     },
     "execution_count": 19,
     "metadata": {},
     "output_type": "execute_result"
    },
    {
     "data": {
      "image/png": "[encoded data removed]",
      "text/plain": [
       "<Figure size 432x288 with 1 Axes>"
      ]
     },
     "metadata": {
      "needs_background": "light"
     },
     "output_type": "display_data"
    }
   ],
   "source": [
    "sns.countplot(data=full_data, x='Sex', hue='Survived')"
   ]
  },
  {
   "cell_type": "markdown",
   "id": "f5392168-f262-46b3-822c-2f880f38d601",
   "metadata": {},
   "source": [
    "### 1.2 Proportion of surviving passengers with regards to the total number of 1st class passengers:"
   ]
  },
  {
   "cell_type": "markdown",
   "id": "54cedc6a-dd26-412c-8e4c-e41e06a358a7",
   "metadata": {},
   "source": [
    "First Class Passenger:"
   ]
  },
  {
   "cell_type": "code",
   "execution_count": 20,
   "id": "e7b26ea1-0a27-4311-ae60-78840ab17292",
   "metadata": {},
   "outputs": [
    {
     "data": {
      "text/plain": [
       "<AxesSubplot:xlabel='Pclass', ylabel='count'>"
      ]
     },
     "execution_count": 20,
     "metadata": {},
     "output_type": "execute_result"
    },
    {
     "data": {
      "image/png": "[encoded data removed]",
      "text/plain": [
       "<Figure size 432x288 with 1 Axes>"
      ]
     },
     "metadata": {
      "needs_background": "light"
     },
     "output_type": "display_data"
    }
   ],
   "source": [
    "sns.countplot(data=full_data, x='Pclass', hue='Survived')"
   ]
  },
  {
   "cell_type": "markdown",
   "id": "ea88a4a8-a7d9-43c2-8f87-940c279d775c",
   "metadata": {},
   "source": [
    "How many on First class?"
   ]
  },
  {
   "cell_type": "code",
   "execution_count": 21,
   "id": "41f68252-db40-4520-995b-63419ddf3dbe",
   "metadata": {},
   "outputs": [
    {
     "data": {
      "text/plain": [
       "216"
      ]
     },
     "execution_count": 21,
     "metadata": {},
     "output_type": "execute_result"
    }
   ],
   "source": [
    "firstcl = full_data['Pclass'].loc[full_data['Pclass']==1].count()\n",
    "firstcl"
   ]
  },
  {
   "cell_type": "markdown",
   "id": "f8dd8036-78ea-4f2f-a2ea-4f4bf02d5def",
   "metadata": {},
   "source": [
    "How many on First class survived?"
   ]
  },
  {
   "cell_type": "code",
   "execution_count": 22,
   "id": "d38e626d-6010-4ab4-bf3c-bd3d76a911e5",
   "metadata": {},
   "outputs": [
    {
     "data": {
      "text/plain": [
       "1    136\n",
       "0     80\n",
       "Name: Survived, dtype: int64"
      ]
     },
     "execution_count": 22,
     "metadata": {},
     "output_type": "execute_result"
    }
   ],
   "source": [
    "full_data['Survived'].loc[full_data['Pclass']==1].value_counts()"
   ]
  },
  {
   "cell_type": "code",
   "execution_count": 23,
   "id": "6ec68c10-2c16-476d-a60c-b9840c7856ca",
   "metadata": {
    "tags": []
   },
   "outputs": [
    {
     "data": {
      "text/plain": [
       "136"
      ]
     },
     "execution_count": 23,
     "metadata": {},
     "output_type": "execute_result"
    }
   ],
   "source": [
    "firstcl_sur = full_data['Pclass'].loc[full_data['Pclass']==1].loc[full_data['Survived']==1].count()\n",
    "firstcl_sur"
   ]
  },
  {
   "cell_type": "code",
   "execution_count": 24,
   "id": "a63bea48-ca0f-40d2-a513-12f481e8c9d2",
   "metadata": {},
   "outputs": [
    {
     "data": {
      "text/plain": [
       "1      1\n",
       "3      1\n",
       "6      0\n",
       "11     1\n",
       "23     1\n",
       "      ..\n",
       "871    1\n",
       "872    0\n",
       "879    1\n",
       "887    1\n",
       "889    1\n",
       "Name: Survived, Length: 216, dtype: int64"
      ]
     },
     "execution_count": 24,
     "metadata": {},
     "output_type": "execute_result"
    }
   ],
   "source": [
    "full_data['Survived'].loc[full_data['Pclass']==1]"
   ]
  },
  {
   "cell_type": "markdown",
   "id": "38882687-b412-4dc8-b444-d1fcc1e0bb7b",
   "metadata": {},
   "source": [
    "Proportion of surviving passengers in the 1st class:"
   ]
  },
  {
   "cell_type": "code",
   "execution_count": 25,
   "id": "19e6df26-69e0-4865-80c2-e369a3ca60c8",
   "metadata": {},
   "outputs": [
    {
     "data": {
      "text/plain": [
       "0.6296296296296297"
      ]
     },
     "execution_count": 25,
     "metadata": {},
     "output_type": "execute_result"
    }
   ],
   "source": [
    "firstcl_sur / firstcl"
   ]
  },
  {
   "cell_type": "markdown",
   "id": "943295f5-132b-41d0-af74-b804803dd3ac",
   "metadata": {
    "tags": []
   },
   "source": [
    "### 1.3 Bar Plot with separate bars for male/ female passengers and 1st/2nd/3d class passengers"
   ]
  },
  {
   "cell_type": "code",
   "execution_count": 26,
   "id": "7987a926-4e1f-463d-bad7-55edfcd42d4b",
   "metadata": {},
   "outputs": [
    {
     "data": {
      "text/plain": [
       "<AxesSubplot:xlabel='Sex', ylabel='count'>"
      ]
     },
     "execution_count": 26,
     "metadata": {},
     "output_type": "execute_result"
    },
    {
     "data": {
      "image/png": "[encoded data removed]",
      "text/plain": [
       "<Figure size 432x288 with 1 Axes>"
      ]
     },
     "metadata": {
      "needs_background": "light"
     },
     "output_type": "display_data"
    }
   ],
   "source": [
    "sns.countplot(data=full_data, x='Sex', hue='Pclass' )"
   ]
  },
  {
   "cell_type": "code",
   "execution_count": 27,
   "id": "b4bdd974-eca0-4325-9486-27089ec5ccdf",
   "metadata": {},
   "outputs": [
    {
     "data": {
      "text/plain": [
       "<AxesSubplot:xlabel='Pclass', ylabel='count'>"
      ]
     },
     "execution_count": 27,
     "metadata": {},
     "output_type": "execute_result"
    },
    {
     "data": {
      "image/png": "[encoded data removed]",
      "text/plain": [
       "<Figure size 432x288 with 1 Axes>"
      ]
     },
     "metadata": {
      "needs_background": "light"
     },
     "output_type": "display_data"
    }
   ],
   "source": [
    "sns.countplot(data=full_data, x='Pclass', hue='Sex' )"
   ]
  },
  {
   "cell_type": "markdown",
   "id": "509e89cf-91d5-44cc-94b9-93cfa1ce33e0",
   "metadata": {},
   "source": [
    "### 1.4 Histogram showing age distributions of passengers among survivals and non-survivals"
   ]
  },
  {
   "cell_type": "code",
   "execution_count": 28,
   "id": "ea66be90-d37d-4590-ac81-c05b26eb9338",
   "metadata": {},
   "outputs": [],
   "source": [
    "sur_df = full_data.loc[full_data['Survived']==1]\n",
    "non_sur_df = full_data.loc[full_data['Survived']==0]"
   ]
  },
  {
   "cell_type": "code",
   "execution_count": 29,
   "id": "4f4536ca-a17d-48c5-a3d4-f783abfee278",
   "metadata": {},
   "outputs": [
    {
     "data": {
      "text/plain": [
       "<AxesSubplot:xlabel='Age', ylabel='Count'>"
      ]
     },
     "execution_count": 29,
     "metadata": {},
     "output_type": "execute_result"
    },
    {
     "data": {
      "image/png": "[encoded data removed]",
      "text/plain": [
       "<Figure size 432x288 with 1 Axes>"
      ]
     },
     "metadata": {
      "needs_background": "light"
     },
     "output_type": "display_data"
    }
   ],
   "source": [
    "sns.histplot( data=sur_df, x='Age', bins=10 )"
   ]
  },
  {
   "cell_type": "code",
   "execution_count": 30,
   "id": "b2772f87-697a-49c2-9f95-301e2c52f00c",
   "metadata": {},
   "outputs": [
    {
     "data": {
      "text/plain": [
       "<AxesSubplot:xlabel='Age', ylabel='Count'>"
      ]
     },
     "execution_count": 30,
     "metadata": {},
     "output_type": "execute_result"
    },
    {
     "data": {
      "image/png": "[encoded data removed]",
      "text/plain": [
       "<Figure size 432x288 with 1 Axes>"
      ]
     },
     "metadata": {
      "needs_background": "light"
     },
     "output_type": "display_data"
    }
   ],
   "source": [
    "sns.histplot( data=non_sur_df, x='Age', bins=10 )"
   ]
  },
  {
   "cell_type": "markdown",
   "id": "ff2c0b60-4148-4e5c-9e45-a885b9c9d455",
   "metadata": {},
   "source": [
    "### 1.5 Average Age of the survived and the drowned"
   ]
  },
  {
   "cell_type": "code",
   "execution_count": 31,
   "id": "04f1a48f-1ab8-4966-81e6-a3fc6fe75076",
   "metadata": {},
   "outputs": [
    {
     "data": {
      "text/plain": [
       "28.343689655172415"
      ]
     },
     "execution_count": 31,
     "metadata": {},
     "output_type": "execute_result"
    }
   ],
   "source": [
    "sur_df['Age'].mean()"
   ]
  },
  {
   "cell_type": "code",
   "execution_count": 32,
   "id": "29b9ae0c-f116-4664-a194-f7d7b761e0b9",
   "metadata": {},
   "outputs": [
    {
     "data": {
      "text/plain": [
       "30.62617924528302"
      ]
     },
     "execution_count": 32,
     "metadata": {},
     "output_type": "execute_result"
    }
   ],
   "source": [
    "non_sur_df['Age'].mean()"
   ]
  },
  {
   "cell_type": "markdown",
   "id": "f765cf58-d3ae-4dcb-b050-9b719732ce26",
   "metadata": {},
   "source": [
    "### 1.6 Replace missing age values by the mean:"
   ]
  },
  {
   "cell_type": "code",
   "execution_count": 33,
   "id": "a9e4ca56-07dd-4a65-918e-2c912b5dddf2",
   "metadata": {},
   "outputs": [
    {
     "data": {
      "text/plain": [
       "177"
      ]
     },
     "execution_count": 33,
     "metadata": {},
     "output_type": "execute_result"
    }
   ],
   "source": [
    "full_data['Age'].isna().sum()"
   ]
  },
  {
   "cell_type": "code",
   "execution_count": 34,
   "id": "34e4c784-9d46-4f3f-a9be-1d2ca3c60d12",
   "metadata": {},
   "outputs": [
    {
     "data": {
      "text/plain": [
       "891"
      ]
     },
     "execution_count": 34,
     "metadata": {},
     "output_type": "execute_result"
    }
   ],
   "source": [
    "len (full_data)"
   ]
  },
  {
   "cell_type": "code",
   "execution_count": 35,
   "id": "bf537f86-287e-4038-8c7e-dc0a92f4d65d",
   "metadata": {},
   "outputs": [],
   "source": [
    "df_age = full_data['Age'].fillna(full_data['Age'].mean(), inplace=False)"
   ]
  },
  {
   "cell_type": "code",
   "execution_count": 36,
   "id": "e329f208-7572-4a46-8221-b688fc97f35a",
   "metadata": {},
   "outputs": [
    {
     "data": {
      "text/plain": [
       "0"
      ]
     },
     "execution_count": 36,
     "metadata": {},
     "output_type": "execute_result"
    }
   ],
   "source": [
    "df_age.isna().sum()"
   ]
  },
  {
   "cell_type": "code",
   "execution_count": 37,
   "id": "9287da4b-9eb9-4675-adb7-409a59b301a5",
   "metadata": {
    "tags": []
   },
   "outputs": [
    {
     "data": {
      "text/plain": [
       "177"
      ]
     },
     "execution_count": 37,
     "metadata": {},
     "output_type": "execute_result"
    }
   ],
   "source": [
    "full_data['Age'].isna().sum()"
   ]
  },
  {
   "cell_type": "code",
   "execution_count": 38,
   "id": "6fb979d9",
   "metadata": {},
   "outputs": [],
   "source": [
    "# Bonus: Imputation based on Title"
   ]
  },
  {
   "cell_type": "code",
   "execution_count": 39,
   "id": "92e065b4",
   "metadata": {},
   "outputs": [
    {
     "data": {
      "text/plain": [
       "0           Braund, Mr. Owen Harris\n",
       "4          Allen, Mr. William Henry\n",
       "5                  Moran, Mr. James\n",
       "6           McCarthy, Mr. Timothy J\n",
       "7    Palsson, Master. Gosta Leonard\n",
       "Name: Name, dtype: object"
      ]
     },
     "execution_count": 39,
     "metadata": {},
     "output_type": "execute_result"
    }
   ],
   "source": [
    "full_data[full_data['Sex']=='male']['Name'].head(5) # Mr. / Master"
   ]
  },
  {
   "cell_type": "code",
   "execution_count": 40,
   "id": "b4e80dde",
   "metadata": {},
   "outputs": [
    {
     "data": {
      "text/plain": [
       "1    Cumings, Mrs. John Bradley (Florence Briggs Th...\n",
       "2                               Heikkinen, Miss. Laina\n",
       "3         Futrelle, Mrs. Jacques Heath (Lily May Peel)\n",
       "8    Johnson, Mrs. Oscar W (Elisabeth Vilhelmina Berg)\n",
       "9                  Nasser, Mrs. Nicholas (Adele Achem)\n",
       "Name: Name, dtype: object"
      ]
     },
     "execution_count": 40,
     "metadata": {},
     "output_type": "execute_result"
    }
   ],
   "source": [
    "full_data[full_data['Sex']=='female']['Name'].head(5) # Mrs. / Miss"
   ]
  },
  {
   "cell_type": "markdown",
   "id": "0e4d71cb-9798-481c-b531-a376002823d0",
   "metadata": {},
   "source": [
    "### 1.7 Table counting the number of surviving/dead passengers"
   ]
  },
  {
   "cell_type": "code",
   "execution_count": 41,
   "id": "846cd0c9-81df-4add-a458-e1f8aa1a318b",
   "metadata": {},
   "outputs": [],
   "source": [
    "class_df= full_data.groupby('Pclass')"
   ]
  },
  {
   "cell_type": "code",
   "execution_count": 42,
   "id": "305a5f90-2dcc-4b4e-a458-fe3ce155f1d8",
   "metadata": {},
   "outputs": [
    {
     "data": {
      "text/plain": [
       "<pandas.core.groupby.generic.DataFrameGroupBy object at 0x00000210A4352430>"
      ]
     },
     "execution_count": 42,
     "metadata": {},
     "output_type": "execute_result"
    }
   ],
   "source": [
    "class_df"
   ]
  },
  {
   "cell_type": "code",
   "execution_count": 43,
   "id": "2f71175f-da6e-4fbd-bbf1-5b6a34065198",
   "metadata": {},
   "outputs": [
    {
     "data": {
      "text/plain": [
       "{1: [1, 3, 6, 11, 23, 27, 30, 31, 34, 35, 52, 54, 55, 61, 62, 64, 83, 88, 92, 96, 97, 102, 110, 118, 124, 136, 137, 139, 151, 155, 166, 168, 170, 174, 177, 185, 187, 194, 195, 209, 215, 218, 224, 230, 245, 248, 252, 256, 257, 258, 262, 263, 268, 269, 270, 273, 275, 284, 290, 291, 295, 297, 298, 299, 305, 306, 307, 309, 310, 311, 318, 319, 325, 329, 331, 332, 334, 336, 337, 339, 341, 351, 356, 366, 369, 370, 373, 375, 377, 380, 383, 390, 393, 412, 430, 434, 435, 438, 445, 447, ...], 2: [9, 15, 17, 20, 21, 33, 41, 43, 53, 56, 58, 66, 70, 72, 78, 84, 98, 99, 117, 120, 122, 123, 133, 134, 135, 144, 145, 148, 149, 150, 161, 178, 181, 183, 190, 191, 193, 199, 211, 213, 217, 219, 221, 226, 228, 232, 234, 236, 237, 238, 239, 242, 247, 249, 259, 265, 272, 277, 288, 292, 303, 308, 312, 314, 316, 317, 322, 323, 327, 340, 342, 343, 344, 345, 346, 357, 361, 385, 387, 389, 397, 398, 399, 405, 407, 413, 416, 417, 418, 426, 427, 432, 437, 439, 440, 443, 446, 450, 458, 463, ...], 3: [0, 2, 4, 5, 7, 8, 10, 12, 13, 14, 16, 18, 19, 22, 24, 25, 26, 28, 29, 32, 36, 37, 38, 39, 40, 42, 44, 45, 46, 47, 48, 49, 50, 51, 57, 59, 60, 63, 65, 67, 68, 69, 71, 73, 74, 75, 76, 77, 79, 80, 81, 82, 85, 86, 87, 89, 90, 91, 93, 94, 95, 100, 101, 103, 104, 105, 106, 107, 108, 109, 111, 112, 113, 114, 115, 116, 119, 121, 125, 126, 127, 128, 129, 130, 131, 132, 138, 140, 141, 142, 143, 146, 147, 152, 153, 154, 156, 157, 158, 159, ...]}"
      ]
     },
     "execution_count": 43,
     "metadata": {},
     "output_type": "execute_result"
    }
   ],
   "source": [
    "class_df.groups"
   ]
  },
  {
   "cell_type": "code",
   "execution_count": 44,
   "id": "e9b59e6c-bb76-42df-8057-75b2f8bac4ec",
   "metadata": {
    "scrolled": true
   },
   "outputs": [
    {
     "data": {
      "text/plain": [
       "Pclass\n",
       "1    216\n",
       "2    184\n",
       "3    491\n",
       "Name: Survived, dtype: int64"
      ]
     },
     "execution_count": 44,
     "metadata": {},
     "output_type": "execute_result"
    }
   ],
   "source": [
    "class_df['Survived'].count()"
   ]
  },
  {
   "cell_type": "code",
   "execution_count": 45,
   "id": "cd144680",
   "metadata": {},
   "outputs": [],
   "source": [
    "# Nans can be taken care of eventually by the feature engineering pipeline and column transformer"
   ]
  },
  {
   "cell_type": "code",
   "execution_count": 46,
   "id": "bea7af56",
   "metadata": {},
   "outputs": [],
   "source": [
    "# Feature Engineering"
   ]
  },
  {
   "cell_type": "code",
   "execution_count": 432,
   "id": "3d98e78e",
   "metadata": {},
   "outputs": [],
   "source": [
    "df = full_data[['Pclass','Age','Sex','Survived']]"
   ]
  },
  {
   "cell_type": "code",
   "execution_count": 433,
   "id": "41c01ca8",
   "metadata": {},
   "outputs": [],
   "source": [
    "X = df[['Pclass','Age','Sex']]\n",
    "y = df['Survived']"
   ]
  },
  {
   "cell_type": "code",
   "execution_count": 434,
   "id": "1dcb0669",
   "metadata": {},
   "outputs": [],
   "source": [
    "x_train, x_test, y_train, y_test = train_test_split(X, y, random_state=20)"
   ]
  },
  {
   "cell_type": "code",
   "execution_count": 435,
   "id": "55ba0113",
   "metadata": {},
   "outputs": [
    {
     "data": {
      "text/plain": [
       "((668, 3), (223, 3), (668,), (223,))"
      ]
     },
     "execution_count": 435,
     "metadata": {},
     "output_type": "execute_result"
    }
   ],
   "source": [
    "x_train.shape, x_test.shape, y_train.shape, y_test.shape "
   ]
  },
  {
   "cell_type": "code",
   "execution_count": 436,
   "id": "5f1d2926",
   "metadata": {},
   "outputs": [],
   "source": [
    "age_bins=4\n",
    "age_pipeline = Pipeline ([\n",
    "    ('imputer', SimpleImputer(strategy='median')),\n",
    "    ('binning', KBinsDiscretizer(n_bins=age_bins, encode='onehot-dense', strategy='quantile'))\n",
    "])"
   ]
  },
  {
   "cell_type": "code",
   "execution_count": 437,
   "id": "78dfbf70",
   "metadata": {},
   "outputs": [],
   "source": [
    "transformer = ColumnTransformer([\n",
    "    ('onehot', OneHotEncoder(sparse=False,drop='first',handle_unknown='error'),['Pclass','Sex']),\n",
    "    ('age_pipeline', age_pipeline, ['Age'])\n",
    "])"
   ]
  },
  {
   "cell_type": "code",
   "execution_count": 438,
   "id": "cc57db05",
   "metadata": {},
   "outputs": [
    {
     "data": {
      "text/html": [
       "<div>\n",
       "<style scoped>\n",
       "    .dataframe tbody tr th:only-of-type {\n",
       "        vertical-align: middle;\n",
       "    }\n",
       "\n",
       "    .dataframe tbody tr th {\n",
       "        vertical-align: top;\n",
       "    }\n",
       "\n",
       "    .dataframe thead th {\n",
       "        text-align: right;\n",
       "    }\n",
       "</style>\n",
       "<table border=\"1\" class=\"dataframe\">\n",
       "  <thead>\n",
       "    <tr style=\"text-align: right;\">\n",
       "      <th></th>\n",
       "      <th>Pclass</th>\n",
       "      <th>Age</th>\n",
       "      <th>Sex</th>\n",
       "    </tr>\n",
       "  </thead>\n",
       "  <tbody>\n",
       "    <tr>\n",
       "      <th>30</th>\n",
       "      <td>1</td>\n",
       "      <td>40.0</td>\n",
       "      <td>male</td>\n",
       "    </tr>\n",
       "    <tr>\n",
       "      <th>261</th>\n",
       "      <td>3</td>\n",
       "      <td>3.0</td>\n",
       "      <td>male</td>\n",
       "    </tr>\n",
       "    <tr>\n",
       "      <th>875</th>\n",
       "      <td>3</td>\n",
       "      <td>15.0</td>\n",
       "      <td>female</td>\n",
       "    </tr>\n",
       "    <tr>\n",
       "      <th>874</th>\n",
       "      <td>2</td>\n",
       "      <td>28.0</td>\n",
       "      <td>female</td>\n",
       "    </tr>\n",
       "    <tr>\n",
       "      <th>187</th>\n",
       "      <td>1</td>\n",
       "      <td>45.0</td>\n",
       "      <td>male</td>\n",
       "    </tr>\n",
       "    <tr>\n",
       "      <th>...</th>\n",
       "      <td>...</td>\n",
       "      <td>...</td>\n",
       "      <td>...</td>\n",
       "    </tr>\n",
       "    <tr>\n",
       "      <th>218</th>\n",
       "      <td>1</td>\n",
       "      <td>32.0</td>\n",
       "      <td>female</td>\n",
       "    </tr>\n",
       "    <tr>\n",
       "      <th>223</th>\n",
       "      <td>3</td>\n",
       "      <td>NaN</td>\n",
       "      <td>male</td>\n",
       "    </tr>\n",
       "    <tr>\n",
       "      <th>271</th>\n",
       "      <td>3</td>\n",
       "      <td>25.0</td>\n",
       "      <td>male</td>\n",
       "    </tr>\n",
       "    <tr>\n",
       "      <th>474</th>\n",
       "      <td>3</td>\n",
       "      <td>22.0</td>\n",
       "      <td>female</td>\n",
       "    </tr>\n",
       "    <tr>\n",
       "      <th>355</th>\n",
       "      <td>3</td>\n",
       "      <td>28.0</td>\n",
       "      <td>male</td>\n",
       "    </tr>\n",
       "  </tbody>\n",
       "</table>\n",
       "<p>668 rows × 3 columns</p>\n",
       "</div>"
      ],
      "text/plain": [
       "     Pclass   Age     Sex\n",
       "30        1  40.0    male\n",
       "261       3   3.0    male\n",
       "875       3  15.0  female\n",
       "874       2  28.0  female\n",
       "187       1  45.0    male\n",
       "..      ...   ...     ...\n",
       "218       1  32.0  female\n",
       "223       3   NaN    male\n",
       "271       3  25.0    male\n",
       "474       3  22.0  female\n",
       "355       3  28.0    male\n",
       "\n",
       "[668 rows x 3 columns]"
      ]
     },
     "execution_count": 438,
     "metadata": {},
     "output_type": "execute_result"
    }
   ],
   "source": [
    "x_train"
   ]
  },
  {
   "cell_type": "code",
   "execution_count": 439,
   "id": "f1448a20",
   "metadata": {},
   "outputs": [],
   "source": [
    "x_train_fe = pd.DataFrame(transformer.fit_transform(x_train))\n",
    "x_test_fe = pd.DataFrame(transformer.transform(x_test))"
   ]
  },
  {
   "cell_type": "code",
   "execution_count": 440,
   "id": "0cee5a6d",
   "metadata": {},
   "outputs": [
    {
     "data": {
      "text/plain": [
       "((668, 7), (223, 7), (668,), (223,))"
      ]
     },
     "execution_count": 440,
     "metadata": {},
     "output_type": "execute_result"
    }
   ],
   "source": [
    "x_train_fe.shape, x_test_fe.shape, y_train.shape, y_test.shape"
   ]
  },
  {
   "cell_type": "code",
   "execution_count": 441,
   "id": "3384d169",
   "metadata": {},
   "outputs": [
    {
     "data": {
      "text/html": [
       "<div>\n",
       "<style scoped>\n",
       "    .dataframe tbody tr th:only-of-type {\n",
       "        vertical-align: middle;\n",
       "    }\n",
       "\n",
       "    .dataframe tbody tr th {\n",
       "        vertical-align: top;\n",
       "    }\n",
       "\n",
       "    .dataframe thead th {\n",
       "        text-align: right;\n",
       "    }\n",
       "</style>\n",
       "<table border=\"1\" class=\"dataframe\">\n",
       "  <thead>\n",
       "    <tr style=\"text-align: right;\">\n",
       "      <th></th>\n",
       "      <th>0</th>\n",
       "      <th>1</th>\n",
       "      <th>2</th>\n",
       "      <th>3</th>\n",
       "      <th>4</th>\n",
       "      <th>5</th>\n",
       "      <th>6</th>\n",
       "    </tr>\n",
       "  </thead>\n",
       "  <tbody>\n",
       "    <tr>\n",
       "      <th>0</th>\n",
       "      <td>0.0</td>\n",
       "      <td>0.0</td>\n",
       "      <td>1.0</td>\n",
       "      <td>0.0</td>\n",
       "      <td>0.0</td>\n",
       "      <td>0.0</td>\n",
       "      <td>1.0</td>\n",
       "    </tr>\n",
       "    <tr>\n",
       "      <th>1</th>\n",
       "      <td>0.0</td>\n",
       "      <td>1.0</td>\n",
       "      <td>1.0</td>\n",
       "      <td>1.0</td>\n",
       "      <td>0.0</td>\n",
       "      <td>0.0</td>\n",
       "      <td>0.0</td>\n",
       "    </tr>\n",
       "    <tr>\n",
       "      <th>2</th>\n",
       "      <td>0.0</td>\n",
       "      <td>1.0</td>\n",
       "      <td>0.0</td>\n",
       "      <td>1.0</td>\n",
       "      <td>0.0</td>\n",
       "      <td>0.0</td>\n",
       "      <td>0.0</td>\n",
       "    </tr>\n",
       "    <tr>\n",
       "      <th>3</th>\n",
       "      <td>1.0</td>\n",
       "      <td>0.0</td>\n",
       "      <td>0.0</td>\n",
       "      <td>0.0</td>\n",
       "      <td>0.0</td>\n",
       "      <td>1.0</td>\n",
       "      <td>0.0</td>\n",
       "    </tr>\n",
       "    <tr>\n",
       "      <th>4</th>\n",
       "      <td>0.0</td>\n",
       "      <td>0.0</td>\n",
       "      <td>1.0</td>\n",
       "      <td>0.0</td>\n",
       "      <td>0.0</td>\n",
       "      <td>0.0</td>\n",
       "      <td>1.0</td>\n",
       "    </tr>\n",
       "    <tr>\n",
       "      <th>...</th>\n",
       "      <td>...</td>\n",
       "      <td>...</td>\n",
       "      <td>...</td>\n",
       "      <td>...</td>\n",
       "      <td>...</td>\n",
       "      <td>...</td>\n",
       "      <td>...</td>\n",
       "    </tr>\n",
       "    <tr>\n",
       "      <th>663</th>\n",
       "      <td>0.0</td>\n",
       "      <td>0.0</td>\n",
       "      <td>0.0</td>\n",
       "      <td>0.0</td>\n",
       "      <td>0.0</td>\n",
       "      <td>1.0</td>\n",
       "      <td>0.0</td>\n",
       "    </tr>\n",
       "    <tr>\n",
       "      <th>664</th>\n",
       "      <td>0.0</td>\n",
       "      <td>1.0</td>\n",
       "      <td>1.0</td>\n",
       "      <td>0.0</td>\n",
       "      <td>0.0</td>\n",
       "      <td>1.0</td>\n",
       "      <td>0.0</td>\n",
       "    </tr>\n",
       "    <tr>\n",
       "      <th>665</th>\n",
       "      <td>0.0</td>\n",
       "      <td>1.0</td>\n",
       "      <td>1.0</td>\n",
       "      <td>0.0</td>\n",
       "      <td>1.0</td>\n",
       "      <td>0.0</td>\n",
       "      <td>0.0</td>\n",
       "    </tr>\n",
       "    <tr>\n",
       "      <th>666</th>\n",
       "      <td>0.0</td>\n",
       "      <td>1.0</td>\n",
       "      <td>0.0</td>\n",
       "      <td>1.0</td>\n",
       "      <td>0.0</td>\n",
       "      <td>0.0</td>\n",
       "      <td>0.0</td>\n",
       "    </tr>\n",
       "    <tr>\n",
       "      <th>667</th>\n",
       "      <td>0.0</td>\n",
       "      <td>1.0</td>\n",
       "      <td>1.0</td>\n",
       "      <td>0.0</td>\n",
       "      <td>0.0</td>\n",
       "      <td>1.0</td>\n",
       "      <td>0.0</td>\n",
       "    </tr>\n",
       "  </tbody>\n",
       "</table>\n",
       "<p>668 rows × 7 columns</p>\n",
       "</div>"
      ],
      "text/plain": [
       "       0    1    2    3    4    5    6\n",
       "0    0.0  0.0  1.0  0.0  0.0  0.0  1.0\n",
       "1    0.0  1.0  1.0  1.0  0.0  0.0  0.0\n",
       "2    0.0  1.0  0.0  1.0  0.0  0.0  0.0\n",
       "3    1.0  0.0  0.0  0.0  0.0  1.0  0.0\n",
       "4    0.0  0.0  1.0  0.0  0.0  0.0  1.0\n",
       "..   ...  ...  ...  ...  ...  ...  ...\n",
       "663  0.0  0.0  0.0  0.0  0.0  1.0  0.0\n",
       "664  0.0  1.0  1.0  0.0  0.0  1.0  0.0\n",
       "665  0.0  1.0  1.0  0.0  1.0  0.0  0.0\n",
       "666  0.0  1.0  0.0  1.0  0.0  0.0  0.0\n",
       "667  0.0  1.0  1.0  0.0  0.0  1.0  0.0\n",
       "\n",
       "[668 rows x 7 columns]"
      ]
     },
     "execution_count": 441,
     "metadata": {},
     "output_type": "execute_result"
    }
   ],
   "source": [
    "x_train_fe"
   ]
  },
  {
   "cell_type": "code",
   "execution_count": 442,
   "id": "8b81fb21",
   "metadata": {},
   "outputs": [],
   "source": [
    "columns  = ['PClass_2','PClass_3','male','Age_1','Age_2','Age_3','Age_4'] #,'Age_5'] #,'Age_6']"
   ]
  },
  {
   "cell_type": "code",
   "execution_count": 443,
   "id": "7253929a",
   "metadata": {},
   "outputs": [],
   "source": [
    "x_train_fe.columns = columns\n",
    "x_test_fe.columns = columns"
   ]
  },
  {
   "cell_type": "code",
   "execution_count": 444,
   "id": "5962f8ad",
   "metadata": {},
   "outputs": [
    {
     "data": {
      "text/html": [
       "<div>\n",
       "<style scoped>\n",
       "    .dataframe tbody tr th:only-of-type {\n",
       "        vertical-align: middle;\n",
       "    }\n",
       "\n",
       "    .dataframe tbody tr th {\n",
       "        vertical-align: top;\n",
       "    }\n",
       "\n",
       "    .dataframe thead th {\n",
       "        text-align: right;\n",
       "    }\n",
       "</style>\n",
       "<table border=\"1\" class=\"dataframe\">\n",
       "  <thead>\n",
       "    <tr style=\"text-align: right;\">\n",
       "      <th></th>\n",
       "      <th>PClass_2</th>\n",
       "      <th>PClass_3</th>\n",
       "      <th>male</th>\n",
       "      <th>Age_1</th>\n",
       "      <th>Age_2</th>\n",
       "      <th>Age_3</th>\n",
       "      <th>Age_4</th>\n",
       "    </tr>\n",
       "  </thead>\n",
       "  <tbody>\n",
       "    <tr>\n",
       "      <th>0</th>\n",
       "      <td>0.0</td>\n",
       "      <td>0.0</td>\n",
       "      <td>1.0</td>\n",
       "      <td>0.0</td>\n",
       "      <td>0.0</td>\n",
       "      <td>0.0</td>\n",
       "      <td>1.0</td>\n",
       "    </tr>\n",
       "    <tr>\n",
       "      <th>1</th>\n",
       "      <td>0.0</td>\n",
       "      <td>1.0</td>\n",
       "      <td>1.0</td>\n",
       "      <td>1.0</td>\n",
       "      <td>0.0</td>\n",
       "      <td>0.0</td>\n",
       "      <td>0.0</td>\n",
       "    </tr>\n",
       "    <tr>\n",
       "      <th>2</th>\n",
       "      <td>0.0</td>\n",
       "      <td>1.0</td>\n",
       "      <td>0.0</td>\n",
       "      <td>1.0</td>\n",
       "      <td>0.0</td>\n",
       "      <td>0.0</td>\n",
       "      <td>0.0</td>\n",
       "    </tr>\n",
       "    <tr>\n",
       "      <th>3</th>\n",
       "      <td>1.0</td>\n",
       "      <td>0.0</td>\n",
       "      <td>0.0</td>\n",
       "      <td>0.0</td>\n",
       "      <td>0.0</td>\n",
       "      <td>1.0</td>\n",
       "      <td>0.0</td>\n",
       "    </tr>\n",
       "    <tr>\n",
       "      <th>4</th>\n",
       "      <td>0.0</td>\n",
       "      <td>0.0</td>\n",
       "      <td>1.0</td>\n",
       "      <td>0.0</td>\n",
       "      <td>0.0</td>\n",
       "      <td>0.0</td>\n",
       "      <td>1.0</td>\n",
       "    </tr>\n",
       "    <tr>\n",
       "      <th>...</th>\n",
       "      <td>...</td>\n",
       "      <td>...</td>\n",
       "      <td>...</td>\n",
       "      <td>...</td>\n",
       "      <td>...</td>\n",
       "      <td>...</td>\n",
       "      <td>...</td>\n",
       "    </tr>\n",
       "    <tr>\n",
       "      <th>663</th>\n",
       "      <td>0.0</td>\n",
       "      <td>0.0</td>\n",
       "      <td>0.0</td>\n",
       "      <td>0.0</td>\n",
       "      <td>0.0</td>\n",
       "      <td>1.0</td>\n",
       "      <td>0.0</td>\n",
       "    </tr>\n",
       "    <tr>\n",
       "      <th>664</th>\n",
       "      <td>0.0</td>\n",
       "      <td>1.0</td>\n",
       "      <td>1.0</td>\n",
       "      <td>0.0</td>\n",
       "      <td>0.0</td>\n",
       "      <td>1.0</td>\n",
       "      <td>0.0</td>\n",
       "    </tr>\n",
       "    <tr>\n",
       "      <th>665</th>\n",
       "      <td>0.0</td>\n",
       "      <td>1.0</td>\n",
       "      <td>1.0</td>\n",
       "      <td>0.0</td>\n",
       "      <td>1.0</td>\n",
       "      <td>0.0</td>\n",
       "      <td>0.0</td>\n",
       "    </tr>\n",
       "    <tr>\n",
       "      <th>666</th>\n",
       "      <td>0.0</td>\n",
       "      <td>1.0</td>\n",
       "      <td>0.0</td>\n",
       "      <td>1.0</td>\n",
       "      <td>0.0</td>\n",
       "      <td>0.0</td>\n",
       "      <td>0.0</td>\n",
       "    </tr>\n",
       "    <tr>\n",
       "      <th>667</th>\n",
       "      <td>0.0</td>\n",
       "      <td>1.0</td>\n",
       "      <td>1.0</td>\n",
       "      <td>0.0</td>\n",
       "      <td>0.0</td>\n",
       "      <td>1.0</td>\n",
       "      <td>0.0</td>\n",
       "    </tr>\n",
       "  </tbody>\n",
       "</table>\n",
       "<p>668 rows × 7 columns</p>\n",
       "</div>"
      ],
      "text/plain": [
       "     PClass_2  PClass_3  male  Age_1  Age_2  Age_3  Age_4\n",
       "0         0.0       0.0   1.0    0.0    0.0    0.0    1.0\n",
       "1         0.0       1.0   1.0    1.0    0.0    0.0    0.0\n",
       "2         0.0       1.0   0.0    1.0    0.0    0.0    0.0\n",
       "3         1.0       0.0   0.0    0.0    0.0    1.0    0.0\n",
       "4         0.0       0.0   1.0    0.0    0.0    0.0    1.0\n",
       "..        ...       ...   ...    ...    ...    ...    ...\n",
       "663       0.0       0.0   0.0    0.0    0.0    1.0    0.0\n",
       "664       0.0       1.0   1.0    0.0    0.0    1.0    0.0\n",
       "665       0.0       1.0   1.0    0.0    1.0    0.0    0.0\n",
       "666       0.0       1.0   0.0    1.0    0.0    0.0    0.0\n",
       "667       0.0       1.0   1.0    0.0    0.0    1.0    0.0\n",
       "\n",
       "[668 rows x 7 columns]"
      ]
     },
     "execution_count": 444,
     "metadata": {},
     "output_type": "execute_result"
    }
   ],
   "source": [
    "x_train_fe"
   ]
  },
  {
   "cell_type": "code",
   "execution_count": 445,
   "id": "9accd8db",
   "metadata": {},
   "outputs": [],
   "source": [
    "# Pclass: OHE for LogReg"
   ]
  },
  {
   "cell_type": "code",
   "execution_count": 446,
   "id": "27346c6e",
   "metadata": {},
   "outputs": [],
   "source": [
    "# Age: Binning, OHE for LogReg"
   ]
  },
  {
   "cell_type": "code",
   "execution_count": 447,
   "id": "17faf333",
   "metadata": {},
   "outputs": [],
   "source": [
    "# Sex: to number, OHE for LogReg"
   ]
  },
  {
   "cell_type": "markdown",
   "id": "015b2d88-591c-46a1-b5b6-5a13623a94a2",
   "metadata": {},
   "source": [
    "## 2. Machine Learning"
   ]
  },
  {
   "cell_type": "markdown",
   "id": "95eeb24b-40a8-4ce7-9fb9-45e23fd8ab92",
   "metadata": {},
   "source": [
    "#### Logistic Regression 1 feature"
   ]
  },
  {
   "cell_type": "markdown",
   "id": "f9785431-4c98-4443-8238-f6ccb56319dc",
   "metadata": {},
   "source": [
    "Prepare Data for ML:\n",
    "- training: learning parameter values\n",
    "- testing: test parameter values found in the training"
   ]
  },
  {
   "cell_type": "code",
   "execution_count": 284,
   "id": "32cfeaf6-2211-4a60-b38e-7d59ed7a7ab4",
   "metadata": {
    "tags": []
   },
   "outputs": [],
   "source": [
    "# Pclass: feature order defined by transformer \n",
    "x_train = x_train_fe[['PClass_2','PClass_3']]\n",
    "x_test = x_test_fe[['PClass_2','PClass_3']]"
   ]
  },
  {
   "cell_type": "code",
   "execution_count": 285,
   "id": "ebea01ca",
   "metadata": {},
   "outputs": [
    {
     "data": {
      "text/plain": [
       "((668, 2), (223, 2), (668,), (223,))"
      ]
     },
     "execution_count": 285,
     "metadata": {},
     "output_type": "execute_result"
    }
   ],
   "source": [
    "x_train.shape, x_test.shape, y_train.shape, y_test.shape "
   ]
  },
  {
   "cell_type": "code",
   "execution_count": 286,
   "id": "a60240b9",
   "metadata": {},
   "outputs": [
    {
     "data": {
      "text/html": [
       "<div>\n",
       "<style scoped>\n",
       "    .dataframe tbody tr th:only-of-type {\n",
       "        vertical-align: middle;\n",
       "    }\n",
       "\n",
       "    .dataframe tbody tr th {\n",
       "        vertical-align: top;\n",
       "    }\n",
       "\n",
       "    .dataframe thead th {\n",
       "        text-align: right;\n",
       "    }\n",
       "</style>\n",
       "<table border=\"1\" class=\"dataframe\">\n",
       "  <thead>\n",
       "    <tr style=\"text-align: right;\">\n",
       "      <th></th>\n",
       "      <th>PClass_2</th>\n",
       "      <th>PClass_3</th>\n",
       "    </tr>\n",
       "  </thead>\n",
       "  <tbody>\n",
       "    <tr>\n",
       "      <th>0</th>\n",
       "      <td>0.0</td>\n",
       "      <td>0.0</td>\n",
       "    </tr>\n",
       "    <tr>\n",
       "      <th>1</th>\n",
       "      <td>0.0</td>\n",
       "      <td>1.0</td>\n",
       "    </tr>\n",
       "    <tr>\n",
       "      <th>2</th>\n",
       "      <td>0.0</td>\n",
       "      <td>1.0</td>\n",
       "    </tr>\n",
       "  </tbody>\n",
       "</table>\n",
       "</div>"
      ],
      "text/plain": [
       "   PClass_2  PClass_3\n",
       "0       0.0       0.0\n",
       "1       0.0       1.0\n",
       "2       0.0       1.0"
      ]
     },
     "execution_count": 286,
     "metadata": {},
     "output_type": "execute_result"
    }
   ],
   "source": [
    "x_train.head(3)"
   ]
  },
  {
   "cell_type": "code",
   "execution_count": 287,
   "id": "0c877764-89b0-49d6-b8f3-7a3f55fa76dc",
   "metadata": {},
   "outputs": [],
   "source": [
    "m_lr = LogisticRegression(max_iter=100)"
   ]
  },
  {
   "cell_type": "code",
   "execution_count": 288,
   "id": "dff9a3c5-b451-49c2-add8-8ac535bbc9c5",
   "metadata": {},
   "outputs": [
    {
     "data": {
      "text/plain": [
       "LogisticRegression()"
      ]
     },
     "execution_count": 288,
     "metadata": {},
     "output_type": "execute_result"
    }
   ],
   "source": [
    "m_lr.fit(x_train, y_train)"
   ]
  },
  {
   "cell_type": "code",
   "execution_count": 249,
   "id": "a99d9c75",
   "metadata": {},
   "outputs": [
    {
     "data": {
      "text/plain": [
       "0.6721556886227545"
      ]
     },
     "execution_count": 249,
     "metadata": {},
     "output_type": "execute_result"
    }
   ],
   "source": [
    "m_lr.score(x_train, y_train)"
   ]
  },
  {
   "cell_type": "code",
   "execution_count": 250,
   "id": "6b442551-1dd3-44da-977a-9e5a828e61cc",
   "metadata": {},
   "outputs": [
    {
     "data": {
      "text/plain": [
       "0.6995515695067265"
      ]
     },
     "execution_count": 250,
     "metadata": {},
     "output_type": "execute_result"
    }
   ],
   "source": [
    "m_lr.score(x_test, y_test)"
   ]
  },
  {
   "cell_type": "code",
   "execution_count": 251,
   "id": "8c86a42a-c903-4d0d-a6ac-8b99f9981d9e",
   "metadata": {
    "tags": []
   },
   "outputs": [
    {
     "data": {
      "text/plain": [
       "(array([0.47010256]), array([[-0.51260651, -1.56051833]]), 2)"
      ]
     },
     "execution_count": 251,
     "metadata": {},
     "output_type": "execute_result"
    }
   ],
   "source": [
    "m_lr.intercept_, m_lr.coef_, m_lr.n_features_in_"
   ]
  },
  {
   "cell_type": "code",
   "execution_count": 156,
   "id": "7f94f7ff",
   "metadata": {},
   "outputs": [
    {
     "data": {
      "text/plain": [
       "array([0, 0, 0, 0, 0, 1, 0, 0, 1, 0, 1, 0, 1, 0, 0, 0, 0, 1, 0, 0, 0, 0,\n",
       "       0, 0, 1, 1, 0, 0, 0, 0, 0, 0, 0, 1, 1, 0, 0, 1, 0, 0, 0, 0, 0, 0,\n",
       "       0, 0, 0, 0, 1, 0, 0, 1, 1, 1, 0, 1, 0, 0, 1, 0, 0, 0, 0, 0, 0, 1,\n",
       "       0, 1, 0, 1, 1, 1, 0, 0, 0, 0, 0, 0, 0, 0, 0, 0, 1, 0, 0, 0, 0, 0,\n",
       "       0, 0, 0, 0, 0, 0, 1, 0, 0, 0, 0, 0, 0, 1, 1, 0, 1, 1, 0, 0, 0, 0,\n",
       "       0, 0, 0, 0, 0, 0, 0, 0, 1, 0, 0, 0, 1, 0, 0, 1, 0, 0, 0, 1, 0, 0,\n",
       "       0, 0, 0, 0, 0, 1, 0, 0, 0, 0, 0, 0, 0, 0, 0, 1, 0, 0, 1, 0, 0, 0,\n",
       "       1, 0, 0, 0, 0, 0, 0, 0, 0, 0, 0, 0, 0, 0, 0, 0, 0, 1, 1, 0, 1, 0,\n",
       "       0, 0, 1, 0, 0, 0, 0, 0, 0, 1, 0, 1, 1, 1, 1, 0, 0, 0, 0, 1, 1, 0,\n",
       "       1, 1, 1, 0, 0, 0, 0, 1, 0, 0, 0, 0, 0, 0, 0, 0, 0, 1, 0, 0, 0, 0,\n",
       "       0, 0, 1], dtype=int64)"
      ]
     },
     "execution_count": 156,
     "metadata": {},
     "output_type": "execute_result"
    }
   ],
   "source": [
    "m_lr.predict(x_test)"
   ]
  },
  {
   "cell_type": "code",
   "execution_count": 157,
   "id": "8c15e3f9",
   "metadata": {},
   "outputs": [],
   "source": [
    "y_pred=m_lr.predict(x_test)"
   ]
  },
  {
   "cell_type": "markdown",
   "id": "211ed4a7",
   "metadata": {},
   "source": [
    "### 2.2 Evaluating LogReg Model"
   ]
  },
  {
   "cell_type": "code",
   "execution_count": 158,
   "id": "6edd45fc",
   "metadata": {},
   "outputs": [],
   "source": [
    "# let's start with the confusion matrix"
   ]
  },
  {
   "cell_type": "code",
   "execution_count": 219,
   "id": "56977498",
   "metadata": {},
   "outputs": [
    {
     "data": {
      "text/plain": [
       "array([[125,  17],\n",
       "       [ 26,  55]], dtype=int64)"
      ]
     },
     "execution_count": 219,
     "metadata": {},
     "output_type": "execute_result"
    }
   ],
   "source": [
    "confusion_matrix(y_true=y_test,y_pred=y_pred)"
   ]
  },
  {
   "cell_type": "code",
   "execution_count": 220,
   "id": "72401ef5",
   "metadata": {},
   "outputs": [
    {
     "name": "stderr",
     "output_type": "stream",
     "text": [
      "C:\\Users\\PC\\anaconda3\\envs\\scklearn_env\\lib\\site-packages\\sklearn\\utils\\deprecation.py:87: FutureWarning: Function plot_confusion_matrix is deprecated; Function `plot_confusion_matrix` is deprecated in 1.0 and will be removed in 1.2. Use one of the class methods: ConfusionMatrixDisplay.from_predictions or ConfusionMatrixDisplay.from_estimator.\n",
      "  warnings.warn(msg, category=FutureWarning)\n"
     ]
    },
    {
     "data": {
      "text/plain": [
       "<sklearn.metrics._plot.confusion_matrix.ConfusionMatrixDisplay at 0x210a64824c0>"
      ]
     },
     "execution_count": 220,
     "metadata": {},
     "output_type": "execute_result"
    },
    {
     "data": {
      "image/png": "[encoded data removed]",
      "text/plain": [
       "<Figure size 432x288 with 2 Axes>"
      ]
     },
     "metadata": {
      "needs_background": "light"
     },
     "output_type": "display_data"
    }
   ],
   "source": [
    "plot_confusion_matrix(m_lr,x_test, y_test,normalize=None)"
   ]
  },
  {
   "cell_type": "markdown",
   "id": "834cdc69",
   "metadata": {},
   "source": [
    "### Performance Metrics"
   ]
  },
  {
   "cell_type": "code",
   "execution_count": 161,
   "id": "8b597d4a",
   "metadata": {},
   "outputs": [],
   "source": [
    "# accuracy: (tp+tn)/(tp+fp+tn+fn)=(40+109)/(40+19+109+55)=0.66816"
   ]
  },
  {
   "cell_type": "code",
   "execution_count": 162,
   "id": "7e518271",
   "metadata": {},
   "outputs": [
    {
     "data": {
      "text/plain": [
       "0.6995515695067265"
      ]
     },
     "execution_count": 162,
     "metadata": {},
     "output_type": "execute_result"
    }
   ],
   "source": [
    "accuracy_score(y_test, y_pred)"
   ]
  },
  {
   "cell_type": "code",
   "execution_count": 163,
   "id": "53054bae",
   "metadata": {},
   "outputs": [
    {
     "data": {
      "text/plain": [
       "0.6346153846153846"
      ]
     },
     "execution_count": 163,
     "metadata": {},
     "output_type": "execute_result"
    }
   ],
   "source": [
    "precision_score(y_test, y_pred)"
   ]
  },
  {
   "cell_type": "code",
   "execution_count": 164,
   "id": "9ca79e08",
   "metadata": {},
   "outputs": [
    {
     "data": {
      "text/plain": [
       "0.4074074074074074"
      ]
     },
     "execution_count": 164,
     "metadata": {},
     "output_type": "execute_result"
    }
   ],
   "source": [
    "recall_score(y_test, y_pred)"
   ]
  },
  {
   "cell_type": "code",
   "execution_count": 165,
   "id": "5ba06a6c",
   "metadata": {},
   "outputs": [
    {
     "data": {
      "text/plain": [
       "0.4962406015037593"
      ]
     },
     "execution_count": 165,
     "metadata": {},
     "output_type": "execute_result"
    }
   ],
   "source": [
    "f1_score(y_test,y_pred)"
   ]
  },
  {
   "cell_type": "code",
   "execution_count": 166,
   "id": "aee05524",
   "metadata": {},
   "outputs": [
    {
     "name": "stderr",
     "output_type": "stream",
     "text": [
      "C:\\Users\\PC\\anaconda3\\envs\\scklearn_env\\lib\\site-packages\\sklearn\\utils\\deprecation.py:87: FutureWarning: Function plot_roc_curve is deprecated; Function :func:`plot_roc_curve` is deprecated in 1.0 and will be removed in 1.2. Use one of the class methods: :meth:`sklearn.metric.RocCurveDisplay.from_predictions` or :meth:`sklearn.metric.RocCurveDisplay.from_estimator`.\n",
      "  warnings.warn(msg, category=FutureWarning)\n"
     ]
    },
    {
     "data": {
      "text/plain": [
       "<sklearn.metrics._plot.roc_curve.RocCurveDisplay at 0x210abf03bb0>"
      ]
     },
     "execution_count": 166,
     "metadata": {},
     "output_type": "execute_result"
    },
    {
     "data": {
      "image/png": "[encoded data removed]",
      "text/plain": [
       "<Figure size 432x288 with 1 Axes>"
      ]
     },
     "metadata": {
      "needs_background": "light"
     },
     "output_type": "display_data"
    }
   ],
   "source": [
    "# plot ROC\n",
    "plot_roc_curve(m_lr,x_test,y_test)"
   ]
  },
  {
   "cell_type": "code",
   "execution_count": 167,
   "id": "0945cb6e",
   "metadata": {},
   "outputs": [],
   "source": [
    "# AUC"
   ]
  },
  {
   "cell_type": "code",
   "execution_count": 168,
   "id": "adaebc39",
   "metadata": {},
   "outputs": [
    {
     "data": {
      "text/plain": [
       "array([[0.75, 0.25],\n",
       "       [0.51, 0.49],\n",
       "       [0.51, 0.49]])"
      ]
     },
     "execution_count": 168,
     "metadata": {},
     "output_type": "execute_result"
    }
   ],
   "source": [
    "probs = m_lr.predict_proba(x_test) \n",
    "probs.round(2)[:3,:]"
   ]
  },
  {
   "cell_type": "code",
   "execution_count": 169,
   "id": "5feebb62",
   "metadata": {},
   "outputs": [],
   "source": [
    "fpr, tpr, threshold = roc_curve(y_test, probs[:,1]);"
   ]
  },
  {
   "cell_type": "code",
   "execution_count": 170,
   "id": "1cf73059",
   "metadata": {},
   "outputs": [
    {
     "name": "stdout",
     "output_type": "stream",
     "text": [
      "Area under the curve =  0.6862284820031298\n"
     ]
    }
   ],
   "source": [
    "auc_score = auc(fpr, tpr)\n",
    "print(\"Area under the curve = \",auc_score)"
   ]
  },
  {
   "cell_type": "markdown",
   "id": "1d42edc9",
   "metadata": {},
   "source": [
    "Find out the threshhold: max(tpr-fpr)"
   ]
  },
  {
   "cell_type": "code",
   "execution_count": 171,
   "id": "16f42e27",
   "metadata": {},
   "outputs": [
    {
     "data": {
      "text/plain": [
       "2"
      ]
     },
     "execution_count": 171,
     "metadata": {},
     "output_type": "execute_result"
    }
   ],
   "source": [
    "max_index = np.argmax(tpr - fpr)\n",
    "max_index"
   ]
  },
  {
   "cell_type": "code",
   "execution_count": 172,
   "id": "e9558627",
   "metadata": {},
   "outputs": [
    {
     "data": {
      "text/plain": [
       "0.489375610710344"
      ]
     },
     "execution_count": 172,
     "metadata": {},
     "output_type": "execute_result"
    }
   ],
   "source": [
    "threshold[max_index] #optimal prob for classifying for the positive class"
   ]
  },
  {
   "cell_type": "markdown",
   "id": "abec069e",
   "metadata": {},
   "source": [
    "Really bad"
   ]
  },
  {
   "cell_type": "code",
   "execution_count": 173,
   "id": "1a798975",
   "metadata": {},
   "outputs": [],
   "source": [
    "# Pclass still needs to be oh-encoded, scaled for LogReg"
   ]
  },
  {
   "cell_type": "code",
   "execution_count": 174,
   "id": "bf22eb31",
   "metadata": {},
   "outputs": [],
   "source": [
    "# other things to vary\n",
    "# hyperparameter: penalty\n",
    "# class weigth"
   ]
  },
  {
   "cell_type": "markdown",
   "id": "352ea089-ca29-4f32-ae3b-49a743310b9a",
   "metadata": {},
   "source": [
    "### 2.2 Cross Validation"
   ]
  },
  {
   "cell_type": "code",
   "execution_count": 175,
   "id": "7056d427-d5a4-4d94-b527-8c7b70981a7f",
   "metadata": {},
   "outputs": [],
   "source": [
    "# train-test split was chosen for this project"
   ]
  },
  {
   "cell_type": "markdown",
   "id": "624720d0-97f9-4f85-aad1-c3cbe361ee4e",
   "metadata": {},
   "source": [
    "### 2.3 Decision Tree Classifier with sklearn"
   ]
  },
  {
   "cell_type": "markdown",
   "id": "ad3f079d-aeeb-4f82-919b-7215eaa9925d",
   "metadata": {},
   "source": [
    "Trial with one feature is not so meaningful"
   ]
  },
  {
   "cell_type": "code",
   "execution_count": 176,
   "id": "956fbf49-cdce-4c76-98a0-cfaae8fa6b9f",
   "metadata": {},
   "outputs": [],
   "source": [
    "m_dt = DecisionTreeClassifier(max_depth=4)"
   ]
  },
  {
   "cell_type": "code",
   "execution_count": 177,
   "id": "1d907b84-9319-4e2a-807b-8f455276b9df",
   "metadata": {},
   "outputs": [
    {
     "data": {
      "text/plain": [
       "DecisionTreeClassifier(max_depth=4)"
      ]
     },
     "execution_count": 177,
     "metadata": {},
     "output_type": "execute_result"
    }
   ],
   "source": [
    "m_dt.fit(x_train, y_train)"
   ]
  },
  {
   "cell_type": "code",
   "execution_count": 178,
   "id": "cacde6eb-d9a6-4bbf-b446-784912c29e79",
   "metadata": {},
   "outputs": [],
   "source": [
    "y_pred = m_dt.predict(x_test)"
   ]
  },
  {
   "cell_type": "code",
   "execution_count": 179,
   "id": "edd63eb9-578e-4882-ae63-2727366e955b",
   "metadata": {},
   "outputs": [
    {
     "data": {
      "text/plain": [
       "(0.672, 0.7)"
      ]
     },
     "execution_count": 179,
     "metadata": {},
     "output_type": "execute_result"
    }
   ],
   "source": [
    "m_dt.score(x_train,y_train).round(3), m_dt.score(x_test,y_test).round(3)"
   ]
  },
  {
   "cell_type": "code",
   "execution_count": 180,
   "id": "7347aecc",
   "metadata": {},
   "outputs": [
    {
     "data": {
      "text/plain": [
       "DecisionTreeClassifier(max_depth=4)"
      ]
     },
     "execution_count": 180,
     "metadata": {},
     "output_type": "execute_result"
    }
   ],
   "source": [
    "m_dt.fit(x_train,y_train)"
   ]
  },
  {
   "cell_type": "code",
   "execution_count": 181,
   "id": "0055ce37",
   "metadata": {},
   "outputs": [],
   "source": [
    "y_pred = m_dt.predict(x_train)"
   ]
  },
  {
   "cell_type": "code",
   "execution_count": 182,
   "id": "641ee449",
   "metadata": {},
   "outputs": [
    {
     "data": {
      "text/plain": [
       "[Text(0.6, 0.8333333333333334, 'Pclass 2 <= 0.5\\ngini = 0.476\\nsamples = 668\\nvalue = [407, 261]\\nclass = Died'),\n",
       " Text(0.4, 0.5, 'Pclass 1 <= 0.5\\ngini = 0.492\\nsamples = 304\\nvalue = [133, 171]\\nclass = Survived'),\n",
       " Text(0.2, 0.16666666666666666, 'gini = 0.467\\nsamples = 164\\nvalue = [61, 103]\\nclass = Survived'),\n",
       " Text(0.6, 0.16666666666666666, 'gini = 0.5\\nsamples = 140\\nvalue = [72, 68]\\nclass = Died'),\n",
       " Text(0.8, 0.5, 'gini = 0.372\\nsamples = 364\\nvalue = [274, 90]\\nclass = Died')]"
      ]
     },
     "execution_count": 182,
     "metadata": {},
     "output_type": "execute_result"
    },
    {
     "data": {
      "image/png": "[encoded data removed]",
      "text/plain": [
       "<Figure size 432x288 with 1 Axes>"
      ]
     },
     "metadata": {
      "needs_background": "light"
     },
     "output_type": "display_data"
    }
   ],
   "source": [
    "plt.figure()\n",
    "plot_tree(m_dt, filled=True, feature_names=['Pclass 1','Pclass 2','Pclass 3'], class_names=['Died','Survived'])"
   ]
  },
  {
   "cell_type": "markdown",
   "id": "2b52221b",
   "metadata": {},
   "source": [
    "### Considering more features"
   ]
  },
  {
   "cell_type": "code",
   "execution_count": 697,
   "id": "5cc6d547",
   "metadata": {},
   "outputs": [],
   "source": [
    "# another single feature"
   ]
  },
  {
   "cell_type": "code",
   "execution_count": 289,
   "id": "8f062449",
   "metadata": {},
   "outputs": [
    {
     "data": {
      "text/html": [
       "<div>\n",
       "<style scoped>\n",
       "    .dataframe tbody tr th:only-of-type {\n",
       "        vertical-align: middle;\n",
       "    }\n",
       "\n",
       "    .dataframe tbody tr th {\n",
       "        vertical-align: top;\n",
       "    }\n",
       "\n",
       "    .dataframe thead th {\n",
       "        text-align: right;\n",
       "    }\n",
       "</style>\n",
       "<table border=\"1\" class=\"dataframe\">\n",
       "  <thead>\n",
       "    <tr style=\"text-align: right;\">\n",
       "      <th></th>\n",
       "      <th>PClass_2</th>\n",
       "      <th>PClass_3</th>\n",
       "      <th>male</th>\n",
       "      <th>Age_1</th>\n",
       "      <th>Age_2</th>\n",
       "      <th>Age_3</th>\n",
       "      <th>Age_4</th>\n",
       "    </tr>\n",
       "  </thead>\n",
       "  <tbody>\n",
       "    <tr>\n",
       "      <th>0</th>\n",
       "      <td>0.0</td>\n",
       "      <td>0.0</td>\n",
       "      <td>1.0</td>\n",
       "      <td>0.0</td>\n",
       "      <td>0.0</td>\n",
       "      <td>0.0</td>\n",
       "      <td>1.0</td>\n",
       "    </tr>\n",
       "    <tr>\n",
       "      <th>1</th>\n",
       "      <td>0.0</td>\n",
       "      <td>1.0</td>\n",
       "      <td>1.0</td>\n",
       "      <td>1.0</td>\n",
       "      <td>0.0</td>\n",
       "      <td>0.0</td>\n",
       "      <td>0.0</td>\n",
       "    </tr>\n",
       "    <tr>\n",
       "      <th>2</th>\n",
       "      <td>0.0</td>\n",
       "      <td>1.0</td>\n",
       "      <td>0.0</td>\n",
       "      <td>1.0</td>\n",
       "      <td>0.0</td>\n",
       "      <td>0.0</td>\n",
       "      <td>0.0</td>\n",
       "    </tr>\n",
       "    <tr>\n",
       "      <th>3</th>\n",
       "      <td>1.0</td>\n",
       "      <td>0.0</td>\n",
       "      <td>0.0</td>\n",
       "      <td>0.0</td>\n",
       "      <td>0.0</td>\n",
       "      <td>1.0</td>\n",
       "      <td>0.0</td>\n",
       "    </tr>\n",
       "    <tr>\n",
       "      <th>4</th>\n",
       "      <td>0.0</td>\n",
       "      <td>0.0</td>\n",
       "      <td>1.0</td>\n",
       "      <td>0.0</td>\n",
       "      <td>0.0</td>\n",
       "      <td>0.0</td>\n",
       "      <td>1.0</td>\n",
       "    </tr>\n",
       "    <tr>\n",
       "      <th>...</th>\n",
       "      <td>...</td>\n",
       "      <td>...</td>\n",
       "      <td>...</td>\n",
       "      <td>...</td>\n",
       "      <td>...</td>\n",
       "      <td>...</td>\n",
       "      <td>...</td>\n",
       "    </tr>\n",
       "    <tr>\n",
       "      <th>663</th>\n",
       "      <td>0.0</td>\n",
       "      <td>0.0</td>\n",
       "      <td>0.0</td>\n",
       "      <td>0.0</td>\n",
       "      <td>0.0</td>\n",
       "      <td>1.0</td>\n",
       "      <td>0.0</td>\n",
       "    </tr>\n",
       "    <tr>\n",
       "      <th>664</th>\n",
       "      <td>0.0</td>\n",
       "      <td>1.0</td>\n",
       "      <td>1.0</td>\n",
       "      <td>0.0</td>\n",
       "      <td>0.0</td>\n",
       "      <td>1.0</td>\n",
       "      <td>0.0</td>\n",
       "    </tr>\n",
       "    <tr>\n",
       "      <th>665</th>\n",
       "      <td>0.0</td>\n",
       "      <td>1.0</td>\n",
       "      <td>1.0</td>\n",
       "      <td>0.0</td>\n",
       "      <td>1.0</td>\n",
       "      <td>0.0</td>\n",
       "      <td>0.0</td>\n",
       "    </tr>\n",
       "    <tr>\n",
       "      <th>666</th>\n",
       "      <td>0.0</td>\n",
       "      <td>1.0</td>\n",
       "      <td>0.0</td>\n",
       "      <td>1.0</td>\n",
       "      <td>0.0</td>\n",
       "      <td>0.0</td>\n",
       "      <td>0.0</td>\n",
       "    </tr>\n",
       "    <tr>\n",
       "      <th>667</th>\n",
       "      <td>0.0</td>\n",
       "      <td>1.0</td>\n",
       "      <td>1.0</td>\n",
       "      <td>0.0</td>\n",
       "      <td>0.0</td>\n",
       "      <td>1.0</td>\n",
       "      <td>0.0</td>\n",
       "    </tr>\n",
       "  </tbody>\n",
       "</table>\n",
       "<p>668 rows × 7 columns</p>\n",
       "</div>"
      ],
      "text/plain": [
       "     PClass_2  PClass_3  male  Age_1  Age_2  Age_3  Age_4\n",
       "0         0.0       0.0   1.0    0.0    0.0    0.0    1.0\n",
       "1         0.0       1.0   1.0    1.0    0.0    0.0    0.0\n",
       "2         0.0       1.0   0.0    1.0    0.0    0.0    0.0\n",
       "3         1.0       0.0   0.0    0.0    0.0    1.0    0.0\n",
       "4         0.0       0.0   1.0    0.0    0.0    0.0    1.0\n",
       "..        ...       ...   ...    ...    ...    ...    ...\n",
       "663       0.0       0.0   0.0    0.0    0.0    1.0    0.0\n",
       "664       0.0       1.0   1.0    0.0    0.0    1.0    0.0\n",
       "665       0.0       1.0   1.0    0.0    1.0    0.0    0.0\n",
       "666       0.0       1.0   0.0    1.0    0.0    0.0    0.0\n",
       "667       0.0       1.0   1.0    0.0    0.0    1.0    0.0\n",
       "\n",
       "[668 rows x 7 columns]"
      ]
     },
     "execution_count": 289,
     "metadata": {},
     "output_type": "execute_result"
    }
   ],
   "source": [
    "x_train_fe"
   ]
  },
  {
   "cell_type": "code",
   "execution_count": 403,
   "id": "61c39d6c",
   "metadata": {
    "tags": []
   },
   "outputs": [],
   "source": [
    "# Age: feature order defined by transformer \n",
    "x_train = x_train_fe.drop(columns=['PClass_2','PClass_3','male'])\n",
    "x_test = x_test_fe.drop(columns=['PClass_2','PClass_3','male'])"
   ]
  },
  {
   "cell_type": "code",
   "execution_count": 404,
   "id": "bfc89144",
   "metadata": {},
   "outputs": [
    {
     "data": {
      "text/plain": [
       "((668, 4), (223, 4), (668,), (223,))"
      ]
     },
     "execution_count": 404,
     "metadata": {},
     "output_type": "execute_result"
    }
   ],
   "source": [
    "x_train.shape, x_test.shape, y_train.shape, y_test.shape "
   ]
  },
  {
   "cell_type": "code",
   "execution_count": 405,
   "id": "0d68f12c",
   "metadata": {},
   "outputs": [
    {
     "data": {
      "text/html": [
       "<div>\n",
       "<style scoped>\n",
       "    .dataframe tbody tr th:only-of-type {\n",
       "        vertical-align: middle;\n",
       "    }\n",
       "\n",
       "    .dataframe tbody tr th {\n",
       "        vertical-align: top;\n",
       "    }\n",
       "\n",
       "    .dataframe thead th {\n",
       "        text-align: right;\n",
       "    }\n",
       "</style>\n",
       "<table border=\"1\" class=\"dataframe\">\n",
       "  <thead>\n",
       "    <tr style=\"text-align: right;\">\n",
       "      <th></th>\n",
       "      <th>Age_1</th>\n",
       "      <th>Age_2</th>\n",
       "      <th>Age_3</th>\n",
       "      <th>Age_4</th>\n",
       "    </tr>\n",
       "  </thead>\n",
       "  <tbody>\n",
       "    <tr>\n",
       "      <th>0</th>\n",
       "      <td>0.0</td>\n",
       "      <td>1.0</td>\n",
       "      <td>0.0</td>\n",
       "      <td>0.0</td>\n",
       "    </tr>\n",
       "    <tr>\n",
       "      <th>1</th>\n",
       "      <td>1.0</td>\n",
       "      <td>0.0</td>\n",
       "      <td>0.0</td>\n",
       "      <td>0.0</td>\n",
       "    </tr>\n",
       "    <tr>\n",
       "      <th>2</th>\n",
       "      <td>1.0</td>\n",
       "      <td>0.0</td>\n",
       "      <td>0.0</td>\n",
       "      <td>0.0</td>\n",
       "    </tr>\n",
       "  </tbody>\n",
       "</table>\n",
       "</div>"
      ],
      "text/plain": [
       "   Age_1  Age_2  Age_3  Age_4\n",
       "0    0.0    1.0    0.0    0.0\n",
       "1    1.0    0.0    0.0    0.0\n",
       "2    1.0    0.0    0.0    0.0"
      ]
     },
     "execution_count": 405,
     "metadata": {},
     "output_type": "execute_result"
    }
   ],
   "source": [
    "x_train.head(3)"
   ]
  },
  {
   "cell_type": "code",
   "execution_count": 406,
   "id": "3d7a00b9",
   "metadata": {},
   "outputs": [
    {
     "data": {
      "text/plain": [
       "(0.6092814371257484, 0.6367713004484304)"
      ]
     },
     "execution_count": 406,
     "metadata": {},
     "output_type": "execute_result"
    }
   ],
   "source": [
    "m_lr.fit(x_train, y_train)\n",
    "m_lr.score(x_train, y_train), m_lr.score(x_test, y_test)"
   ]
  },
  {
   "cell_type": "code",
   "execution_count": 407,
   "id": "58f5a8f1",
   "metadata": {
    "tags": []
   },
   "outputs": [
    {
     "data": {
      "text/plain": [
       "(array([-0.50691387]),\n",
       " array([[ 0.38440953, -0.01268229,  0.0415954 , -0.41328158]]),\n",
       " 4)"
      ]
     },
     "execution_count": 407,
     "metadata": {},
     "output_type": "execute_result"
    }
   ],
   "source": [
    "m_lr.intercept_, m_lr.coef_, m_lr.n_features_in_"
   ]
  },
  {
   "cell_type": "code",
   "execution_count": 408,
   "id": "b52512ec",
   "metadata": {},
   "outputs": [
    {
     "data": {
      "text/plain": [
       "(-0.5069138698705232, 0.3844095260162476)"
      ]
     },
     "execution_count": 408,
     "metadata": {},
     "output_type": "execute_result"
    }
   ],
   "source": [
    "w0 = m_lr.intercept_[0]\n",
    "w1 = m_lr.coef_[0,0]\n",
    "w0, w1"
   ]
  },
  {
   "cell_type": "code",
   "execution_count": 409,
   "id": "bd81a472",
   "metadata": {},
   "outputs": [
    {
     "data": {
      "text/plain": [
       "1.32"
      ]
     },
     "execution_count": 409,
     "metadata": {},
     "output_type": "execute_result"
    }
   ],
   "source": [
    "(-w0/w1).round(2)"
   ]
  },
  {
   "cell_type": "code",
   "execution_count": 410,
   "id": "de77d4c7",
   "metadata": {},
   "outputs": [],
   "source": [
    "#Decision Tree"
   ]
  },
  {
   "cell_type": "code",
   "execution_count": 411,
   "id": "86584e9c",
   "metadata": {},
   "outputs": [],
   "source": [
    "m_dt = DecisionTreeClassifier(max_depth=2)"
   ]
  },
  {
   "cell_type": "code",
   "execution_count": 412,
   "id": "f9456d25",
   "metadata": {
    "scrolled": true
   },
   "outputs": [
    {
     "data": {
      "text/plain": [
       "DecisionTreeClassifier(max_depth=2)"
      ]
     },
     "execution_count": 412,
     "metadata": {},
     "output_type": "execute_result"
    }
   ],
   "source": [
    "m_dt.fit(x_train, y_train)"
   ]
  },
  {
   "cell_type": "code",
   "execution_count": 413,
   "id": "0ec56db3",
   "metadata": {},
   "outputs": [],
   "source": [
    "y_pred = m_dt.predict(x_test)"
   ]
  },
  {
   "cell_type": "code",
   "execution_count": 414,
   "id": "196a2c47",
   "metadata": {},
   "outputs": [
    {
     "data": {
      "text/plain": [
       "(0.6092814371257484, 0.6367713004484304)"
      ]
     },
     "execution_count": 414,
     "metadata": {},
     "output_type": "execute_result"
    }
   ],
   "source": [
    "m_dt.score(x_train,y_train), m_dt.score(x_test,y_test)"
   ]
  },
  {
   "cell_type": "code",
   "execution_count": 415,
   "id": "4b5f6af6",
   "metadata": {},
   "outputs": [
    {
     "data": {
      "text/plain": [
       "[Text(0.6, 0.8333333333333334, 'Age1 <= 0.5\\ngini = 0.476\\nsamples = 668\\nvalue = [407, 261]\\nclass = Died'),\n",
       " Text(0.4, 0.5, 'Age4 <= 0.5\\ngini = 0.467\\nsamples = 541\\nvalue = [340, 201]\\nclass = Died'),\n",
       " Text(0.2, 0.16666666666666666, 'gini = 0.469\\nsamples = 522\\nvalue = [326, 196]\\nclass = Died'),\n",
       " Text(0.6, 0.16666666666666666, 'gini = 0.388\\nsamples = 19\\nvalue = [14, 5]\\nclass = Died'),\n",
       " Text(0.8, 0.5, 'gini = 0.498\\nsamples = 127\\nvalue = [67, 60]\\nclass = Died')]"
      ]
     },
     "execution_count": 415,
     "metadata": {},
     "output_type": "execute_result"
    },
    {
     "data": {
      "image/png": "[encoded data removed]",
      "text/plain": [
       "<Figure size 432x288 with 1 Axes>"
      ]
     },
     "metadata": {
      "needs_background": "light"
     },
     "output_type": "display_data"
    }
   ],
   "source": [
    "plt.figure()\n",
    "plot_tree(m_dt, filled=True, feature_names=['Age1','Age2','Age3','Age4','Age5','Age6'],\n",
    "                                            class_names=['Died','Survived'])"
   ]
  },
  {
   "cell_type": "code",
   "execution_count": 303,
   "id": "a145435b",
   "metadata": {},
   "outputs": [],
   "source": [
    "# next single feature: Sex"
   ]
  },
  {
   "cell_type": "code",
   "execution_count": 304,
   "id": "0233c9db",
   "metadata": {
    "tags": []
   },
   "outputs": [],
   "source": [
    "# Sex: feature order defined by transformer \n",
    "x_train = x_train_fe[['male']]\n",
    "x_test = x_test_fe[['male']]"
   ]
  },
  {
   "cell_type": "code",
   "execution_count": 305,
   "id": "b0f2b5ee",
   "metadata": {},
   "outputs": [
    {
     "data": {
      "text/plain": [
       "((668, 1), (223, 1), (668,), (223,))"
      ]
     },
     "execution_count": 305,
     "metadata": {},
     "output_type": "execute_result"
    }
   ],
   "source": [
    "x_train.shape, x_test.shape, y_train.shape, y_test.shape "
   ]
  },
  {
   "cell_type": "code",
   "execution_count": 306,
   "id": "bd8c4112",
   "metadata": {},
   "outputs": [
    {
     "data": {
      "text/html": [
       "<div>\n",
       "<style scoped>\n",
       "    .dataframe tbody tr th:only-of-type {\n",
       "        vertical-align: middle;\n",
       "    }\n",
       "\n",
       "    .dataframe tbody tr th {\n",
       "        vertical-align: top;\n",
       "    }\n",
       "\n",
       "    .dataframe thead th {\n",
       "        text-align: right;\n",
       "    }\n",
       "</style>\n",
       "<table border=\"1\" class=\"dataframe\">\n",
       "  <thead>\n",
       "    <tr style=\"text-align: right;\">\n",
       "      <th></th>\n",
       "      <th>male</th>\n",
       "    </tr>\n",
       "  </thead>\n",
       "  <tbody>\n",
       "    <tr>\n",
       "      <th>0</th>\n",
       "      <td>1.0</td>\n",
       "    </tr>\n",
       "    <tr>\n",
       "      <th>1</th>\n",
       "      <td>1.0</td>\n",
       "    </tr>\n",
       "    <tr>\n",
       "      <th>2</th>\n",
       "      <td>0.0</td>\n",
       "    </tr>\n",
       "  </tbody>\n",
       "</table>\n",
       "</div>"
      ],
      "text/plain": [
       "   male\n",
       "0   1.0\n",
       "1   1.0\n",
       "2   0.0"
      ]
     },
     "execution_count": 306,
     "metadata": {},
     "output_type": "execute_result"
    }
   ],
   "source": [
    "x_train.head(3)"
   ]
  },
  {
   "cell_type": "code",
   "execution_count": 307,
   "id": "0047f5b7",
   "metadata": {},
   "outputs": [
    {
     "data": {
      "text/plain": [
       "(0.7799401197604791, 0.8071748878923767)"
      ]
     },
     "execution_count": 307,
     "metadata": {},
     "output_type": "execute_result"
    }
   ],
   "source": [
    "m_lr.fit(x_train, y_train)\n",
    "m_lr.score(x_train, y_train), m_lr.score(x_test, y_test)"
   ]
  },
  {
   "cell_type": "code",
   "execution_count": 208,
   "id": "781b1336",
   "metadata": {
    "tags": []
   },
   "outputs": [
    {
     "data": {
      "text/plain": [
       "(array([0.97339746]), array([[-2.35738636]]), 1)"
      ]
     },
     "execution_count": 208,
     "metadata": {},
     "output_type": "execute_result"
    }
   ],
   "source": [
    "m_lr.intercept_, m_lr.coef_, m_lr.n_features_in_"
   ]
  },
  {
   "cell_type": "code",
   "execution_count": 209,
   "id": "b5062d2f",
   "metadata": {},
   "outputs": [
    {
     "data": {
      "text/plain": [
       "(0.97339746058756, -2.357386356234288)"
      ]
     },
     "execution_count": 209,
     "metadata": {},
     "output_type": "execute_result"
    }
   ],
   "source": [
    "w0 = m_lr.intercept_[0]\n",
    "w1 = m_lr.coef_[0,0]\n",
    "w0, w1"
   ]
  },
  {
   "cell_type": "code",
   "execution_count": 210,
   "id": "c2123919",
   "metadata": {},
   "outputs": [
    {
     "data": {
      "text/plain": [
       "0.41"
      ]
     },
     "execution_count": 210,
     "metadata": {},
     "output_type": "execute_result"
    }
   ],
   "source": [
    "(-w0/w1).round(2)"
   ]
  },
  {
   "cell_type": "code",
   "execution_count": 211,
   "id": "0fb6c657",
   "metadata": {},
   "outputs": [],
   "source": [
    "#Decision Tree"
   ]
  },
  {
   "cell_type": "code",
   "execution_count": 212,
   "id": "f8ca2a96",
   "metadata": {},
   "outputs": [],
   "source": [
    "m_dt = DecisionTreeClassifier(max_depth=3)"
   ]
  },
  {
   "cell_type": "code",
   "execution_count": 213,
   "id": "26da7756",
   "metadata": {
    "scrolled": true
   },
   "outputs": [
    {
     "data": {
      "text/plain": [
       "DecisionTreeClassifier(max_depth=3)"
      ]
     },
     "execution_count": 213,
     "metadata": {},
     "output_type": "execute_result"
    }
   ],
   "source": [
    "m_dt.fit(x_train, y_train)"
   ]
  },
  {
   "cell_type": "code",
   "execution_count": 214,
   "id": "7992b31d",
   "metadata": {},
   "outputs": [],
   "source": [
    "y_pred = m_dt.predict(x_test)"
   ]
  },
  {
   "cell_type": "code",
   "execution_count": 215,
   "id": "ea2be945",
   "metadata": {},
   "outputs": [
    {
     "data": {
      "text/plain": [
       "(0.7799401197604791, 0.8071748878923767)"
      ]
     },
     "execution_count": 215,
     "metadata": {},
     "output_type": "execute_result"
    }
   ],
   "source": [
    "m_dt.score(x_train,y_train), m_dt.score(x_test,y_test)"
   ]
  },
  {
   "cell_type": "code",
   "execution_count": 216,
   "id": "03d0a205",
   "metadata": {},
   "outputs": [
    {
     "data": {
      "text/plain": [
       "[Text(0.5, 0.75, 'Sex <= 0.5\\ngini = 0.476\\nsamples = 668\\nvalue = [407, 261]\\nclass = Died'),\n",
       " Text(0.25, 0.25, 'gini = 0.389\\nsamples = 242\\nvalue = [64, 178]\\nclass = Survived'),\n",
       " Text(0.75, 0.25, 'gini = 0.314\\nsamples = 426\\nvalue = [343, 83]\\nclass = Died')]"
      ]
     },
     "execution_count": 216,
     "metadata": {},
     "output_type": "execute_result"
    },
    {
     "data": {
      "image/png": "[encoded data removed]",
      "text/plain": [
       "<Figure size 432x288 with 1 Axes>"
      ]
     },
     "metadata": {
      "needs_background": "light"
     },
     "output_type": "display_data"
    }
   ],
   "source": [
    "plt.figure()\n",
    "plot_tree(m_dt, filled=True, feature_names=['Sex'], class_names=['Died','Survived'])"
   ]
  },
  {
   "cell_type": "markdown",
   "id": "4bcf358a-535a-4f1c-b066-f51ccd4a5467",
   "metadata": {},
   "source": [
    "### 2.4 Random Forest"
   ]
  },
  {
   "cell_type": "markdown",
   "id": "53ef4714-70e3-4d45-9fac-1c7d9272c7bd",
   "metadata": {},
   "source": [
    "Trial with one feature is not so meaningful"
   ]
  },
  {
   "cell_type": "code",
   "execution_count": null,
   "id": "a625eb05-070d-4355-a94a-1007b43fddb9",
   "metadata": {
    "tags": []
   },
   "outputs": [],
   "source": [
    "model = RandomForestClassifier(n_estimators=100, max_depth=2, max_features=1)"
   ]
  },
  {
   "cell_type": "code",
   "execution_count": null,
   "id": "8fb7c59e-141c-418e-a823-58a7101a4a09",
   "metadata": {},
   "outputs": [],
   "source": [
    "model.fit(x_train,y_train)"
   ]
  },
  {
   "cell_type": "code",
   "execution_count": null,
   "id": "14996cdf-bf8b-406a-be1e-867761585b21",
   "metadata": {},
   "outputs": [],
   "source": [
    "model.score(x_train, y_train)"
   ]
  },
  {
   "cell_type": "code",
   "execution_count": null,
   "id": "b52bdae2-f48a-4c41-9768-abd9631dff33",
   "metadata": {},
   "outputs": [],
   "source": [
    "model.score(x_test, y_test)"
   ]
  },
  {
   "cell_type": "markdown",
   "id": "8cb1c7d5-7012-40d0-bcb6-cb0982dd3cad",
   "metadata": {},
   "source": [
    "### 3. Machine Learning with Several features"
   ]
  },
  {
   "cell_type": "markdown",
   "id": "5bee108f-df7b-463a-bce6-03ff897fa304",
   "metadata": {},
   "source": [
    "#### 3.1 New Set of features and new split into train and test data"
   ]
  },
  {
   "cell_type": "code",
   "execution_count": 448,
   "id": "f7297f85",
   "metadata": {
    "tags": []
   },
   "outputs": [],
   "source": [
    "x_train = x_train_fe\n",
    "x_test = x_test_fe"
   ]
  },
  {
   "cell_type": "code",
   "execution_count": 449,
   "id": "6333677c",
   "metadata": {},
   "outputs": [
    {
     "data": {
      "text/plain": [
       "((668, 7), (223, 7), (668,), (223,))"
      ]
     },
     "execution_count": 449,
     "metadata": {},
     "output_type": "execute_result"
    }
   ],
   "source": [
    "x_train.shape, x_test.shape, y_train.shape, y_test.shape "
   ]
  },
  {
   "cell_type": "code",
   "execution_count": 450,
   "id": "77f5c8f0",
   "metadata": {},
   "outputs": [
    {
     "data": {
      "text/html": [
       "<div>\n",
       "<style scoped>\n",
       "    .dataframe tbody tr th:only-of-type {\n",
       "        vertical-align: middle;\n",
       "    }\n",
       "\n",
       "    .dataframe tbody tr th {\n",
       "        vertical-align: top;\n",
       "    }\n",
       "\n",
       "    .dataframe thead th {\n",
       "        text-align: right;\n",
       "    }\n",
       "</style>\n",
       "<table border=\"1\" class=\"dataframe\">\n",
       "  <thead>\n",
       "    <tr style=\"text-align: right;\">\n",
       "      <th></th>\n",
       "      <th>PClass_2</th>\n",
       "      <th>PClass_3</th>\n",
       "      <th>male</th>\n",
       "      <th>Age_1</th>\n",
       "      <th>Age_2</th>\n",
       "      <th>Age_3</th>\n",
       "      <th>Age_4</th>\n",
       "    </tr>\n",
       "  </thead>\n",
       "  <tbody>\n",
       "    <tr>\n",
       "      <th>0</th>\n",
       "      <td>0.0</td>\n",
       "      <td>0.0</td>\n",
       "      <td>1.0</td>\n",
       "      <td>0.0</td>\n",
       "      <td>0.0</td>\n",
       "      <td>0.0</td>\n",
       "      <td>1.0</td>\n",
       "    </tr>\n",
       "    <tr>\n",
       "      <th>1</th>\n",
       "      <td>0.0</td>\n",
       "      <td>1.0</td>\n",
       "      <td>1.0</td>\n",
       "      <td>1.0</td>\n",
       "      <td>0.0</td>\n",
       "      <td>0.0</td>\n",
       "      <td>0.0</td>\n",
       "    </tr>\n",
       "    <tr>\n",
       "      <th>2</th>\n",
       "      <td>0.0</td>\n",
       "      <td>1.0</td>\n",
       "      <td>0.0</td>\n",
       "      <td>1.0</td>\n",
       "      <td>0.0</td>\n",
       "      <td>0.0</td>\n",
       "      <td>0.0</td>\n",
       "    </tr>\n",
       "  </tbody>\n",
       "</table>\n",
       "</div>"
      ],
      "text/plain": [
       "   PClass_2  PClass_3  male  Age_1  Age_2  Age_3  Age_4\n",
       "0       0.0       0.0   1.0    0.0    0.0    0.0    1.0\n",
       "1       0.0       1.0   1.0    1.0    0.0    0.0    0.0\n",
       "2       0.0       1.0   0.0    1.0    0.0    0.0    0.0"
      ]
     },
     "execution_count": 450,
     "metadata": {},
     "output_type": "execute_result"
    }
   ],
   "source": [
    "x_train.head(3)"
   ]
  },
  {
   "cell_type": "code",
   "execution_count": 451,
   "id": "c145fad2",
   "metadata": {},
   "outputs": [
    {
     "data": {
      "text/plain": [
       "(0.7919161676646707, 0.8026905829596412)"
      ]
     },
     "execution_count": 451,
     "metadata": {},
     "output_type": "execute_result"
    }
   ],
   "source": [
    "m_lr.fit(x_train, y_train)\n",
    "m_lr.score(x_train, y_train), m_lr.score(x_test, y_test)"
   ]
  },
  {
   "cell_type": "code",
   "execution_count": 452,
   "id": "ffd5f13d",
   "metadata": {
    "tags": []
   },
   "outputs": [
    {
     "data": {
      "text/plain": [
       "(array([2.27012728]),\n",
       " array([[-0.77874696, -2.05681662, -2.459315  ,  0.33106916,  0.07978882,\n",
       "          0.08975018, -0.50061873]]),\n",
       " 7)"
      ]
     },
     "execution_count": 452,
     "metadata": {},
     "output_type": "execute_result"
    }
   ],
   "source": [
    "m_lr.intercept_, m_lr.coef_, m_lr.n_features_in_"
   ]
  },
  {
   "cell_type": "code",
   "execution_count": 453,
   "id": "679b4417",
   "metadata": {},
   "outputs": [
    {
     "data": {
      "text/plain": [
       "(2.270127276097783, -0.7787469552241766)"
      ]
     },
     "execution_count": 453,
     "metadata": {},
     "output_type": "execute_result"
    }
   ],
   "source": [
    "w0 = m_lr.intercept_[0]\n",
    "w1 = m_lr.coef_[0,0]\n",
    "w0, w1"
   ]
  },
  {
   "cell_type": "code",
   "execution_count": 454,
   "id": "e47382dc",
   "metadata": {},
   "outputs": [
    {
     "data": {
      "text/plain": [
       "2.92"
      ]
     },
     "execution_count": 454,
     "metadata": {},
     "output_type": "execute_result"
    }
   ],
   "source": [
    "(-w0/w1).round(2)"
   ]
  },
  {
   "cell_type": "code",
   "execution_count": 455,
   "id": "8a73468f",
   "metadata": {},
   "outputs": [],
   "source": [
    "#Decision Tree"
   ]
  },
  {
   "cell_type": "code",
   "execution_count": 456,
   "id": "6bc025b9",
   "metadata": {},
   "outputs": [],
   "source": [
    "m_dt = DecisionTreeClassifier(max_depth=4)"
   ]
  },
  {
   "cell_type": "code",
   "execution_count": 457,
   "id": "ceb4e710",
   "metadata": {
    "scrolled": true
   },
   "outputs": [
    {
     "data": {
      "text/plain": [
       "DecisionTreeClassifier(max_depth=4)"
      ]
     },
     "execution_count": 457,
     "metadata": {},
     "output_type": "execute_result"
    }
   ],
   "source": [
    "m_dt.fit(x_train, y_train)"
   ]
  },
  {
   "cell_type": "code",
   "execution_count": 458,
   "id": "11cf287d",
   "metadata": {},
   "outputs": [],
   "source": [
    "y_pred = m_dt.predict(x_test)"
   ]
  },
  {
   "cell_type": "code",
   "execution_count": 459,
   "id": "986bf61d",
   "metadata": {},
   "outputs": [
    {
     "data": {
      "text/plain": [
       "(0.7949101796407185, 0.8161434977578476)"
      ]
     },
     "execution_count": 459,
     "metadata": {},
     "output_type": "execute_result"
    }
   ],
   "source": [
    "m_dt.score(x_train,y_train), m_dt.score(x_test,y_test)"
   ]
  },
  {
   "cell_type": "code",
   "execution_count": 460,
   "id": "d3e84cae",
   "metadata": {},
   "outputs": [
    {
     "data": {
      "text/plain": [
       "Index(['PClass_2', 'PClass_3', 'male', 'Age_1', 'Age_2', 'Age_3', 'Age_4'], dtype='object')"
      ]
     },
     "execution_count": 460,
     "metadata": {},
     "output_type": "execute_result"
    }
   ],
   "source": [
    "x_train.columns"
   ]
  },
  {
   "cell_type": "code",
   "execution_count": 461,
   "id": "880e42b5",
   "metadata": {},
   "outputs": [
    {
     "data": {
      "text/plain": [
       "[Text(0.54, 0.9, 'male <= 0.5\\ngini = 0.476\\nsamples = 668\\nvalue = [407, 261]\\nclass = Died'),\n",
       " Text(0.3, 0.7, 'PClass_3 <= 0.5\\ngini = 0.389\\nsamples = 242\\nvalue = [64, 178]\\nclass = Survived'),\n",
       " Text(0.16, 0.5, 'Age_2 <= 0.5\\ngini = 0.075\\nsamples = 128\\nvalue = [5, 123]\\nclass = Survived'),\n",
       " Text(0.08, 0.3, 'Age_3 <= 0.5\\ngini = 0.053\\nsamples = 110\\nvalue = [3, 107]\\nclass = Survived'),\n",
       " Text(0.04, 0.1, 'gini = 0.077\\nsamples = 75\\nvalue = [3, 72]\\nclass = Survived'),\n",
       " Text(0.12, 0.1, 'gini = 0.0\\nsamples = 35\\nvalue = [0, 35]\\nclass = Survived'),\n",
       " Text(0.24, 0.3, 'PClass_2 <= 0.5\\ngini = 0.198\\nsamples = 18\\nvalue = [2, 16]\\nclass = Survived'),\n",
       " Text(0.2, 0.1, 'gini = 0.0\\nsamples = 6\\nvalue = [0, 6]\\nclass = Survived'),\n",
       " Text(0.28, 0.1, 'gini = 0.278\\nsamples = 12\\nvalue = [2, 10]\\nclass = Survived'),\n",
       " Text(0.44, 0.5, 'Age_4 <= 0.5\\ngini = 0.499\\nsamples = 114\\nvalue = [59, 55]\\nclass = Died'),\n",
       " Text(0.4, 0.3, 'Age_2 <= 0.5\\ngini = 0.499\\nsamples = 100\\nvalue = [48, 52]\\nclass = Survived'),\n",
       " Text(0.36, 0.1, 'gini = 0.499\\nsamples = 89\\nvalue = [43, 46]\\nclass = Survived'),\n",
       " Text(0.44, 0.1, 'gini = 0.496\\nsamples = 11\\nvalue = [5, 6]\\nclass = Survived'),\n",
       " Text(0.48, 0.3, 'gini = 0.337\\nsamples = 14\\nvalue = [11, 3]\\nclass = Died'),\n",
       " Text(0.78, 0.7, 'PClass_3 <= 0.5\\ngini = 0.314\\nsamples = 426\\nvalue = [343, 83]\\nclass = Died'),\n",
       " Text(0.64, 0.5, 'PClass_2 <= 0.5\\ngini = 0.397\\nsamples = 176\\nvalue = [128, 48]\\nclass = Died'),\n",
       " Text(0.56, 0.3, 'Age_2 <= 0.5\\ngini = 0.464\\nsamples = 93\\nvalue = [59, 34]\\nclass = Died'),\n",
       " Text(0.52, 0.1, 'gini = 0.452\\nsamples = 87\\nvalue = [57, 30]\\nclass = Died'),\n",
       " Text(0.6, 0.1, 'gini = 0.444\\nsamples = 6\\nvalue = [2, 4]\\nclass = Survived'),\n",
       " Text(0.72, 0.3, 'Age_1 <= 0.5\\ngini = 0.28\\nsamples = 83\\nvalue = [69, 14]\\nclass = Died'),\n",
       " Text(0.68, 0.1, 'gini = 0.163\\nsamples = 67\\nvalue = [61, 6]\\nclass = Died'),\n",
       " Text(0.76, 0.1, 'gini = 0.5\\nsamples = 16\\nvalue = [8, 8]\\nclass = Died'),\n",
       " Text(0.92, 0.5, 'Age_4 <= 0.5\\ngini = 0.241\\nsamples = 250\\nvalue = [215, 35]\\nclass = Died'),\n",
       " Text(0.88, 0.3, 'Age_2 <= 0.5\\ngini = 0.262\\nsamples = 213\\nvalue = [180, 33]\\nclass = Died'),\n",
       " Text(0.84, 0.1, 'gini = 0.254\\nsamples = 181\\nvalue = [154, 27]\\nclass = Died'),\n",
       " Text(0.92, 0.1, 'gini = 0.305\\nsamples = 32\\nvalue = [26, 6]\\nclass = Died'),\n",
       " Text(0.96, 0.3, 'gini = 0.102\\nsamples = 37\\nvalue = [35, 2]\\nclass = Died')]"
      ]
     },
     "execution_count": 461,
     "metadata": {},
     "output_type": "execute_result"
    },
    {
     "data": {
      "image/png": "[encoded data removed]",
      "text/plain": [
       "<Figure size 1152x720 with 1 Axes>"
      ]
     },
     "metadata": {
      "needs_background": "light"
     },
     "output_type": "display_data"
    }
   ],
   "source": [
    "plt.figure(figsize=(16,10))\n",
    "plot_tree(m_dt, filled=True, feature_names=x_train.columns, class_names=['Died','Survived'])"
   ]
  },
  {
   "cell_type": "code",
   "execution_count": null,
   "id": "400505a8",
   "metadata": {},
   "outputs": [],
   "source": []
  },
  {
   "cell_type": "code",
   "execution_count": 544,
   "id": "baea1a18",
   "metadata": {
    "tags": []
   },
   "outputs": [],
   "source": [
    "model = RandomForestClassifier(n_estimators=1000, max_depth=3, max_features=3)"
   ]
  },
  {
   "cell_type": "code",
   "execution_count": 545,
   "id": "e5e61a5d",
   "metadata": {},
   "outputs": [
    {
     "data": {
      "text/plain": [
       "RandomForestClassifier(max_depth=3, max_features=3, n_estimators=1000)"
      ]
     },
     "execution_count": 545,
     "metadata": {},
     "output_type": "execute_result"
    }
   ],
   "source": [
    "model.fit(x_train,y_train)"
   ]
  },
  {
   "cell_type": "code",
   "execution_count": 546,
   "id": "a8e8bb6d",
   "metadata": {},
   "outputs": [
    {
     "data": {
      "text/plain": [
       "0.7919161676646707"
      ]
     },
     "execution_count": 546,
     "metadata": {},
     "output_type": "execute_result"
    }
   ],
   "source": [
    "model.score(x_train, y_train)"
   ]
  },
  {
   "cell_type": "code",
   "execution_count": 547,
   "id": "9b3b9622",
   "metadata": {},
   "outputs": [
    {
     "data": {
      "text/plain": [
       "0.8071748878923767"
      ]
     },
     "execution_count": 547,
     "metadata": {},
     "output_type": "execute_result"
    }
   ],
   "source": [
    "model.score(x_test, y_test)"
   ]
  },
  {
   "cell_type": "code",
   "execution_count": 553,
   "id": "99f1eb23",
   "metadata": {},
   "outputs": [
    {
     "data": {
      "image/png": "[encoded data removed]",
      "text/plain": [
       "<Figure size 432x288 with 1 Axes>"
      ]
     },
     "metadata": {
      "needs_background": "light"
     },
     "output_type": "display_data"
    }
   ],
   "source": [
    "importances = model.feature_importances_\n",
    "std = np.std([tree.feature_importances_ for tree in model.estimators_], axis=0)\n",
    "\n",
    "\n",
    "forest_importances = pd.Series(importances, index=columns)\n",
    "\n",
    "fig, ax = plt.subplots()\n",
    "forest_importances.plot.bar(yerr=std, ax=ax)\n",
    "ax.set_title(\"Feature importances using MDI\")\n",
    "ax.set_ylabel(\"Mean decrease in impurity\")\n",
    "fig.tight_layout()\n"
   ]
  },
  {
   "cell_type": "markdown",
   "id": "0cd70754-0010-44e0-b527-699aacca7b4c",
   "metadata": {},
   "source": [
    "#### 3.2 Deal with NANs"
   ]
  },
  {
   "cell_type": "code",
   "execution_count": null,
   "id": "b18a19bd-bb6e-4efb-aa31-8a73cf22b59e",
   "metadata": {},
   "outputs": [],
   "source": [
    "full_data.isna().sum()"
   ]
  },
  {
   "cell_type": "markdown",
   "id": "f736c602-2c3c-4a1c-96f8-a5c95c30e879",
   "metadata": {},
   "source": [
    "Imputing Embarked NaNs based on full data set:"
   ]
  },
  {
   "cell_type": "code",
   "execution_count": null,
   "id": "8c79da0d-bc4f-40ab-a464-ac883ffe994c",
   "metadata": {},
   "outputs": [],
   "source": [
    "full_data.Embarked.isna() #alternativ full_data['Embarked'].isna()"
   ]
  },
  {
   "cell_type": "code",
   "execution_count": null,
   "id": "965056a8-7f23-42af-8c03-ab680d09b4d1",
   "metadata": {},
   "outputs": [],
   "source": [
    "full_data[full_data['Embarked'].isna()==1]"
   ]
  },
  {
   "cell_type": "code",
   "execution_count": null,
   "id": "5f1c6016-6aa9-494b-a58f-abf1ef2ecee6",
   "metadata": {},
   "outputs": [],
   "source": [
    "full_data.groupby('Pclass')['Embarked'].value_counts()"
   ]
  },
  {
   "cell_type": "code",
   "execution_count": null,
   "id": "c9db7287-9781-4d75-8168-e841423e6cac",
   "metadata": {
    "tags": []
   },
   "outputs": [],
   "source": [
    "most_common_emb = full_data['Embarked'].mode()[0]"
   ]
  },
  {
   "cell_type": "code",
   "execution_count": null,
   "id": "fc5b25f0-0066-4fab-a45f-74c98485df27",
   "metadata": {},
   "outputs": [],
   "source": [
    "most_common_emb"
   ]
  },
  {
   "cell_type": "code",
   "execution_count": null,
   "id": "4dcc8a81-05f7-4120-a244-6e009bd9294a",
   "metadata": {},
   "outputs": [],
   "source": [
    "# here the embarked Nans are filled based on an assumption on the full data set\n",
    "# assumption: woman and maiden, assume Southhamton\n",
    "# in contradiction with engineering the features after splitting\n",
    "full_data['Embarked'].fillna('most_common_emb', inplace=True)"
   ]
  },
  {
   "cell_type": "markdown",
   "id": "206a5e3b-7087-486c-8178-8b67ba44c0fe",
   "metadata": {},
   "source": [
    "Dealing with Nans on Age on the train data set"
   ]
  },
  {
   "cell_type": "code",
   "execution_count": null,
   "id": "d4de70f6-329d-47ad-ae77-fcd1709291fc",
   "metadata": {},
   "outputs": [],
   "source": [
    "x_train['Age'].isna().sum()"
   ]
  },
  {
   "cell_type": "code",
   "execution_count": null,
   "id": "c36266b8-ccf6-473d-a70c-6e7427b86f6b",
   "metadata": {},
   "outputs": [],
   "source": [
    "median_age_tr = x_train['Age'].median()"
   ]
  },
  {
   "cell_type": "code",
   "execution_count": null,
   "id": "1b484f87-139a-40fa-b880-f8f3b57a51d5",
   "metadata": {},
   "outputs": [],
   "source": [
    "median_age_tr "
   ]
  },
  {
   "cell_type": "code",
   "execution_count": null,
   "id": "85bfb1f3-b8e5-4b63-a6aa-91efaf1c868e",
   "metadata": {},
   "outputs": [],
   "source": [
    "x_train['Age'].fillna(median_age_tr, inplace=True )"
   ]
  },
  {
   "cell_type": "code",
   "execution_count": null,
   "id": "f346e90e-9b32-47c2-bc9d-917042548a85",
   "metadata": {},
   "outputs": [],
   "source": [
    "x_train['Age'].isna().sum()"
   ]
  },
  {
   "cell_type": "markdown",
   "id": "58726a80-ff45-450d-9615-06c3a2ae7f04",
   "metadata": {},
   "source": [
    "#### 3.3 One Hot Minute"
   ]
  },
  {
   "cell_type": "code",
   "execution_count": null,
   "id": "5ad21d82-5de5-4acd-b7fb-793750eab3a4",
   "metadata": {},
   "outputs": [],
   "source": [
    "x_train"
   ]
  },
  {
   "cell_type": "code",
   "execution_count": null,
   "id": "184128c7-d123-4645-8a35-48ad50235bf1",
   "metadata": {},
   "outputs": [],
   "source": [
    "x_train.isna().sum()"
   ]
  },
  {
   "cell_type": "code",
   "execution_count": null,
   "id": "07349544-1295-40ee-92dd-e98338c42b6a",
   "metadata": {},
   "outputs": [],
   "source": [
    "pd.get_dummies(x_train['Sex'])"
   ]
  },
  {
   "cell_type": "code",
   "execution_count": null,
   "id": "43e0ed11-936d-42e2-81d5-712c80eb8aa5",
   "metadata": {},
   "outputs": [],
   "source": [
    "x_train = x_train.merge(pd.get_dummies(x_train['Sex']), left_index=True, right_index=True)"
   ]
  },
  {
   "cell_type": "code",
   "execution_count": null,
   "id": "f27f22f4-35e3-48b0-87cc-34bd60f2f5dc",
   "metadata": {},
   "outputs": [],
   "source": [
    "x_train"
   ]
  },
  {
   "cell_type": "code",
   "execution_count": null,
   "id": "e0bcb7f6-ba07-48f6-8985-33284b08be2b",
   "metadata": {},
   "outputs": [],
   "source": [
    "x_train.drop(columns= ['Sex', 'female' ])"
   ]
  },
  {
   "cell_type": "code",
   "execution_count": null,
   "id": "3d84defe-39d8-495d-91ad-fb2638690a19",
   "metadata": {},
   "outputs": [],
   "source": [
    "# handle_unknown: an unknown is value for the feature that appears on the test set that didn't appear on the train set\n",
    "# ohe = OneHotEncoder(sparse=False, handle_unknown='error', drop='first') #can't run with'unknown' instead of 'error'"
   ]
  },
  {
   "cell_type": "code",
   "execution_count": null,
   "id": "cc4150c3-04e1-4411-b648-18f97dde772c",
   "metadata": {},
   "outputs": [],
   "source": [
    "#first method: overwrite one-hot encoded column, warning!\n",
    "#x_train['Sex'] = ohe.fit_transform(x_train[['Sex']]) \n",
    "#x_test['Sex'] = ohe.transform(x_test[['Sex']])"
   ]
  },
  {
   "cell_type": "code",
   "execution_count": null,
   "id": "f5921f4f-5526-4de2-85e9-fc53770c6d37",
   "metadata": {},
   "outputs": [],
   "source": [
    "#second method:\n",
    "#x_train['Sex'] = ohe.fit_transform(x_train[['Sex']]) \n",
    "#x_test_oh = ohe.transform(x_test[['Sex']])"
   ]
  },
  {
   "cell_type": "code",
   "execution_count": null,
   "id": "c711b881-a0ba-4eac-8074-8104041b59aa",
   "metadata": {},
   "outputs": [],
   "source": [
    "#x_train_oh;"
   ]
  },
  {
   "cell_type": "markdown",
   "id": "54390ec0-ffa0-466b-a8b5-d9a8459542b9",
   "metadata": {},
   "source": [
    "Logistic Regression"
   ]
  },
  {
   "cell_type": "markdown",
   "id": "86a166b2-75c6-40c5-b554-970b443474de",
   "metadata": {},
   "source": [
    "Decission Tree"
   ]
  },
  {
   "cell_type": "markdown",
   "id": "db3bde56-9ad7-4770-a230-37bc23bbc268",
   "metadata": {},
   "source": [
    "Random forest"
   ]
  }
 ],
 "metadata": {
  "kernelspec": {
   "display_name": "Python 3 (ipykernel)",
   "language": "python",
   "name": "python3"
  },
  "language_info": {
   "codemirror_mode": {
    "name": "ipython",
    "version": 3
   },
   "file_extension": ".py",
   "mimetype": "text/x-python",
   "name": "python",
   "nbconvert_exporter": "python",
   "pygments_lexer": "ipython3",
   "version": "3.9.12"
  }
 },
 "nbformat": 4,
 "nbformat_minor": 5
}
