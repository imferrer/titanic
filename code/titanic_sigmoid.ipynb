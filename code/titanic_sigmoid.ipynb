{
 "cells": [
  {
   "cell_type": "markdown",
   "id": "f3e7f771-def3-4221-9be8-e423dd434f16",
   "metadata": {},
   "source": [
    "# Titanic Machine Learning project by Ismael Martínez"
   ]
  },
  {
   "cell_type": "markdown",
   "id": "9aa2bb73-90fc-44fa-9f33-16c18770fb24",
   "metadata": {},
   "source": [
    "Importing libraries and loading files"
   ]
  },
  {
   "cell_type": "code",
   "execution_count": 134,
   "id": "0c14aa2a-32e1-44ed-b4fa-638e3858d7d1",
   "metadata": {},
   "outputs": [],
   "source": [
    "import numpy as np\n",
    "import pandas as pd\n",
    "import matplotlib.pyplot as plt\n",
    "import seaborn as sns\n",
    "\n",
    "from sklearn.preprocessing import StandardScaler, MinMaxScaler, OneHotEncoder, KBinsDiscretizer\n",
    "from sklearn.impute import SimpleImputer\n",
    "from sklearn.pipeline import Pipeline, make_pipeline\n",
    "from sklearn.compose import ColumnTransformer\n",
    "from sklearn.dummy import DummyClassifier\n",
    "from sklearn.model_selection import train_test_split\n",
    "from sklearn.linear_model import LogisticRegression\n",
    "from sklearn.tree import DecisionTreeClassifier, plot_tree\n",
    "from sklearn.ensemble import RandomForestClassifier"
   ]
  },
  {
   "cell_type": "code",
   "execution_count": 2,
   "id": "31e419bd",
   "metadata": {},
   "outputs": [],
   "source": [
    "from sklearn.metrics import accuracy_score \n",
    "from sklearn.metrics import precision_score, recall_score, f1_score\n",
    "from sklearn.metrics import plot_roc_curve, roc_curve, auc\n",
    "from sklearn.metrics import confusion_matrix\n",
    "from sklearn.metrics import plot_confusion_matrix"
   ]
  },
  {
   "cell_type": "code",
   "execution_count": 3,
   "id": "13cb21c6",
   "metadata": {},
   "outputs": [],
   "source": [
    "# m = DummyClassifier(strategy='most_frequent'); strategy='stratified'"
   ]
  },
  {
   "cell_type": "code",
   "execution_count": 4,
   "id": "1f4eb4b4",
   "metadata": {},
   "outputs": [],
   "source": [
    "# plt.style.use('seaborn')"
   ]
  },
  {
   "cell_type": "markdown",
   "id": "20bd7f58-a163-4467-89a6-d81bc82c42e9",
   "metadata": {},
   "source": [
    "## 1. Examining the data and Exercises"
   ]
  },
  {
   "cell_type": "code",
   "execution_count": 5,
   "id": "4d769be0-9da1-4282-9314-4ecec9f827d2",
   "metadata": {},
   "outputs": [],
   "source": [
    "full_data = pd.read_csv('../data/train.csv')"
   ]
  },
  {
   "cell_type": "code",
   "execution_count": 6,
   "id": "077ab8a3-b0c8-44c9-8d48-d72825079e25",
   "metadata": {},
   "outputs": [
    {
     "data": {
      "text/html": [
       "<div>\n",
       "<style scoped>\n",
       "    .dataframe tbody tr th:only-of-type {\n",
       "        vertical-align: middle;\n",
       "    }\n",
       "\n",
       "    .dataframe tbody tr th {\n",
       "        vertical-align: top;\n",
       "    }\n",
       "\n",
       "    .dataframe thead th {\n",
       "        text-align: right;\n",
       "    }\n",
       "</style>\n",
       "<table border=\"1\" class=\"dataframe\">\n",
       "  <thead>\n",
       "    <tr style=\"text-align: right;\">\n",
       "      <th></th>\n",
       "      <th>PassengerId</th>\n",
       "      <th>Survived</th>\n",
       "      <th>Pclass</th>\n",
       "      <th>Name</th>\n",
       "      <th>Sex</th>\n",
       "      <th>Age</th>\n",
       "      <th>SibSp</th>\n",
       "      <th>Parch</th>\n",
       "      <th>Ticket</th>\n",
       "      <th>Fare</th>\n",
       "      <th>Cabin</th>\n",
       "      <th>Embarked</th>\n",
       "    </tr>\n",
       "  </thead>\n",
       "  <tbody>\n",
       "    <tr>\n",
       "      <th>0</th>\n",
       "      <td>1</td>\n",
       "      <td>0</td>\n",
       "      <td>3</td>\n",
       "      <td>Braund, Mr. Owen Harris</td>\n",
       "      <td>male</td>\n",
       "      <td>22.0</td>\n",
       "      <td>1</td>\n",
       "      <td>0</td>\n",
       "      <td>A/5 21171</td>\n",
       "      <td>7.2500</td>\n",
       "      <td>NaN</td>\n",
       "      <td>S</td>\n",
       "    </tr>\n",
       "    <tr>\n",
       "      <th>1</th>\n",
       "      <td>2</td>\n",
       "      <td>1</td>\n",
       "      <td>1</td>\n",
       "      <td>Cumings, Mrs. John Bradley (Florence Briggs Th...</td>\n",
       "      <td>female</td>\n",
       "      <td>38.0</td>\n",
       "      <td>1</td>\n",
       "      <td>0</td>\n",
       "      <td>PC 17599</td>\n",
       "      <td>71.2833</td>\n",
       "      <td>C85</td>\n",
       "      <td>C</td>\n",
       "    </tr>\n",
       "    <tr>\n",
       "      <th>2</th>\n",
       "      <td>3</td>\n",
       "      <td>1</td>\n",
       "      <td>3</td>\n",
       "      <td>Heikkinen, Miss. Laina</td>\n",
       "      <td>female</td>\n",
       "      <td>26.0</td>\n",
       "      <td>0</td>\n",
       "      <td>0</td>\n",
       "      <td>STON/O2. 3101282</td>\n",
       "      <td>7.9250</td>\n",
       "      <td>NaN</td>\n",
       "      <td>S</td>\n",
       "    </tr>\n",
       "    <tr>\n",
       "      <th>3</th>\n",
       "      <td>4</td>\n",
       "      <td>1</td>\n",
       "      <td>1</td>\n",
       "      <td>Futrelle, Mrs. Jacques Heath (Lily May Peel)</td>\n",
       "      <td>female</td>\n",
       "      <td>35.0</td>\n",
       "      <td>1</td>\n",
       "      <td>0</td>\n",
       "      <td>113803</td>\n",
       "      <td>53.1000</td>\n",
       "      <td>C123</td>\n",
       "      <td>S</td>\n",
       "    </tr>\n",
       "    <tr>\n",
       "      <th>4</th>\n",
       "      <td>5</td>\n",
       "      <td>0</td>\n",
       "      <td>3</td>\n",
       "      <td>Allen, Mr. William Henry</td>\n",
       "      <td>male</td>\n",
       "      <td>35.0</td>\n",
       "      <td>0</td>\n",
       "      <td>0</td>\n",
       "      <td>373450</td>\n",
       "      <td>8.0500</td>\n",
       "      <td>NaN</td>\n",
       "      <td>S</td>\n",
       "    </tr>\n",
       "    <tr>\n",
       "      <th>...</th>\n",
       "      <td>...</td>\n",
       "      <td>...</td>\n",
       "      <td>...</td>\n",
       "      <td>...</td>\n",
       "      <td>...</td>\n",
       "      <td>...</td>\n",
       "      <td>...</td>\n",
       "      <td>...</td>\n",
       "      <td>...</td>\n",
       "      <td>...</td>\n",
       "      <td>...</td>\n",
       "      <td>...</td>\n",
       "    </tr>\n",
       "    <tr>\n",
       "      <th>886</th>\n",
       "      <td>887</td>\n",
       "      <td>0</td>\n",
       "      <td>2</td>\n",
       "      <td>Montvila, Rev. Juozas</td>\n",
       "      <td>male</td>\n",
       "      <td>27.0</td>\n",
       "      <td>0</td>\n",
       "      <td>0</td>\n",
       "      <td>211536</td>\n",
       "      <td>13.0000</td>\n",
       "      <td>NaN</td>\n",
       "      <td>S</td>\n",
       "    </tr>\n",
       "    <tr>\n",
       "      <th>887</th>\n",
       "      <td>888</td>\n",
       "      <td>1</td>\n",
       "      <td>1</td>\n",
       "      <td>Graham, Miss. Margaret Edith</td>\n",
       "      <td>female</td>\n",
       "      <td>19.0</td>\n",
       "      <td>0</td>\n",
       "      <td>0</td>\n",
       "      <td>112053</td>\n",
       "      <td>30.0000</td>\n",
       "      <td>B42</td>\n",
       "      <td>S</td>\n",
       "    </tr>\n",
       "    <tr>\n",
       "      <th>888</th>\n",
       "      <td>889</td>\n",
       "      <td>0</td>\n",
       "      <td>3</td>\n",
       "      <td>Johnston, Miss. Catherine Helen \"Carrie\"</td>\n",
       "      <td>female</td>\n",
       "      <td>NaN</td>\n",
       "      <td>1</td>\n",
       "      <td>2</td>\n",
       "      <td>W./C. 6607</td>\n",
       "      <td>23.4500</td>\n",
       "      <td>NaN</td>\n",
       "      <td>S</td>\n",
       "    </tr>\n",
       "    <tr>\n",
       "      <th>889</th>\n",
       "      <td>890</td>\n",
       "      <td>1</td>\n",
       "      <td>1</td>\n",
       "      <td>Behr, Mr. Karl Howell</td>\n",
       "      <td>male</td>\n",
       "      <td>26.0</td>\n",
       "      <td>0</td>\n",
       "      <td>0</td>\n",
       "      <td>111369</td>\n",
       "      <td>30.0000</td>\n",
       "      <td>C148</td>\n",
       "      <td>C</td>\n",
       "    </tr>\n",
       "    <tr>\n",
       "      <th>890</th>\n",
       "      <td>891</td>\n",
       "      <td>0</td>\n",
       "      <td>3</td>\n",
       "      <td>Dooley, Mr. Patrick</td>\n",
       "      <td>male</td>\n",
       "      <td>32.0</td>\n",
       "      <td>0</td>\n",
       "      <td>0</td>\n",
       "      <td>370376</td>\n",
       "      <td>7.7500</td>\n",
       "      <td>NaN</td>\n",
       "      <td>Q</td>\n",
       "    </tr>\n",
       "  </tbody>\n",
       "</table>\n",
       "<p>891 rows × 12 columns</p>\n",
       "</div>"
      ],
      "text/plain": [
       "     PassengerId  Survived  Pclass  \\\n",
       "0              1         0       3   \n",
       "1              2         1       1   \n",
       "2              3         1       3   \n",
       "3              4         1       1   \n",
       "4              5         0       3   \n",
       "..           ...       ...     ...   \n",
       "886          887         0       2   \n",
       "887          888         1       1   \n",
       "888          889         0       3   \n",
       "889          890         1       1   \n",
       "890          891         0       3   \n",
       "\n",
       "                                                  Name     Sex   Age  SibSp  \\\n",
       "0                              Braund, Mr. Owen Harris    male  22.0      1   \n",
       "1    Cumings, Mrs. John Bradley (Florence Briggs Th...  female  38.0      1   \n",
       "2                               Heikkinen, Miss. Laina  female  26.0      0   \n",
       "3         Futrelle, Mrs. Jacques Heath (Lily May Peel)  female  35.0      1   \n",
       "4                             Allen, Mr. William Henry    male  35.0      0   \n",
       "..                                                 ...     ...   ...    ...   \n",
       "886                              Montvila, Rev. Juozas    male  27.0      0   \n",
       "887                       Graham, Miss. Margaret Edith  female  19.0      0   \n",
       "888           Johnston, Miss. Catherine Helen \"Carrie\"  female   NaN      1   \n",
       "889                              Behr, Mr. Karl Howell    male  26.0      0   \n",
       "890                                Dooley, Mr. Patrick    male  32.0      0   \n",
       "\n",
       "     Parch            Ticket     Fare Cabin Embarked  \n",
       "0        0         A/5 21171   7.2500   NaN        S  \n",
       "1        0          PC 17599  71.2833   C85        C  \n",
       "2        0  STON/O2. 3101282   7.9250   NaN        S  \n",
       "3        0            113803  53.1000  C123        S  \n",
       "4        0            373450   8.0500   NaN        S  \n",
       "..     ...               ...      ...   ...      ...  \n",
       "886      0            211536  13.0000   NaN        S  \n",
       "887      0            112053  30.0000   B42        S  \n",
       "888      2        W./C. 6607  23.4500   NaN        S  \n",
       "889      0            111369  30.0000  C148        C  \n",
       "890      0            370376   7.7500   NaN        Q  \n",
       "\n",
       "[891 rows x 12 columns]"
      ]
     },
     "execution_count": 6,
     "metadata": {},
     "output_type": "execute_result"
    }
   ],
   "source": [
    "full_data"
   ]
  },
  {
   "cell_type": "code",
   "execution_count": 7,
   "id": "7625633b-416c-41ea-a8d5-85cd978a9d2e",
   "metadata": {},
   "outputs": [
    {
     "name": "stdout",
     "output_type": "stream",
     "text": [
      "<class 'pandas.core.frame.DataFrame'>\n",
      "RangeIndex: 891 entries, 0 to 890\n",
      "Data columns (total 12 columns):\n",
      " #   Column       Non-Null Count  Dtype  \n",
      "---  ------       --------------  -----  \n",
      " 0   PassengerId  891 non-null    int64  \n",
      " 1   Survived     891 non-null    int64  \n",
      " 2   Pclass       891 non-null    int64  \n",
      " 3   Name         891 non-null    object \n",
      " 4   Sex          891 non-null    object \n",
      " 5   Age          714 non-null    float64\n",
      " 6   SibSp        891 non-null    int64  \n",
      " 7   Parch        891 non-null    int64  \n",
      " 8   Ticket       891 non-null    object \n",
      " 9   Fare         891 non-null    float64\n",
      " 10  Cabin        204 non-null    object \n",
      " 11  Embarked     889 non-null    object \n",
      "dtypes: float64(2), int64(5), object(5)\n",
      "memory usage: 83.7+ KB\n"
     ]
    }
   ],
   "source": [
    "full_data.info()"
   ]
  },
  {
   "cell_type": "code",
   "execution_count": 8,
   "id": "7d31b9c1-235d-4b5a-ad79-20624e4e4f64",
   "metadata": {},
   "outputs": [
    {
     "data": {
      "text/html": [
       "<div>\n",
       "<style scoped>\n",
       "    .dataframe tbody tr th:only-of-type {\n",
       "        vertical-align: middle;\n",
       "    }\n",
       "\n",
       "    .dataframe tbody tr th {\n",
       "        vertical-align: top;\n",
       "    }\n",
       "\n",
       "    .dataframe thead th {\n",
       "        text-align: right;\n",
       "    }\n",
       "</style>\n",
       "<table border=\"1\" class=\"dataframe\">\n",
       "  <thead>\n",
       "    <tr style=\"text-align: right;\">\n",
       "      <th></th>\n",
       "      <th>PassengerId</th>\n",
       "      <th>Survived</th>\n",
       "      <th>Pclass</th>\n",
       "      <th>Age</th>\n",
       "      <th>SibSp</th>\n",
       "      <th>Parch</th>\n",
       "      <th>Fare</th>\n",
       "    </tr>\n",
       "  </thead>\n",
       "  <tbody>\n",
       "    <tr>\n",
       "      <th>count</th>\n",
       "      <td>891.000000</td>\n",
       "      <td>891.000000</td>\n",
       "      <td>891.000000</td>\n",
       "      <td>714.000000</td>\n",
       "      <td>891.000000</td>\n",
       "      <td>891.000000</td>\n",
       "      <td>891.000000</td>\n",
       "    </tr>\n",
       "    <tr>\n",
       "      <th>mean</th>\n",
       "      <td>446.000000</td>\n",
       "      <td>0.383838</td>\n",
       "      <td>2.308642</td>\n",
       "      <td>29.699118</td>\n",
       "      <td>0.523008</td>\n",
       "      <td>0.381594</td>\n",
       "      <td>32.204208</td>\n",
       "    </tr>\n",
       "    <tr>\n",
       "      <th>std</th>\n",
       "      <td>257.353842</td>\n",
       "      <td>0.486592</td>\n",
       "      <td>0.836071</td>\n",
       "      <td>14.526497</td>\n",
       "      <td>1.102743</td>\n",
       "      <td>0.806057</td>\n",
       "      <td>49.693429</td>\n",
       "    </tr>\n",
       "    <tr>\n",
       "      <th>min</th>\n",
       "      <td>1.000000</td>\n",
       "      <td>0.000000</td>\n",
       "      <td>1.000000</td>\n",
       "      <td>0.420000</td>\n",
       "      <td>0.000000</td>\n",
       "      <td>0.000000</td>\n",
       "      <td>0.000000</td>\n",
       "    </tr>\n",
       "    <tr>\n",
       "      <th>25%</th>\n",
       "      <td>223.500000</td>\n",
       "      <td>0.000000</td>\n",
       "      <td>2.000000</td>\n",
       "      <td>20.125000</td>\n",
       "      <td>0.000000</td>\n",
       "      <td>0.000000</td>\n",
       "      <td>7.910400</td>\n",
       "    </tr>\n",
       "    <tr>\n",
       "      <th>50%</th>\n",
       "      <td>446.000000</td>\n",
       "      <td>0.000000</td>\n",
       "      <td>3.000000</td>\n",
       "      <td>28.000000</td>\n",
       "      <td>0.000000</td>\n",
       "      <td>0.000000</td>\n",
       "      <td>14.454200</td>\n",
       "    </tr>\n",
       "    <tr>\n",
       "      <th>75%</th>\n",
       "      <td>668.500000</td>\n",
       "      <td>1.000000</td>\n",
       "      <td>3.000000</td>\n",
       "      <td>38.000000</td>\n",
       "      <td>1.000000</td>\n",
       "      <td>0.000000</td>\n",
       "      <td>31.000000</td>\n",
       "    </tr>\n",
       "    <tr>\n",
       "      <th>max</th>\n",
       "      <td>891.000000</td>\n",
       "      <td>1.000000</td>\n",
       "      <td>3.000000</td>\n",
       "      <td>80.000000</td>\n",
       "      <td>8.000000</td>\n",
       "      <td>6.000000</td>\n",
       "      <td>512.329200</td>\n",
       "    </tr>\n",
       "  </tbody>\n",
       "</table>\n",
       "</div>"
      ],
      "text/plain": [
       "       PassengerId    Survived      Pclass         Age       SibSp  \\\n",
       "count   891.000000  891.000000  891.000000  714.000000  891.000000   \n",
       "mean    446.000000    0.383838    2.308642   29.699118    0.523008   \n",
       "std     257.353842    0.486592    0.836071   14.526497    1.102743   \n",
       "min       1.000000    0.000000    1.000000    0.420000    0.000000   \n",
       "25%     223.500000    0.000000    2.000000   20.125000    0.000000   \n",
       "50%     446.000000    0.000000    3.000000   28.000000    0.000000   \n",
       "75%     668.500000    1.000000    3.000000   38.000000    1.000000   \n",
       "max     891.000000    1.000000    3.000000   80.000000    8.000000   \n",
       "\n",
       "            Parch        Fare  \n",
       "count  891.000000  891.000000  \n",
       "mean     0.381594   32.204208  \n",
       "std      0.806057   49.693429  \n",
       "min      0.000000    0.000000  \n",
       "25%      0.000000    7.910400  \n",
       "50%      0.000000   14.454200  \n",
       "75%      0.000000   31.000000  \n",
       "max      6.000000  512.329200  "
      ]
     },
     "execution_count": 8,
     "metadata": {},
     "output_type": "execute_result"
    }
   ],
   "source": [
    "full_data.describe()"
   ]
  },
  {
   "cell_type": "markdown",
   "id": "f5590ec9-b4c4-4a38-96ff-ee31ea1f254d",
   "metadata": {},
   "source": [
    "Examining the Nans:"
   ]
  },
  {
   "cell_type": "code",
   "execution_count": 9,
   "id": "f1a244d1-7cc0-477b-b311-dd536566a9a4",
   "metadata": {},
   "outputs": [
    {
     "data": {
      "text/plain": [
       "PassengerId      0\n",
       "Survived         0\n",
       "Pclass           0\n",
       "Name             0\n",
       "Sex              0\n",
       "Age            177\n",
       "SibSp            0\n",
       "Parch            0\n",
       "Ticket           0\n",
       "Fare             0\n",
       "Cabin          687\n",
       "Embarked         2\n",
       "dtype: int64"
      ]
     },
     "execution_count": 9,
     "metadata": {},
     "output_type": "execute_result"
    }
   ],
   "source": [
    "full_data.isna().sum()"
   ]
  },
  {
   "cell_type": "code",
   "execution_count": 10,
   "id": "4cda2df8-16b8-476c-99e1-883e932be315",
   "metadata": {},
   "outputs": [
    {
     "data": {
      "text/plain": [
       "<AxesSubplot:>"
      ]
     },
     "execution_count": 10,
     "metadata": {},
     "output_type": "execute_result"
    },
    {
     "data": {
      "image/png": "[encoded data removed]",
      "text/plain": [
       "<Figure size 432x288 with 2 Axes>"
      ]
     },
     "metadata": {
      "needs_background": "light"
     },
     "output_type": "display_data"
    }
   ],
   "source": [
    "sns.heatmap(full_data.isna())"
   ]
  },
  {
   "cell_type": "markdown",
   "id": "861ef2c6-2b8d-467e-b26f-bdce56b1910f",
   "metadata": {},
   "source": [
    "### 1.1 Surviving/non-surviving passengers"
   ]
  },
  {
   "cell_type": "markdown",
   "id": "6a9f6bec-e9d5-44f0-9d93-20525a6b0139",
   "metadata": {},
   "source": [
    "Information about surviving/ non-surviving:"
   ]
  },
  {
   "cell_type": "code",
   "execution_count": 11,
   "id": "cce03e9d-ad64-4222-89fd-fdd5d2bac13d",
   "metadata": {},
   "outputs": [
    {
     "data": {
      "text/plain": [
       "0    549\n",
       "1    342\n",
       "Name: Survived, dtype: int64"
      ]
     },
     "execution_count": 11,
     "metadata": {},
     "output_type": "execute_result"
    }
   ],
   "source": [
    "full_data['Survived'].value_counts()"
   ]
  },
  {
   "cell_type": "code",
   "execution_count": 12,
   "id": "52a6848c-7acb-4b21-9c3a-2f253262294d",
   "metadata": {},
   "outputs": [],
   "source": [
    "surv = full_data['Survived'].value_counts()[1]\n",
    "nonsurv = full_data['Survived'].value_counts()[0]"
   ]
  },
  {
   "cell_type": "markdown",
   "id": "6eb5de0e",
   "metadata": {},
   "source": [
    "Drowning ratio:"
   ]
  },
  {
   "cell_type": "code",
   "execution_count": 446,
   "id": "da1a03f4",
   "metadata": {},
   "outputs": [
    {
     "data": {
      "text/plain": [
       "61.61616161616161"
      ]
     },
     "execution_count": 446,
     "metadata": {},
     "output_type": "execute_result"
    }
   ],
   "source": [
    "nonsurv / (surv + nonsurv) * 100 "
   ]
  },
  {
   "cell_type": "markdown",
   "id": "d5c3e885-e679-469f-8ed8-8722d1eacc3f",
   "metadata": {},
   "source": [
    "Subset of the passengers that survived:"
   ]
  },
  {
   "cell_type": "code",
   "execution_count": 13,
   "id": "194c8bb7-fa90-48d7-aad7-d43b3a6dfbee",
   "metadata": {},
   "outputs": [],
   "source": [
    "by_sur_df = full_data.groupby('Survived')"
   ]
  },
  {
   "cell_type": "code",
   "execution_count": 40,
   "id": "1ff745d0-fc2e-4328-94fd-aa27ac695756",
   "metadata": {},
   "outputs": [
    {
     "data": {
      "text/html": [
       "<div>\n",
       "<style scoped>\n",
       "    .dataframe tbody tr th:only-of-type {\n",
       "        vertical-align: middle;\n",
       "    }\n",
       "\n",
       "    .dataframe tbody tr th {\n",
       "        vertical-align: top;\n",
       "    }\n",
       "\n",
       "    .dataframe thead th {\n",
       "        text-align: right;\n",
       "    }\n",
       "</style>\n",
       "<table border=\"1\" class=\"dataframe\">\n",
       "  <thead>\n",
       "    <tr style=\"text-align: right;\">\n",
       "      <th></th>\n",
       "      <th>PassengerId</th>\n",
       "      <th>Survived</th>\n",
       "      <th>Pclass</th>\n",
       "      <th>Name</th>\n",
       "      <th>Sex</th>\n",
       "      <th>Age</th>\n",
       "      <th>SibSp</th>\n",
       "      <th>Parch</th>\n",
       "      <th>Ticket</th>\n",
       "      <th>Fare</th>\n",
       "      <th>Cabin</th>\n",
       "      <th>Embarked</th>\n",
       "    </tr>\n",
       "  </thead>\n",
       "  <tbody>\n",
       "    <tr>\n",
       "      <th>1</th>\n",
       "      <td>2</td>\n",
       "      <td>1</td>\n",
       "      <td>1</td>\n",
       "      <td>Cumings, Mrs. John Bradley (Florence Briggs Th...</td>\n",
       "      <td>female</td>\n",
       "      <td>38.0</td>\n",
       "      <td>1</td>\n",
       "      <td>0</td>\n",
       "      <td>PC 17599</td>\n",
       "      <td>71.2833</td>\n",
       "      <td>C85</td>\n",
       "      <td>C</td>\n",
       "    </tr>\n",
       "    <tr>\n",
       "      <th>2</th>\n",
       "      <td>3</td>\n",
       "      <td>1</td>\n",
       "      <td>3</td>\n",
       "      <td>Heikkinen, Miss. Laina</td>\n",
       "      <td>female</td>\n",
       "      <td>26.0</td>\n",
       "      <td>0</td>\n",
       "      <td>0</td>\n",
       "      <td>STON/O2. 3101282</td>\n",
       "      <td>7.9250</td>\n",
       "      <td>NaN</td>\n",
       "      <td>S</td>\n",
       "    </tr>\n",
       "    <tr>\n",
       "      <th>3</th>\n",
       "      <td>4</td>\n",
       "      <td>1</td>\n",
       "      <td>1</td>\n",
       "      <td>Futrelle, Mrs. Jacques Heath (Lily May Peel)</td>\n",
       "      <td>female</td>\n",
       "      <td>35.0</td>\n",
       "      <td>1</td>\n",
       "      <td>0</td>\n",
       "      <td>113803</td>\n",
       "      <td>53.1000</td>\n",
       "      <td>C123</td>\n",
       "      <td>S</td>\n",
       "    </tr>\n",
       "    <tr>\n",
       "      <th>8</th>\n",
       "      <td>9</td>\n",
       "      <td>1</td>\n",
       "      <td>3</td>\n",
       "      <td>Johnson, Mrs. Oscar W (Elisabeth Vilhelmina Berg)</td>\n",
       "      <td>female</td>\n",
       "      <td>27.0</td>\n",
       "      <td>0</td>\n",
       "      <td>2</td>\n",
       "      <td>347742</td>\n",
       "      <td>11.1333</td>\n",
       "      <td>NaN</td>\n",
       "      <td>S</td>\n",
       "    </tr>\n",
       "  </tbody>\n",
       "</table>\n",
       "</div>"
      ],
      "text/plain": [
       "   PassengerId  Survived  Pclass  \\\n",
       "1            2         1       1   \n",
       "2            3         1       3   \n",
       "3            4         1       1   \n",
       "8            9         1       3   \n",
       "\n",
       "                                                Name     Sex   Age  SibSp  \\\n",
       "1  Cumings, Mrs. John Bradley (Florence Briggs Th...  female  38.0      1   \n",
       "2                             Heikkinen, Miss. Laina  female  26.0      0   \n",
       "3       Futrelle, Mrs. Jacques Heath (Lily May Peel)  female  35.0      1   \n",
       "8  Johnson, Mrs. Oscar W (Elisabeth Vilhelmina Berg)  female  27.0      0   \n",
       "\n",
       "   Parch            Ticket     Fare Cabin Embarked  \n",
       "1      0          PC 17599  71.2833   C85        C  \n",
       "2      0  STON/O2. 3101282   7.9250   NaN        S  \n",
       "3      0            113803  53.1000  C123        S  \n",
       "8      2            347742  11.1333   NaN        S  "
      ]
     },
     "execution_count": 40,
     "metadata": {},
     "output_type": "execute_result"
    }
   ],
   "source": [
    "by_sur_df.get_group(1).head(4)"
   ]
  },
  {
   "cell_type": "markdown",
   "id": "db5db234-6a18-4aed-85b6-c7a9d865dbed",
   "metadata": {},
   "source": [
    "Subset of passengers that drowned:"
   ]
  },
  {
   "cell_type": "code",
   "execution_count": 15,
   "id": "10c4e98c-a034-4105-aeea-32de90dc2a9c",
   "metadata": {},
   "outputs": [
    {
     "data": {
      "text/html": [
       "<div>\n",
       "<style scoped>\n",
       "    .dataframe tbody tr th:only-of-type {\n",
       "        vertical-align: middle;\n",
       "    }\n",
       "\n",
       "    .dataframe tbody tr th {\n",
       "        vertical-align: top;\n",
       "    }\n",
       "\n",
       "    .dataframe thead th {\n",
       "        text-align: right;\n",
       "    }\n",
       "</style>\n",
       "<table border=\"1\" class=\"dataframe\">\n",
       "  <thead>\n",
       "    <tr style=\"text-align: right;\">\n",
       "      <th></th>\n",
       "      <th>PassengerId</th>\n",
       "      <th>Survived</th>\n",
       "      <th>Pclass</th>\n",
       "      <th>Name</th>\n",
       "      <th>Sex</th>\n",
       "      <th>Age</th>\n",
       "      <th>SibSp</th>\n",
       "      <th>Parch</th>\n",
       "      <th>Ticket</th>\n",
       "      <th>Fare</th>\n",
       "      <th>Cabin</th>\n",
       "      <th>Embarked</th>\n",
       "    </tr>\n",
       "  </thead>\n",
       "  <tbody>\n",
       "    <tr>\n",
       "      <th>0</th>\n",
       "      <td>1</td>\n",
       "      <td>0</td>\n",
       "      <td>3</td>\n",
       "      <td>Braund, Mr. Owen Harris</td>\n",
       "      <td>male</td>\n",
       "      <td>22.0</td>\n",
       "      <td>1</td>\n",
       "      <td>0</td>\n",
       "      <td>A/5 21171</td>\n",
       "      <td>7.2500</td>\n",
       "      <td>NaN</td>\n",
       "      <td>S</td>\n",
       "    </tr>\n",
       "    <tr>\n",
       "      <th>4</th>\n",
       "      <td>5</td>\n",
       "      <td>0</td>\n",
       "      <td>3</td>\n",
       "      <td>Allen, Mr. William Henry</td>\n",
       "      <td>male</td>\n",
       "      <td>35.0</td>\n",
       "      <td>0</td>\n",
       "      <td>0</td>\n",
       "      <td>373450</td>\n",
       "      <td>8.0500</td>\n",
       "      <td>NaN</td>\n",
       "      <td>S</td>\n",
       "    </tr>\n",
       "    <tr>\n",
       "      <th>5</th>\n",
       "      <td>6</td>\n",
       "      <td>0</td>\n",
       "      <td>3</td>\n",
       "      <td>Moran, Mr. James</td>\n",
       "      <td>male</td>\n",
       "      <td>NaN</td>\n",
       "      <td>0</td>\n",
       "      <td>0</td>\n",
       "      <td>330877</td>\n",
       "      <td>8.4583</td>\n",
       "      <td>NaN</td>\n",
       "      <td>Q</td>\n",
       "    </tr>\n",
       "    <tr>\n",
       "      <th>6</th>\n",
       "      <td>7</td>\n",
       "      <td>0</td>\n",
       "      <td>1</td>\n",
       "      <td>McCarthy, Mr. Timothy J</td>\n",
       "      <td>male</td>\n",
       "      <td>54.0</td>\n",
       "      <td>0</td>\n",
       "      <td>0</td>\n",
       "      <td>17463</td>\n",
       "      <td>51.8625</td>\n",
       "      <td>E46</td>\n",
       "      <td>S</td>\n",
       "    </tr>\n",
       "    <tr>\n",
       "      <th>7</th>\n",
       "      <td>8</td>\n",
       "      <td>0</td>\n",
       "      <td>3</td>\n",
       "      <td>Palsson, Master. Gosta Leonard</td>\n",
       "      <td>male</td>\n",
       "      <td>2.0</td>\n",
       "      <td>3</td>\n",
       "      <td>1</td>\n",
       "      <td>349909</td>\n",
       "      <td>21.0750</td>\n",
       "      <td>NaN</td>\n",
       "      <td>S</td>\n",
       "    </tr>\n",
       "    <tr>\n",
       "      <th>...</th>\n",
       "      <td>...</td>\n",
       "      <td>...</td>\n",
       "      <td>...</td>\n",
       "      <td>...</td>\n",
       "      <td>...</td>\n",
       "      <td>...</td>\n",
       "      <td>...</td>\n",
       "      <td>...</td>\n",
       "      <td>...</td>\n",
       "      <td>...</td>\n",
       "      <td>...</td>\n",
       "      <td>...</td>\n",
       "    </tr>\n",
       "    <tr>\n",
       "      <th>884</th>\n",
       "      <td>885</td>\n",
       "      <td>0</td>\n",
       "      <td>3</td>\n",
       "      <td>Sutehall, Mr. Henry Jr</td>\n",
       "      <td>male</td>\n",
       "      <td>25.0</td>\n",
       "      <td>0</td>\n",
       "      <td>0</td>\n",
       "      <td>SOTON/OQ 392076</td>\n",
       "      <td>7.0500</td>\n",
       "      <td>NaN</td>\n",
       "      <td>S</td>\n",
       "    </tr>\n",
       "    <tr>\n",
       "      <th>885</th>\n",
       "      <td>886</td>\n",
       "      <td>0</td>\n",
       "      <td>3</td>\n",
       "      <td>Rice, Mrs. William (Margaret Norton)</td>\n",
       "      <td>female</td>\n",
       "      <td>39.0</td>\n",
       "      <td>0</td>\n",
       "      <td>5</td>\n",
       "      <td>382652</td>\n",
       "      <td>29.1250</td>\n",
       "      <td>NaN</td>\n",
       "      <td>Q</td>\n",
       "    </tr>\n",
       "    <tr>\n",
       "      <th>886</th>\n",
       "      <td>887</td>\n",
       "      <td>0</td>\n",
       "      <td>2</td>\n",
       "      <td>Montvila, Rev. Juozas</td>\n",
       "      <td>male</td>\n",
       "      <td>27.0</td>\n",
       "      <td>0</td>\n",
       "      <td>0</td>\n",
       "      <td>211536</td>\n",
       "      <td>13.0000</td>\n",
       "      <td>NaN</td>\n",
       "      <td>S</td>\n",
       "    </tr>\n",
       "    <tr>\n",
       "      <th>888</th>\n",
       "      <td>889</td>\n",
       "      <td>0</td>\n",
       "      <td>3</td>\n",
       "      <td>Johnston, Miss. Catherine Helen \"Carrie\"</td>\n",
       "      <td>female</td>\n",
       "      <td>NaN</td>\n",
       "      <td>1</td>\n",
       "      <td>2</td>\n",
       "      <td>W./C. 6607</td>\n",
       "      <td>23.4500</td>\n",
       "      <td>NaN</td>\n",
       "      <td>S</td>\n",
       "    </tr>\n",
       "    <tr>\n",
       "      <th>890</th>\n",
       "      <td>891</td>\n",
       "      <td>0</td>\n",
       "      <td>3</td>\n",
       "      <td>Dooley, Mr. Patrick</td>\n",
       "      <td>male</td>\n",
       "      <td>32.0</td>\n",
       "      <td>0</td>\n",
       "      <td>0</td>\n",
       "      <td>370376</td>\n",
       "      <td>7.7500</td>\n",
       "      <td>NaN</td>\n",
       "      <td>Q</td>\n",
       "    </tr>\n",
       "  </tbody>\n",
       "</table>\n",
       "<p>549 rows × 12 columns</p>\n",
       "</div>"
      ],
      "text/plain": [
       "     PassengerId  Survived  Pclass                                      Name  \\\n",
       "0              1         0       3                   Braund, Mr. Owen Harris   \n",
       "4              5         0       3                  Allen, Mr. William Henry   \n",
       "5              6         0       3                          Moran, Mr. James   \n",
       "6              7         0       1                   McCarthy, Mr. Timothy J   \n",
       "7              8         0       3            Palsson, Master. Gosta Leonard   \n",
       "..           ...       ...     ...                                       ...   \n",
       "884          885         0       3                    Sutehall, Mr. Henry Jr   \n",
       "885          886         0       3      Rice, Mrs. William (Margaret Norton)   \n",
       "886          887         0       2                     Montvila, Rev. Juozas   \n",
       "888          889         0       3  Johnston, Miss. Catherine Helen \"Carrie\"   \n",
       "890          891         0       3                       Dooley, Mr. Patrick   \n",
       "\n",
       "        Sex   Age  SibSp  Parch           Ticket     Fare Cabin Embarked  \n",
       "0      male  22.0      1      0        A/5 21171   7.2500   NaN        S  \n",
       "4      male  35.0      0      0           373450   8.0500   NaN        S  \n",
       "5      male   NaN      0      0           330877   8.4583   NaN        Q  \n",
       "6      male  54.0      0      0            17463  51.8625   E46        S  \n",
       "7      male   2.0      3      1           349909  21.0750   NaN        S  \n",
       "..      ...   ...    ...    ...              ...      ...   ...      ...  \n",
       "884    male  25.0      0      0  SOTON/OQ 392076   7.0500   NaN        S  \n",
       "885  female  39.0      0      5           382652  29.1250   NaN        Q  \n",
       "886    male  27.0      0      0           211536  13.0000   NaN        S  \n",
       "888  female   NaN      1      2       W./C. 6607  23.4500   NaN        S  \n",
       "890    male  32.0      0      0           370376   7.7500   NaN        Q  \n",
       "\n",
       "[549 rows x 12 columns]"
      ]
     },
     "execution_count": 15,
     "metadata": {},
     "output_type": "execute_result"
    }
   ],
   "source": [
    "by_sur_df.get_group(0)"
   ]
  },
  {
   "cell_type": "markdown",
   "id": "29bcb4ee-9b12-4320-98cf-d47cf5055ea6",
   "metadata": {},
   "source": [
    "Bar plot with panda:"
   ]
  },
  {
   "cell_type": "code",
   "execution_count": 16,
   "id": "da081be1-4c2a-48c8-a51d-c7e565bf1bcc",
   "metadata": {},
   "outputs": [
    {
     "data": {
      "text/plain": [
       "<AxesSubplot:>"
      ]
     },
     "execution_count": 16,
     "metadata": {},
     "output_type": "execute_result"
    },
    {
     "data": {
      "image/png": "[encoded data removed]",
      "text/plain": [
       "<Figure size 432x288 with 1 Axes>"
      ]
     },
     "metadata": {
      "needs_background": "light"
     },
     "output_type": "display_data"
    }
   ],
   "source": [
    "full_data['Survived'].value_counts().plot.bar(rot=0)"
   ]
  },
  {
   "cell_type": "markdown",
   "id": "c58ef6bb-0cd5-45f5-89c1-0a00f75a7e90",
   "metadata": {},
   "source": [
    "Plotting with Seaborn:"
   ]
  },
  {
   "cell_type": "code",
   "execution_count": 17,
   "id": "6495766e-2d6c-4f29-a594-1550d3e6841d",
   "metadata": {},
   "outputs": [
    {
     "data": {
      "text/plain": [
       "<AxesSubplot:xlabel='Survived', ylabel='count'>"
      ]
     },
     "execution_count": 17,
     "metadata": {},
     "output_type": "execute_result"
    },
    {
     "data": {
      "image/png": "[encoded data removed]",
      "text/plain": [
       "<Figure size 432x288 with 1 Axes>"
      ]
     },
     "metadata": {
      "needs_background": "light"
     },
     "output_type": "display_data"
    }
   ],
   "source": [
    "sns.countplot(data=full_data, x='Survived')"
   ]
  },
  {
   "cell_type": "code",
   "execution_count": 18,
   "id": "3efed5fd-7978-47ed-9797-fe98f9244799",
   "metadata": {},
   "outputs": [
    {
     "data": {
      "text/plain": [
       "<AxesSubplot:xlabel='Sex', ylabel='count'>"
      ]
     },
     "execution_count": 18,
     "metadata": {},
     "output_type": "execute_result"
    },
    {
     "data": {
      "image/png": "[encoded data removed]",
      "text/plain": [
       "<Figure size 432x288 with 1 Axes>"
      ]
     },
     "metadata": {
      "needs_background": "light"
     },
     "output_type": "display_data"
    }
   ],
   "source": [
    "sns.countplot(data=full_data, x='Sex', hue='Survived')"
   ]
  },
  {
   "cell_type": "markdown",
   "id": "f5392168-f262-46b3-822c-2f880f38d601",
   "metadata": {},
   "source": [
    "### 1.2 Proportion of surviving passengers with regards to the total number of 1st class passengers:"
   ]
  },
  {
   "cell_type": "markdown",
   "id": "54cedc6a-dd26-412c-8e4c-e41e06a358a7",
   "metadata": {},
   "source": [
    "First Class Passenger:"
   ]
  },
  {
   "cell_type": "code",
   "execution_count": 19,
   "id": "e7b26ea1-0a27-4311-ae60-78840ab17292",
   "metadata": {},
   "outputs": [
    {
     "data": {
      "text/plain": [
       "<AxesSubplot:xlabel='Pclass', ylabel='count'>"
      ]
     },
     "execution_count": 19,
     "metadata": {},
     "output_type": "execute_result"
    },
    {
     "data": {
      "image/png": "[encoded data removed]",
      "text/plain": [
       "<Figure size 432x288 with 1 Axes>"
      ]
     },
     "metadata": {
      "needs_background": "light"
     },
     "output_type": "display_data"
    }
   ],
   "source": [
    "sns.countplot(data=full_data, x='Pclass', hue='Survived')"
   ]
  },
  {
   "cell_type": "markdown",
   "id": "ea88a4a8-a7d9-43c2-8f87-940c279d775c",
   "metadata": {},
   "source": [
    "How many on First class?"
   ]
  },
  {
   "cell_type": "code",
   "execution_count": 20,
   "id": "41f68252-db40-4520-995b-63419ddf3dbe",
   "metadata": {},
   "outputs": [
    {
     "data": {
      "text/plain": [
       "216"
      ]
     },
     "execution_count": 20,
     "metadata": {},
     "output_type": "execute_result"
    }
   ],
   "source": [
    "firstcl = full_data['Pclass'].loc[full_data['Pclass']==1].count()\n",
    "firstcl"
   ]
  },
  {
   "cell_type": "markdown",
   "id": "f8dd8036-78ea-4f2f-a2ea-4f4bf02d5def",
   "metadata": {},
   "source": [
    "How many on First class survived?"
   ]
  },
  {
   "cell_type": "code",
   "execution_count": 21,
   "id": "d38e626d-6010-4ab4-bf3c-bd3d76a911e5",
   "metadata": {},
   "outputs": [
    {
     "data": {
      "text/plain": [
       "1    136\n",
       "0     80\n",
       "Name: Survived, dtype: int64"
      ]
     },
     "execution_count": 21,
     "metadata": {},
     "output_type": "execute_result"
    }
   ],
   "source": [
    "full_data['Survived'].loc[full_data['Pclass']==1].value_counts()"
   ]
  },
  {
   "cell_type": "code",
   "execution_count": 22,
   "id": "6ec68c10-2c16-476d-a60c-b9840c7856ca",
   "metadata": {
    "tags": []
   },
   "outputs": [
    {
     "data": {
      "text/plain": [
       "136"
      ]
     },
     "execution_count": 22,
     "metadata": {},
     "output_type": "execute_result"
    }
   ],
   "source": [
    "firstcl_sur = full_data['Pclass'].loc[full_data['Pclass']==1].loc[full_data['Survived']==1].count()\n",
    "firstcl_sur"
   ]
  },
  {
   "cell_type": "code",
   "execution_count": 23,
   "id": "a63bea48-ca0f-40d2-a513-12f481e8c9d2",
   "metadata": {},
   "outputs": [
    {
     "data": {
      "text/plain": [
       "1      1\n",
       "3      1\n",
       "6      0\n",
       "11     1\n",
       "23     1\n",
       "      ..\n",
       "871    1\n",
       "872    0\n",
       "879    1\n",
       "887    1\n",
       "889    1\n",
       "Name: Survived, Length: 216, dtype: int64"
      ]
     },
     "execution_count": 23,
     "metadata": {},
     "output_type": "execute_result"
    }
   ],
   "source": [
    "full_data['Survived'].loc[full_data['Pclass']==1]"
   ]
  },
  {
   "cell_type": "markdown",
   "id": "38882687-b412-4dc8-b444-d1fcc1e0bb7b",
   "metadata": {},
   "source": [
    "Proportion of surviving passengers in the 1st class:"
   ]
  },
  {
   "cell_type": "code",
   "execution_count": 24,
   "id": "19e6df26-69e0-4865-80c2-e369a3ca60c8",
   "metadata": {},
   "outputs": [
    {
     "data": {
      "text/plain": [
       "0.6296296296296297"
      ]
     },
     "execution_count": 24,
     "metadata": {},
     "output_type": "execute_result"
    }
   ],
   "source": [
    "firstcl_sur / firstcl"
   ]
  },
  {
   "cell_type": "markdown",
   "id": "943295f5-132b-41d0-af74-b804803dd3ac",
   "metadata": {
    "tags": []
   },
   "source": [
    "### 1.3 Bar Plot with separate bars for male/ female passengers and 1st/2nd/3d class passengers"
   ]
  },
  {
   "cell_type": "code",
   "execution_count": 25,
   "id": "7987a926-4e1f-463d-bad7-55edfcd42d4b",
   "metadata": {},
   "outputs": [
    {
     "data": {
      "text/plain": [
       "<AxesSubplot:xlabel='Sex', ylabel='count'>"
      ]
     },
     "execution_count": 25,
     "metadata": {},
     "output_type": "execute_result"
    },
    {
     "data": {
      "image/png": "[encoded data removed]",
      "text/plain": [
       "<Figure size 432x288 with 1 Axes>"
      ]
     },
     "metadata": {
      "needs_background": "light"
     },
     "output_type": "display_data"
    }
   ],
   "source": [
    "sns.countplot(data=full_data, x='Sex', hue='Pclass' )"
   ]
  },
  {
   "cell_type": "code",
   "execution_count": 26,
   "id": "b4bdd974-eca0-4325-9486-27089ec5ccdf",
   "metadata": {},
   "outputs": [
    {
     "data": {
      "text/plain": [
       "<AxesSubplot:xlabel='Pclass', ylabel='count'>"
      ]
     },
     "execution_count": 26,
     "metadata": {},
     "output_type": "execute_result"
    },
    {
     "data": {
      "image/png": "[encoded data removed]",
      "text/plain": [
       "<Figure size 432x288 with 1 Axes>"
      ]
     },
     "metadata": {
      "needs_background": "light"
     },
     "output_type": "display_data"
    }
   ],
   "source": [
    "sns.countplot(data=full_data, x='Pclass', hue='Sex' )"
   ]
  },
  {
   "cell_type": "markdown",
   "id": "509e89cf-91d5-44cc-94b9-93cfa1ce33e0",
   "metadata": {},
   "source": [
    "### 1.4 Histogram showing age distributions of passengers among survivals and non-survivals"
   ]
  },
  {
   "cell_type": "code",
   "execution_count": 27,
   "id": "ea66be90-d37d-4590-ac81-c05b26eb9338",
   "metadata": {},
   "outputs": [],
   "source": [
    "sur_df = full_data.loc[full_data['Survived']==1]\n",
    "non_sur_df = full_data.loc[full_data['Survived']==0]"
   ]
  },
  {
   "cell_type": "code",
   "execution_count": 28,
   "id": "4f4536ca-a17d-48c5-a3d4-f783abfee278",
   "metadata": {},
   "outputs": [
    {
     "data": {
      "text/plain": [
       "<AxesSubplot:xlabel='Age', ylabel='Count'>"
      ]
     },
     "execution_count": 28,
     "metadata": {},
     "output_type": "execute_result"
    },
    {
     "data": {
      "image/png": "[encoded data removed]",
      "text/plain": [
       "<Figure size 432x288 with 1 Axes>"
      ]
     },
     "metadata": {
      "needs_background": "light"
     },
     "output_type": "display_data"
    }
   ],
   "source": [
    "sns.histplot( data=sur_df, x='Age', bins=10 )"
   ]
  },
  {
   "cell_type": "code",
   "execution_count": 29,
   "id": "b2772f87-697a-49c2-9f95-301e2c52f00c",
   "metadata": {},
   "outputs": [
    {
     "data": {
      "text/plain": [
       "<AxesSubplot:xlabel='Age', ylabel='Count'>"
      ]
     },
     "execution_count": 29,
     "metadata": {},
     "output_type": "execute_result"
    },
    {
     "data": {
      "image/png": "[encoded data removed]",
      "text/plain": [
       "<Figure size 432x288 with 1 Axes>"
      ]
     },
     "metadata": {
      "needs_background": "light"
     },
     "output_type": "display_data"
    }
   ],
   "source": [
    "sns.histplot( data=non_sur_df, x='Age', bins=10 )"
   ]
  },
  {
   "cell_type": "markdown",
   "id": "ff2c0b60-4148-4e5c-9e45-a885b9c9d455",
   "metadata": {},
   "source": [
    "### 1.5 Average Age of the survived and the drowned"
   ]
  },
  {
   "cell_type": "code",
   "execution_count": 30,
   "id": "04f1a48f-1ab8-4966-81e6-a3fc6fe75076",
   "metadata": {},
   "outputs": [
    {
     "data": {
      "text/plain": [
       "28.343689655172415"
      ]
     },
     "execution_count": 30,
     "metadata": {},
     "output_type": "execute_result"
    }
   ],
   "source": [
    "sur_df['Age'].mean()"
   ]
  },
  {
   "cell_type": "code",
   "execution_count": 31,
   "id": "29b9ae0c-f116-4664-a194-f7d7b761e0b9",
   "metadata": {},
   "outputs": [
    {
     "data": {
      "text/plain": [
       "30.62617924528302"
      ]
     },
     "execution_count": 31,
     "metadata": {},
     "output_type": "execute_result"
    }
   ],
   "source": [
    "non_sur_df['Age'].mean()"
   ]
  },
  {
   "cell_type": "markdown",
   "id": "f765cf58-d3ae-4dcb-b050-9b719732ce26",
   "metadata": {},
   "source": [
    "### 1.6 Replace missing age values by the mean:"
   ]
  },
  {
   "cell_type": "code",
   "execution_count": 32,
   "id": "a9e4ca56-07dd-4a65-918e-2c912b5dddf2",
   "metadata": {},
   "outputs": [
    {
     "data": {
      "text/plain": [
       "177"
      ]
     },
     "execution_count": 32,
     "metadata": {},
     "output_type": "execute_result"
    }
   ],
   "source": [
    "full_data['Age'].isna().sum()"
   ]
  },
  {
   "cell_type": "code",
   "execution_count": 33,
   "id": "34e4c784-9d46-4f3f-a9be-1d2ca3c60d12",
   "metadata": {},
   "outputs": [
    {
     "data": {
      "text/plain": [
       "891"
      ]
     },
     "execution_count": 33,
     "metadata": {},
     "output_type": "execute_result"
    }
   ],
   "source": [
    "len (full_data)"
   ]
  },
  {
   "cell_type": "code",
   "execution_count": 34,
   "id": "bf537f86-287e-4038-8c7e-dc0a92f4d65d",
   "metadata": {},
   "outputs": [],
   "source": [
    "df_age = full_data['Age'].fillna(full_data['Age'].mean(), inplace=False)"
   ]
  },
  {
   "cell_type": "code",
   "execution_count": 35,
   "id": "e329f208-7572-4a46-8221-b688fc97f35a",
   "metadata": {},
   "outputs": [
    {
     "data": {
      "text/plain": [
       "0"
      ]
     },
     "execution_count": 35,
     "metadata": {},
     "output_type": "execute_result"
    }
   ],
   "source": [
    "df_age.isna().sum()"
   ]
  },
  {
   "cell_type": "code",
   "execution_count": 36,
   "id": "9287da4b-9eb9-4675-adb7-409a59b301a5",
   "metadata": {
    "tags": []
   },
   "outputs": [
    {
     "data": {
      "text/plain": [
       "177"
      ]
     },
     "execution_count": 36,
     "metadata": {},
     "output_type": "execute_result"
    }
   ],
   "source": [
    "full_data['Age'].isna().sum()"
   ]
  },
  {
   "cell_type": "code",
   "execution_count": 37,
   "id": "bf8af289",
   "metadata": {},
   "outputs": [],
   "source": [
    "# Bonus: Imputation based on Title"
   ]
  },
  {
   "cell_type": "code",
   "execution_count": 45,
   "id": "4068dff6",
   "metadata": {},
   "outputs": [
    {
     "data": {
      "text/plain": [
       "0           Braund, Mr. Owen Harris\n",
       "4          Allen, Mr. William Henry\n",
       "5                  Moran, Mr. James\n",
       "6           McCarthy, Mr. Timothy J\n",
       "7    Palsson, Master. Gosta Leonard\n",
       "Name: Name, dtype: object"
      ]
     },
     "execution_count": 45,
     "metadata": {},
     "output_type": "execute_result"
    }
   ],
   "source": [
    "full_data[full_data['Sex']=='male']['Name'].head(5) # Mr. / Master"
   ]
  },
  {
   "cell_type": "code",
   "execution_count": 47,
   "id": "f058603c",
   "metadata": {},
   "outputs": [
    {
     "data": {
      "text/plain": [
       "1    Cumings, Mrs. John Bradley (Florence Briggs Th...\n",
       "2                               Heikkinen, Miss. Laina\n",
       "3         Futrelle, Mrs. Jacques Heath (Lily May Peel)\n",
       "8    Johnson, Mrs. Oscar W (Elisabeth Vilhelmina Berg)\n",
       "9                  Nasser, Mrs. Nicholas (Adele Achem)\n",
       "Name: Name, dtype: object"
      ]
     },
     "execution_count": 47,
     "metadata": {},
     "output_type": "execute_result"
    }
   ],
   "source": [
    "full_data[full_data['Sex']=='female']['Name'].head(5) # Mrs. / Miss"
   ]
  },
  {
   "cell_type": "markdown",
   "id": "0e4d71cb-9798-481c-b531-a376002823d0",
   "metadata": {},
   "source": [
    "### 1.7 Table counting the number of surviving/dead passengers"
   ]
  },
  {
   "cell_type": "code",
   "execution_count": 48,
   "id": "846cd0c9-81df-4add-a458-e1f8aa1a318b",
   "metadata": {},
   "outputs": [],
   "source": [
    "class_df= full_data.groupby('Pclass')"
   ]
  },
  {
   "cell_type": "code",
   "execution_count": 49,
   "id": "305a5f90-2dcc-4b4e-a458-fe3ce155f1d8",
   "metadata": {},
   "outputs": [
    {
     "data": {
      "text/plain": [
       "<pandas.core.groupby.generic.DataFrameGroupBy object at 0x000001E0DDA496D0>"
      ]
     },
     "execution_count": 49,
     "metadata": {},
     "output_type": "execute_result"
    }
   ],
   "source": [
    "class_df"
   ]
  },
  {
   "cell_type": "code",
   "execution_count": 50,
   "id": "2f71175f-da6e-4fbd-bbf1-5b6a34065198",
   "metadata": {},
   "outputs": [
    {
     "data": {
      "text/plain": [
       "{1: [1, 3, 6, 11, 23, 27, 30, 31, 34, 35, 52, 54, 55, 61, 62, 64, 83, 88, 92, 96, 97, 102, 110, 118, 124, 136, 137, 139, 151, 155, 166, 168, 170, 174, 177, 185, 187, 194, 195, 209, 215, 218, 224, 230, 245, 248, 252, 256, 257, 258, 262, 263, 268, 269, 270, 273, 275, 284, 290, 291, 295, 297, 298, 299, 305, 306, 307, 309, 310, 311, 318, 319, 325, 329, 331, 332, 334, 336, 337, 339, 341, 351, 356, 366, 369, 370, 373, 375, 377, 380, 383, 390, 393, 412, 430, 434, 435, 438, 445, 447, ...], 2: [9, 15, 17, 20, 21, 33, 41, 43, 53, 56, 58, 66, 70, 72, 78, 84, 98, 99, 117, 120, 122, 123, 133, 134, 135, 144, 145, 148, 149, 150, 161, 178, 181, 183, 190, 191, 193, 199, 211, 213, 217, 219, 221, 226, 228, 232, 234, 236, 237, 238, 239, 242, 247, 249, 259, 265, 272, 277, 288, 292, 303, 308, 312, 314, 316, 317, 322, 323, 327, 340, 342, 343, 344, 345, 346, 357, 361, 385, 387, 389, 397, 398, 399, 405, 407, 413, 416, 417, 418, 426, 427, 432, 437, 439, 440, 443, 446, 450, 458, 463, ...], 3: [0, 2, 4, 5, 7, 8, 10, 12, 13, 14, 16, 18, 19, 22, 24, 25, 26, 28, 29, 32, 36, 37, 38, 39, 40, 42, 44, 45, 46, 47, 48, 49, 50, 51, 57, 59, 60, 63, 65, 67, 68, 69, 71, 73, 74, 75, 76, 77, 79, 80, 81, 82, 85, 86, 87, 89, 90, 91, 93, 94, 95, 100, 101, 103, 104, 105, 106, 107, 108, 109, 111, 112, 113, 114, 115, 116, 119, 121, 125, 126, 127, 128, 129, 130, 131, 132, 138, 140, 141, 142, 143, 146, 147, 152, 153, 154, 156, 157, 158, 159, ...]}"
      ]
     },
     "execution_count": 50,
     "metadata": {},
     "output_type": "execute_result"
    }
   ],
   "source": [
    "class_df.groups"
   ]
  },
  {
   "cell_type": "code",
   "execution_count": 51,
   "id": "e9b59e6c-bb76-42df-8057-75b2f8bac4ec",
   "metadata": {
    "scrolled": true
   },
   "outputs": [
    {
     "data": {
      "text/plain": [
       "Pclass\n",
       "1    216\n",
       "2    184\n",
       "3    491\n",
       "Name: Survived, dtype: int64"
      ]
     },
     "execution_count": 51,
     "metadata": {},
     "output_type": "execute_result"
    }
   ],
   "source": [
    "class_df['Survived'].count()"
   ]
  },
  {
   "cell_type": "code",
   "execution_count": null,
   "id": "69ada80b",
   "metadata": {},
   "outputs": [],
   "source": [
    "# Nans can be taken care of eventually by the feature engineering pipeline and column transformer"
   ]
  },
  {
   "cell_type": "code",
   "execution_count": 125,
   "id": "7460c226",
   "metadata": {},
   "outputs": [],
   "source": [
    "# Feature Engineering"
   ]
  },
  {
   "cell_type": "code",
   "execution_count": 470,
   "id": "adef00f4",
   "metadata": {},
   "outputs": [],
   "source": [
    "df = full_data[['Pclass','Age','Sex','Survived']]"
   ]
  },
  {
   "cell_type": "code",
   "execution_count": 471,
   "id": "140fb3cc",
   "metadata": {},
   "outputs": [],
   "source": [
    "X = df[['Pclass','Age','Sex']]\n",
    "y = df['Survived']"
   ]
  },
  {
   "cell_type": "code",
   "execution_count": 472,
   "id": "00f0f692",
   "metadata": {},
   "outputs": [],
   "source": [
    "x_train, x_test, y_train, y_test = train_test_split(X, y, random_state=20)"
   ]
  },
  {
   "cell_type": "code",
   "execution_count": 473,
   "id": "ed4e6d88",
   "metadata": {},
   "outputs": [
    {
     "data": {
      "text/plain": [
       "((668, 3), (223, 3), (668,), (223,))"
      ]
     },
     "execution_count": 473,
     "metadata": {},
     "output_type": "execute_result"
    }
   ],
   "source": [
    "x_train.shape, x_test.shape, y_train.shape, y_test.shape "
   ]
  },
  {
   "cell_type": "code",
   "execution_count": 474,
   "id": "32bf5f2b",
   "metadata": {},
   "outputs": [],
   "source": [
    "age_imputer = SimpleImputer(strategy='median')"
   ]
  },
  {
   "cell_type": "code",
   "execution_count": 475,
   "id": "968730b8",
   "metadata": {},
   "outputs": [],
   "source": [
    "transformer = ColumnTransformer([\n",
    "    ('imputed_age', age_imputer, ['Age']),\n",
    "    ('do_nothing','passthrough',['Pclass']),\n",
    "    ('onehot', OneHotEncoder(sparse=False,drop='if_binary',handle_unknown='error'),['Sex'])\n",
    "])"
   ]
  },
  {
   "cell_type": "code",
   "execution_count": 476,
   "id": "857e45ff",
   "metadata": {},
   "outputs": [],
   "source": [
    "x_train_fe = transformer.fit_transform(x_train)\n",
    "x_test_fe = transformer.transform(x_test)"
   ]
  },
  {
   "cell_type": "code",
   "execution_count": 477,
   "id": "3ccf1b28",
   "metadata": {},
   "outputs": [
    {
     "data": {
      "text/plain": [
       "((668, 3), (223, 3), (668,), (223,))"
      ]
     },
     "execution_count": 477,
     "metadata": {},
     "output_type": "execute_result"
    }
   ],
   "source": [
    "x_train_fe.shape, x_test_fe.shape, y_train.shape, y_test.shape"
   ]
  },
  {
   "cell_type": "code",
   "execution_count": 478,
   "id": "0c10a1ff",
   "metadata": {},
   "outputs": [
    {
     "data": {
      "text/plain": [
       "array([[40.,  1.,  1.],\n",
       "       [ 3.,  3.,  1.],\n",
       "       [15.,  3.,  0.],\n",
       "       ...,\n",
       "       [25.,  3.,  1.],\n",
       "       [22.,  3.,  0.],\n",
       "       [28.,  3.,  1.]])"
      ]
     },
     "execution_count": 478,
     "metadata": {},
     "output_type": "execute_result"
    }
   ],
   "source": [
    "x_train_fe"
   ]
  },
  {
   "cell_type": "code",
   "execution_count": 327,
   "id": "b4bf35a4",
   "metadata": {},
   "outputs": [],
   "source": [
    "# Pclass: OHE for LogReg"
   ]
  },
  {
   "cell_type": "code",
   "execution_count": 328,
   "id": "949b87e5",
   "metadata": {},
   "outputs": [],
   "source": [
    "# Age: Binning, OHE for LogReg"
   ]
  },
  {
   "cell_type": "code",
   "execution_count": 329,
   "id": "d7df4004",
   "metadata": {},
   "outputs": [],
   "source": [
    "# Sex: to number, OHE for LogReg"
   ]
  },
  {
   "cell_type": "markdown",
   "id": "015b2d88-591c-46a1-b5b6-5a13623a94a2",
   "metadata": {},
   "source": [
    "## 2. Machine Learning"
   ]
  },
  {
   "cell_type": "markdown",
   "id": "95eeb24b-40a8-4ce7-9fb9-45e23fd8ab92",
   "metadata": {},
   "source": [
    "#### Logistic Regression 1 feature"
   ]
  },
  {
   "cell_type": "markdown",
   "id": "f9785431-4c98-4443-8238-f6ccb56319dc",
   "metadata": {},
   "source": [
    "Prepare Data for ML:\n",
    "- training: learning parameter values\n",
    "- testing: test parameter values found in the training"
   ]
  },
  {
   "cell_type": "code",
   "execution_count": 339,
   "id": "32cfeaf6-2211-4a60-b38e-7d59ed7a7ab4",
   "metadata": {
    "tags": []
   },
   "outputs": [],
   "source": [
    "# Pclass: feature order defined by transformer \n",
    "x_train = x_train_fe[:,1].reshape(-1,1)\n",
    "x_test = x_test_fe[:,1].reshape(-1,1)"
   ]
  },
  {
   "cell_type": "code",
   "execution_count": 340,
   "id": "972e8479",
   "metadata": {},
   "outputs": [
    {
     "data": {
      "text/plain": [
       "((668, 1), (223, 1), (668,), (223,))"
      ]
     },
     "execution_count": 340,
     "metadata": {},
     "output_type": "execute_result"
    }
   ],
   "source": [
    "x_train.shape, x_test.shape, y_train.shape, y_test.shape "
   ]
  },
  {
   "cell_type": "code",
   "execution_count": 341,
   "id": "9863f730",
   "metadata": {},
   "outputs": [
    {
     "data": {
      "text/plain": [
       "(array([1, 3, 3, 2, 1], dtype=object), array([3, 2, 2, 3, 2], dtype=object))"
      ]
     },
     "execution_count": 341,
     "metadata": {},
     "output_type": "execute_result"
    }
   ],
   "source": [
    "x_train[:5,0], x_test[:5,0]"
   ]
  },
  {
   "cell_type": "code",
   "execution_count": 342,
   "id": "f2709070-7712-47e6-852d-fd417c98fc94",
   "metadata": {},
   "outputs": [],
   "source": [
    "# definition of sigmoid function. we are not going to use it explicitly\n",
    "def sigmoid(w1, w0, x1):\n",
    "    return 1/(1+np.exp(-(w1*x1+w0)))"
   ]
  },
  {
   "cell_type": "code",
   "execution_count": 343,
   "id": "ae33ed75",
   "metadata": {},
   "outputs": [
    {
     "data": {
      "text/plain": [
       "(array([3, 2, 1], dtype=object), array([1, 3, 2], dtype=object))"
      ]
     },
     "execution_count": 343,
     "metadata": {},
     "output_type": "execute_result"
    }
   ],
   "source": [
    "pd.DataFrame(x_test).iloc[:,0].unique(), pd.DataFrame(x_train).iloc[:,0].unique()"
   ]
  },
  {
   "cell_type": "code",
   "execution_count": 344,
   "id": "0c877764-89b0-49d6-b8f3-7a3f55fa76dc",
   "metadata": {},
   "outputs": [],
   "source": [
    "m_lr = LogisticRegression(max_iter=1000)"
   ]
  },
  {
   "cell_type": "code",
   "execution_count": 345,
   "id": "dff9a3c5-b451-49c2-add8-8ac535bbc9c5",
   "metadata": {},
   "outputs": [
    {
     "data": {
      "text/plain": [
       "LogisticRegression(max_iter=1000)"
      ]
     },
     "execution_count": 345,
     "metadata": {},
     "output_type": "execute_result"
    }
   ],
   "source": [
    "m_lr.fit(x_train, y_train)"
   ]
  },
  {
   "cell_type": "code",
   "execution_count": 346,
   "id": "562bdc27",
   "metadata": {},
   "outputs": [
    {
     "data": {
      "text/plain": [
       "0.6721556886227545"
      ]
     },
     "execution_count": 346,
     "metadata": {},
     "output_type": "execute_result"
    }
   ],
   "source": [
    "m_lr.score(x_train, y_train)"
   ]
  },
  {
   "cell_type": "code",
   "execution_count": 347,
   "id": "6b442551-1dd3-44da-977a-9e5a828e61cc",
   "metadata": {},
   "outputs": [
    {
     "data": {
      "text/plain": [
       "0.6995515695067265"
      ]
     },
     "execution_count": 347,
     "metadata": {},
     "output_type": "execute_result"
    }
   ],
   "source": [
    "m_lr.score(x_test, y_test)"
   ]
  },
  {
   "cell_type": "markdown",
   "id": "c3363e0d-c50c-47b5-8f7b-ab4441dd0349",
   "metadata": {},
   "source": [
    "What are these? These are the parameters of the model.<br>\n",
    "Applied linearly on the features and used in the sigmoid function to obtain probabilities.<br>\n",
    "w0: Intercept is the bias, w1: Weight or coefficient array, same dimension as n of features"
   ]
  },
  {
   "cell_type": "code",
   "execution_count": 348,
   "id": "8c86a42a-c903-4d0d-a6ac-8b99f9981d9e",
   "metadata": {
    "tags": []
   },
   "outputs": [
    {
     "data": {
      "text/plain": [
       "(array([1.42232912]), array([[-0.82824476]]), 1)"
      ]
     },
     "execution_count": 348,
     "metadata": {},
     "output_type": "execute_result"
    }
   ],
   "source": [
    "m_lr.intercept_, m_lr.coef_, m_lr.n_features_in_"
   ]
  },
  {
   "cell_type": "code",
   "execution_count": 349,
   "id": "edfec04b-7ca3-45ac-b616-ccf737c932b9",
   "metadata": {},
   "outputs": [],
   "source": [
    "w0 = m_lr.intercept_[0]\n",
    "w1 = m_lr.coef_[0,0] "
   ]
  },
  {
   "cell_type": "code",
   "execution_count": 350,
   "id": "e0474e9e",
   "metadata": {},
   "outputs": [
    {
     "data": {
      "text/plain": [
       "(1.4223291236335902, -0.8282447621488357)"
      ]
     },
     "execution_count": 350,
     "metadata": {},
     "output_type": "execute_result"
    }
   ],
   "source": [
    "w0, w1"
   ]
  },
  {
   "cell_type": "markdown",
   "id": "78a61622-ccfe-4b2e-b20d-d08f20eaa949",
   "metadata": {},
   "source": [
    "Let's visualize the model function used in this case: Incomplete"
   ]
  },
  {
   "cell_type": "code",
   "execution_count": 351,
   "id": "3205ec0c-f94e-4f5a-94bc-402c0e6efdb8",
   "metadata": {},
   "outputs": [],
   "source": [
    "x = np.linspace(-10, 10, 201)"
   ]
  },
  {
   "cell_type": "code",
   "execution_count": 352,
   "id": "ce460841-d96c-431d-b208-9efb8955f5ba",
   "metadata": {},
   "outputs": [
    {
     "data": {
      "text/plain": [
       "[<matplotlib.lines.Line2D at 0x1e0de220df0>]"
      ]
     },
     "execution_count": 352,
     "metadata": {},
     "output_type": "execute_result"
    },
    {
     "data": {
      "image/png": "[encoded data removed]",
      "text/plain": [
       "<Figure size 432x288 with 1 Axes>"
      ]
     },
     "metadata": {
      "needs_background": "light"
     },
     "output_type": "display_data"
    }
   ],
   "source": [
    "plt.plot(x, sigmoid(w1, w0, x))"
   ]
  },
  {
   "cell_type": "markdown",
   "id": "c713c610-0187-47ce-94df-0eb7166f65b7",
   "metadata": {},
   "source": [
    "This model will assign the following probabilities:\n",
    "Class 1: sigmoid (m, b, 1)\n",
    "Class 2: sigmoid (m, b, 2)"
   ]
  },
  {
   "cell_type": "markdown",
   "id": "49961ee9-5ad5-4027-b208-b14888b9e57f",
   "metadata": {},
   "source": [
    "Calculate the probabilities for your data points belonging to the positive class (Survived=1)"
   ]
  },
  {
   "cell_type": "code",
   "execution_count": 353,
   "id": "17796d07",
   "metadata": {},
   "outputs": [
    {
     "data": {
      "text/plain": [
       "(0.6443017381478419, 0.44172592608565053, 0.2568500933143307)"
      ]
     },
     "execution_count": 353,
     "metadata": {},
     "output_type": "execute_result"
    }
   ],
   "source": [
    "sigmoid(w1,w0,1), sigmoid(w1,w0,2), sigmoid(w1,w0,3)"
   ]
  },
  {
   "cell_type": "code",
   "execution_count": 361,
   "id": "ccfaf459",
   "metadata": {},
   "outputs": [
    {
     "data": {
      "text/plain": [
       "0    3\n",
       "1    2\n",
       "2    2\n",
       "3    3\n",
       "4    2\n",
       "5    1\n",
       "Name: 0, dtype: object"
      ]
     },
     "execution_count": 361,
     "metadata": {},
     "output_type": "execute_result"
    }
   ],
   "source": [
    "pd.DataFrame(x_test).iloc[0:6,0]"
   ]
  },
  {
   "cell_type": "code",
   "execution_count": 363,
   "id": "1421cd9f-0645-4ddd-a66e-89cf35bea420",
   "metadata": {
    "scrolled": false
   },
   "outputs": [
    {
     "data": {
      "text/plain": [
       "array([[0.74, 0.26],\n",
       "       [0.56, 0.44],\n",
       "       [0.56, 0.44],\n",
       "       [0.74, 0.26],\n",
       "       [0.56, 0.44],\n",
       "       [0.36, 0.64]])"
      ]
     },
     "execution_count": 363,
     "metadata": {},
     "output_type": "execute_result"
    }
   ],
   "source": [
    "m_lr.predict_proba(x_test).round(2)[0:6,:]"
   ]
  },
  {
   "cell_type": "code",
   "execution_count": 364,
   "id": "4e64f36d",
   "metadata": {},
   "outputs": [],
   "source": [
    "# Manual calculation and Logistic Regression bring the same results"
   ]
  },
  {
   "cell_type": "markdown",
   "id": "f93cbbaa-c313-4848-b0d4-26eec8afa3d1",
   "metadata": {},
   "source": [
    "Which where the thresholds in my calculation?"
   ]
  },
  {
   "cell_type": "code",
   "execution_count": 365,
   "id": "64f92db1",
   "metadata": {
    "scrolled": false
   },
   "outputs": [
    {
     "data": {
      "text/plain": [
       "0.5"
      ]
     },
     "execution_count": 365,
     "metadata": {},
     "output_type": "execute_result"
    }
   ],
   "source": [
    "sigmoid(w1,w0,-w0/w1) #solve prob equation to x with prob=0.5"
   ]
  },
  {
   "cell_type": "code",
   "execution_count": 366,
   "id": "9cda2330",
   "metadata": {},
   "outputs": [
    {
     "data": {
      "text/plain": [
       "1.72"
      ]
     },
     "execution_count": 366,
     "metadata": {},
     "output_type": "execute_result"
    }
   ],
   "source": [
    "(-w0/w1).round(2)"
   ]
  },
  {
   "cell_type": "markdown",
   "id": "7b58be7c-ecb8-40e7-b93c-82608dce08b4",
   "metadata": {},
   "source": [
    "Suppose you classify all points with a probability > 0.9 as positive.<br>\n",
    "- How does the result of your prediction change?\n",
    "- How does it change if you change the threshold to > 0.1?"
   ]
  },
  {
   "cell_type": "markdown",
   "id": "d3209f77",
   "metadata": {},
   "source": [
    "This is a question about evaluating classifiers\n",
    "evaluate ROC and AUC for different probabiliy thresholds [0,1]"
   ]
  },
  {
   "cell_type": "code",
   "execution_count": 367,
   "id": "3988a009",
   "metadata": {},
   "outputs": [
    {
     "data": {
      "text/plain": [
       "array([0, 0, 0, 0, 0, 1, 0, 0, 1, 0, 1, 0, 1, 0, 0, 0, 0, 1, 0, 0, 0, 0,\n",
       "       0, 0, 1, 1, 0, 0, 0, 0, 0, 0, 0, 1, 1, 0, 0, 1, 0, 0, 0, 0, 0, 0,\n",
       "       0, 0, 0, 0, 1, 0, 0, 1, 1, 1, 0, 1, 0, 0, 1, 0, 0, 0, 0, 0, 0, 1,\n",
       "       0, 1, 0, 1, 1, 1, 0, 0, 0, 0, 0, 0, 0, 0, 0, 0, 1, 0, 0, 0, 0, 0,\n",
       "       0, 0, 0, 0, 0, 0, 1, 0, 0, 0, 0, 0, 0, 1, 1, 0, 1, 1, 0, 0, 0, 0,\n",
       "       0, 0, 0, 0, 0, 0, 0, 0, 1, 0, 0, 0, 1, 0, 0, 1, 0, 0, 0, 1, 0, 0,\n",
       "       0, 0, 0, 0, 0, 1, 0, 0, 0, 0, 0, 0, 0, 0, 0, 1, 0, 0, 1, 0, 0, 0,\n",
       "       1, 0, 0, 0, 0, 0, 0, 0, 0, 0, 0, 0, 0, 0, 0, 0, 0, 1, 1, 0, 1, 0,\n",
       "       0, 0, 1, 0, 0, 0, 0, 0, 0, 1, 0, 1, 1, 1, 1, 0, 0, 0, 0, 1, 1, 0,\n",
       "       1, 1, 1, 0, 0, 0, 0, 1, 0, 0, 0, 0, 0, 0, 0, 0, 0, 1, 0, 0, 0, 0,\n",
       "       0, 0, 1], dtype=int64)"
      ]
     },
     "execution_count": 367,
     "metadata": {},
     "output_type": "execute_result"
    }
   ],
   "source": [
    "m_lr.predict(x_test)"
   ]
  },
  {
   "cell_type": "code",
   "execution_count": 368,
   "id": "62fe4508",
   "metadata": {},
   "outputs": [],
   "source": [
    "y_pred=m_lr.predict(x_test)"
   ]
  },
  {
   "cell_type": "markdown",
   "id": "52bb30f5",
   "metadata": {},
   "source": [
    "### 2.2 Evaluating LogReg Model"
   ]
  },
  {
   "cell_type": "code",
   "execution_count": 369,
   "id": "f76f7505",
   "metadata": {},
   "outputs": [],
   "source": [
    "# let's start with the confusion matrix"
   ]
  },
  {
   "cell_type": "code",
   "execution_count": 370,
   "id": "88ea32dc",
   "metadata": {},
   "outputs": [
    {
     "data": {
      "text/plain": [
       "array([[123,  19],\n",
       "       [ 48,  33]], dtype=int64)"
      ]
     },
     "execution_count": 370,
     "metadata": {},
     "output_type": "execute_result"
    }
   ],
   "source": [
    "confusion_matrix(y_true=y_test,y_pred=y_pred)"
   ]
  },
  {
   "cell_type": "code",
   "execution_count": 371,
   "id": "d1b045a2",
   "metadata": {},
   "outputs": [
    {
     "data": {
      "text/plain": [
       "<sklearn.metrics._plot.confusion_matrix.ConfusionMatrixDisplay at 0x1e0de244fa0>"
      ]
     },
     "execution_count": 371,
     "metadata": {},
     "output_type": "execute_result"
    },
    {
     "data": {
      "image/png": "[encoded data removed]",
      "text/plain": [
       "<Figure size 432x288 with 2 Axes>"
      ]
     },
     "metadata": {
      "needs_background": "light"
     },
     "output_type": "display_data"
    }
   ],
   "source": [
    "plot_confusion_matrix(m_lr,x_test, y_test,normalize=None)"
   ]
  },
  {
   "cell_type": "markdown",
   "id": "7c9bec46",
   "metadata": {},
   "source": [
    "### Performance Metrics"
   ]
  },
  {
   "cell_type": "code",
   "execution_count": 372,
   "id": "32b852a3",
   "metadata": {},
   "outputs": [],
   "source": [
    "# accuracy: (tp+tn)/(tp+fp+tn+fn)=(40+109)/(40+19+109+55)=0.66816"
   ]
  },
  {
   "cell_type": "code",
   "execution_count": 373,
   "id": "03a826b6",
   "metadata": {},
   "outputs": [
    {
     "data": {
      "text/plain": [
       "0.6995515695067265"
      ]
     },
     "execution_count": 373,
     "metadata": {},
     "output_type": "execute_result"
    }
   ],
   "source": [
    "accuracy_score(y_test, y_pred)"
   ]
  },
  {
   "cell_type": "code",
   "execution_count": 374,
   "id": "04ad9a83",
   "metadata": {},
   "outputs": [
    {
     "data": {
      "text/plain": [
       "0.6346153846153846"
      ]
     },
     "execution_count": 374,
     "metadata": {},
     "output_type": "execute_result"
    }
   ],
   "source": [
    "precision_score(y_test, y_pred)"
   ]
  },
  {
   "cell_type": "code",
   "execution_count": 375,
   "id": "eb3a674f",
   "metadata": {},
   "outputs": [
    {
     "data": {
      "text/plain": [
       "0.4074074074074074"
      ]
     },
     "execution_count": 375,
     "metadata": {},
     "output_type": "execute_result"
    }
   ],
   "source": [
    "recall_score(y_test, y_pred)"
   ]
  },
  {
   "cell_type": "code",
   "execution_count": 376,
   "id": "3837679a",
   "metadata": {},
   "outputs": [
    {
     "data": {
      "text/plain": [
       "0.4962406015037593"
      ]
     },
     "execution_count": 376,
     "metadata": {},
     "output_type": "execute_result"
    }
   ],
   "source": [
    "f1_score(y_test,y_pred)"
   ]
  },
  {
   "cell_type": "code",
   "execution_count": 377,
   "id": "eb6790a5",
   "metadata": {},
   "outputs": [
    {
     "data": {
      "text/plain": [
       "<sklearn.metrics._plot.roc_curve.RocCurveDisplay at 0x1e0ddd8de80>"
      ]
     },
     "execution_count": 377,
     "metadata": {},
     "output_type": "execute_result"
    },
    {
     "data": {
      "image/png": "[encoded data removed]",
      "text/plain": [
       "<Figure size 432x288 with 1 Axes>"
      ]
     },
     "metadata": {
      "needs_background": "light"
     },
     "output_type": "display_data"
    }
   ],
   "source": [
    "# plot ROC\n",
    "plot_roc_curve(m_lr,x_test,y_test)"
   ]
  },
  {
   "cell_type": "code",
   "execution_count": 378,
   "id": "a450984c",
   "metadata": {},
   "outputs": [],
   "source": [
    "# AUC"
   ]
  },
  {
   "cell_type": "code",
   "execution_count": 379,
   "id": "3f381a68",
   "metadata": {},
   "outputs": [
    {
     "data": {
      "text/plain": [
       "array([[0.74, 0.26],\n",
       "       [0.56, 0.44],\n",
       "       [0.56, 0.44]])"
      ]
     },
     "execution_count": 379,
     "metadata": {},
     "output_type": "execute_result"
    }
   ],
   "source": [
    "probs = m_lr.predict_proba(x_test) \n",
    "probs.round(2)[:3,:]"
   ]
  },
  {
   "cell_type": "code",
   "execution_count": 380,
   "id": "b9193bd5",
   "metadata": {},
   "outputs": [],
   "source": [
    "fpr, tpr, threshold = roc_curve(y_test, probs[:,1]);"
   ]
  },
  {
   "cell_type": "code",
   "execution_count": 381,
   "id": "d1b3e7d7",
   "metadata": {},
   "outputs": [
    {
     "name": "stdout",
     "output_type": "stream",
     "text": [
      "Area under the curve =  0.6862284820031298\n"
     ]
    }
   ],
   "source": [
    "auc_score = auc(fpr, tpr)\n",
    "print(\"Area under the curve = \",auc_score)"
   ]
  },
  {
   "cell_type": "markdown",
   "id": "1ea292f2",
   "metadata": {},
   "source": [
    "Find out the threshhold: max(tpr-fpr)"
   ]
  },
  {
   "cell_type": "code",
   "execution_count": 382,
   "id": "6979ebb9",
   "metadata": {},
   "outputs": [
    {
     "data": {
      "text/plain": [
       "2"
      ]
     },
     "execution_count": 382,
     "metadata": {},
     "output_type": "execute_result"
    }
   ],
   "source": [
    "max_index = np.argmax(tpr - fpr)\n",
    "max_index"
   ]
  },
  {
   "cell_type": "code",
   "execution_count": 384,
   "id": "5c38b779",
   "metadata": {},
   "outputs": [
    {
     "data": {
      "text/plain": [
       "0.44172592608565053"
      ]
     },
     "execution_count": 384,
     "metadata": {},
     "output_type": "execute_result"
    }
   ],
   "source": [
    "threshold[max_index] #optimal prob for classifying for the positive class"
   ]
  },
  {
   "cell_type": "markdown",
   "id": "f813129f",
   "metadata": {},
   "source": [
    "Really bad"
   ]
  },
  {
   "cell_type": "code",
   "execution_count": 385,
   "id": "6fc12bb0",
   "metadata": {},
   "outputs": [],
   "source": [
    "# Pclass still needs to be oh-encoded, scaled for LogReg"
   ]
  },
  {
   "cell_type": "code",
   "execution_count": 386,
   "id": "a68aa763",
   "metadata": {},
   "outputs": [],
   "source": [
    "# other things to vary\n",
    "# hyperparameter: penalty\n",
    "# class weigth"
   ]
  },
  {
   "cell_type": "markdown",
   "id": "352ea089-ca29-4f32-ae3b-49a743310b9a",
   "metadata": {},
   "source": [
    "### 2.2 Cross Validation"
   ]
  },
  {
   "cell_type": "code",
   "execution_count": 387,
   "id": "7056d427-d5a4-4d94-b527-8c7b70981a7f",
   "metadata": {},
   "outputs": [],
   "source": [
    "# train-test split was chosen for this project"
   ]
  },
  {
   "cell_type": "markdown",
   "id": "624720d0-97f9-4f85-aad1-c3cbe361ee4e",
   "metadata": {},
   "source": [
    "### 2.3 Decision Tree Classifier with sklearn"
   ]
  },
  {
   "cell_type": "markdown",
   "id": "ad3f079d-aeeb-4f82-919b-7215eaa9925d",
   "metadata": {},
   "source": [
    "Trial with one feature is not so meaningful"
   ]
  },
  {
   "cell_type": "code",
   "execution_count": 388,
   "id": "956fbf49-cdce-4c76-98a0-cfaae8fa6b9f",
   "metadata": {},
   "outputs": [],
   "source": [
    "m_dt = DecisionTreeClassifier(max_depth=3)"
   ]
  },
  {
   "cell_type": "code",
   "execution_count": 389,
   "id": "1d907b84-9319-4e2a-807b-8f455276b9df",
   "metadata": {},
   "outputs": [
    {
     "data": {
      "text/plain": [
       "DecisionTreeClassifier(max_depth=3)"
      ]
     },
     "execution_count": 389,
     "metadata": {},
     "output_type": "execute_result"
    }
   ],
   "source": [
    "m_dt.fit(x_train, y_train)"
   ]
  },
  {
   "cell_type": "code",
   "execution_count": 390,
   "id": "cacde6eb-d9a6-4bbf-b446-784912c29e79",
   "metadata": {},
   "outputs": [],
   "source": [
    "y_pred = m_dt.predict(x_test)"
   ]
  },
  {
   "cell_type": "code",
   "execution_count": 391,
   "id": "edd63eb9-578e-4882-ae63-2727366e955b",
   "metadata": {},
   "outputs": [
    {
     "data": {
      "text/plain": [
       "0.6721556886227545"
      ]
     },
     "execution_count": 391,
     "metadata": {},
     "output_type": "execute_result"
    }
   ],
   "source": [
    "m_dt.score(x_train,y_train)"
   ]
  },
  {
   "cell_type": "code",
   "execution_count": 392,
   "id": "f3e964e5-2ca6-4d4b-a8b9-39dcb80d80bc",
   "metadata": {},
   "outputs": [
    {
     "data": {
      "text/plain": [
       "0.6995515695067265"
      ]
     },
     "execution_count": 392,
     "metadata": {},
     "output_type": "execute_result"
    }
   ],
   "source": [
    "m_dt.score(x_test,y_test)"
   ]
  },
  {
   "cell_type": "code",
   "execution_count": 393,
   "id": "5ca84218",
   "metadata": {},
   "outputs": [
    {
     "data": {
      "text/plain": [
       "DecisionTreeClassifier(max_depth=3)"
      ]
     },
     "execution_count": 393,
     "metadata": {},
     "output_type": "execute_result"
    }
   ],
   "source": [
    "m_dt.fit(x_train,y_train)"
   ]
  },
  {
   "cell_type": "code",
   "execution_count": 394,
   "id": "3d4c533d",
   "metadata": {},
   "outputs": [],
   "source": [
    "y_pred = m_dt.predict(x_train)"
   ]
  },
  {
   "cell_type": "code",
   "execution_count": 395,
   "id": "a4b7d0cb",
   "metadata": {},
   "outputs": [
    {
     "data": {
      "text/plain": [
       "[Text(200.88000000000002, 181.2, 'Pclass <= 2.5\\ngini = 0.476\\nsamples = 668\\nvalue = [407, 261]\\nclass = Died'),\n",
       " Text(133.92000000000002, 108.72, 'Pclass <= 1.5\\ngini = 0.492\\nsamples = 304\\nvalue = [133, 171]\\nclass = Survived'),\n",
       " Text(66.96000000000001, 36.23999999999998, 'gini = 0.467\\nsamples = 164\\nvalue = [61, 103]\\nclass = Survived'),\n",
       " Text(200.88000000000002, 36.23999999999998, 'gini = 0.5\\nsamples = 140\\nvalue = [72, 68]\\nclass = Died'),\n",
       " Text(267.84000000000003, 108.72, 'gini = 0.372\\nsamples = 364\\nvalue = [274, 90]\\nclass = Died')]"
      ]
     },
     "execution_count": 395,
     "metadata": {},
     "output_type": "execute_result"
    },
    {
     "data": {
      "image/png": "[encoded data removed]",
      "text/plain": [
       "<Figure size 432x288 with 1 Axes>"
      ]
     },
     "metadata": {
      "needs_background": "light"
     },
     "output_type": "display_data"
    }
   ],
   "source": [
    "plt.figure()\n",
    "plot_tree(m_dt, filled=True, feature_names=['Pclass'], class_names=['Died','Survived'])"
   ]
  }
 ],
 "metadata": {
  "kernelspec": {
   "display_name": "Python 3 (ipykernel)",
   "language": "python",
   "name": "python3"
  },
  "language_info": {
   "codemirror_mode": {
    "name": "ipython",
    "version": 3
   },
   "file_extension": ".py",
   "mimetype": "text/x-python",
   "name": "python",
   "nbconvert_exporter": "python",
   "pygments_lexer": "ipython3",
   "version": "3.9.7"
  }
 },
 "nbformat": 4,
 "nbformat_minor": 5
}
